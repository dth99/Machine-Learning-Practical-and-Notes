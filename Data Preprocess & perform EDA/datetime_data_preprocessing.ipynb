{
 "cells": [
  {
   "cell_type": "markdown",
   "id": "d5e38c43",
   "metadata": {},
   "source": [
    "# Data Pre-Processing --- Date-Time Column "
   ]
  },
  {
   "cell_type": "code",
   "execution_count": 1,
   "id": "129c04dd",
   "metadata": {},
   "outputs": [],
   "source": [
    "import pandas as pd\n",
    "import numpy as np\n",
    "import matplotlib.pyplot as plt"
   ]
  },
  {
   "cell_type": "code",
   "execution_count": 2,
   "id": "9d5af91e",
   "metadata": {},
   "outputs": [],
   "source": [
    "df = pd.read_csv('KaggleV2-May-2016.csv')"
   ]
  },
  {
   "cell_type": "code",
   "execution_count": 3,
   "id": "0928b2de",
   "metadata": {},
   "outputs": [
    {
     "data": {
      "text/html": [
       "<div>\n",
       "<style scoped>\n",
       "    .dataframe tbody tr th:only-of-type {\n",
       "        vertical-align: middle;\n",
       "    }\n",
       "\n",
       "    .dataframe tbody tr th {\n",
       "        vertical-align: top;\n",
       "    }\n",
       "\n",
       "    .dataframe thead th {\n",
       "        text-align: right;\n",
       "    }\n",
       "</style>\n",
       "<table border=\"1\" class=\"dataframe\">\n",
       "  <thead>\n",
       "    <tr style=\"text-align: right;\">\n",
       "      <th></th>\n",
       "      <th>PatientId</th>\n",
       "      <th>AppointmentID</th>\n",
       "      <th>Gender</th>\n",
       "      <th>ScheduledDay</th>\n",
       "      <th>AppointmentDay</th>\n",
       "      <th>Age</th>\n",
       "      <th>Neighbourhood</th>\n",
       "      <th>Scholarship</th>\n",
       "      <th>Hipertension</th>\n",
       "      <th>Diabetes</th>\n",
       "      <th>Alcoholism</th>\n",
       "      <th>Handcap</th>\n",
       "      <th>SMS_received</th>\n",
       "      <th>No-show</th>\n",
       "    </tr>\n",
       "  </thead>\n",
       "  <tbody>\n",
       "    <tr>\n",
       "      <th>0</th>\n",
       "      <td>2.987250e+13</td>\n",
       "      <td>5642903</td>\n",
       "      <td>F</td>\n",
       "      <td>2016-04-29T18:38:08Z</td>\n",
       "      <td>2016-04-29T00:00:00Z</td>\n",
       "      <td>62</td>\n",
       "      <td>JARDIM DA PENHA</td>\n",
       "      <td>0</td>\n",
       "      <td>1</td>\n",
       "      <td>0</td>\n",
       "      <td>0</td>\n",
       "      <td>0</td>\n",
       "      <td>0</td>\n",
       "      <td>No</td>\n",
       "    </tr>\n",
       "    <tr>\n",
       "      <th>1</th>\n",
       "      <td>5.589978e+14</td>\n",
       "      <td>5642503</td>\n",
       "      <td>M</td>\n",
       "      <td>2016-04-29T16:08:27Z</td>\n",
       "      <td>2016-04-29T00:00:00Z</td>\n",
       "      <td>56</td>\n",
       "      <td>JARDIM DA PENHA</td>\n",
       "      <td>0</td>\n",
       "      <td>0</td>\n",
       "      <td>0</td>\n",
       "      <td>0</td>\n",
       "      <td>0</td>\n",
       "      <td>0</td>\n",
       "      <td>No</td>\n",
       "    </tr>\n",
       "    <tr>\n",
       "      <th>2</th>\n",
       "      <td>4.262962e+12</td>\n",
       "      <td>5642549</td>\n",
       "      <td>F</td>\n",
       "      <td>2016-04-29T16:19:04Z</td>\n",
       "      <td>2016-04-29T00:00:00Z</td>\n",
       "      <td>62</td>\n",
       "      <td>MATA DA PRAIA</td>\n",
       "      <td>0</td>\n",
       "      <td>0</td>\n",
       "      <td>0</td>\n",
       "      <td>0</td>\n",
       "      <td>0</td>\n",
       "      <td>0</td>\n",
       "      <td>No</td>\n",
       "    </tr>\n",
       "    <tr>\n",
       "      <th>3</th>\n",
       "      <td>8.679512e+11</td>\n",
       "      <td>5642828</td>\n",
       "      <td>F</td>\n",
       "      <td>2016-04-29T17:29:31Z</td>\n",
       "      <td>2016-04-29T00:00:00Z</td>\n",
       "      <td>8</td>\n",
       "      <td>PONTAL DE CAMBURI</td>\n",
       "      <td>0</td>\n",
       "      <td>0</td>\n",
       "      <td>0</td>\n",
       "      <td>0</td>\n",
       "      <td>0</td>\n",
       "      <td>0</td>\n",
       "      <td>No</td>\n",
       "    </tr>\n",
       "    <tr>\n",
       "      <th>4</th>\n",
       "      <td>8.841186e+12</td>\n",
       "      <td>5642494</td>\n",
       "      <td>F</td>\n",
       "      <td>2016-04-29T16:07:23Z</td>\n",
       "      <td>2016-04-29T00:00:00Z</td>\n",
       "      <td>56</td>\n",
       "      <td>JARDIM DA PENHA</td>\n",
       "      <td>0</td>\n",
       "      <td>1</td>\n",
       "      <td>1</td>\n",
       "      <td>0</td>\n",
       "      <td>0</td>\n",
       "      <td>0</td>\n",
       "      <td>No</td>\n",
       "    </tr>\n",
       "  </tbody>\n",
       "</table>\n",
       "</div>"
      ],
      "text/plain": [
       "      PatientId  AppointmentID Gender          ScheduledDay  \\\n",
       "0  2.987250e+13        5642903      F  2016-04-29T18:38:08Z   \n",
       "1  5.589978e+14        5642503      M  2016-04-29T16:08:27Z   \n",
       "2  4.262962e+12        5642549      F  2016-04-29T16:19:04Z   \n",
       "3  8.679512e+11        5642828      F  2016-04-29T17:29:31Z   \n",
       "4  8.841186e+12        5642494      F  2016-04-29T16:07:23Z   \n",
       "\n",
       "         AppointmentDay  Age      Neighbourhood  Scholarship  Hipertension  \\\n",
       "0  2016-04-29T00:00:00Z   62    JARDIM DA PENHA            0             1   \n",
       "1  2016-04-29T00:00:00Z   56    JARDIM DA PENHA            0             0   \n",
       "2  2016-04-29T00:00:00Z   62      MATA DA PRAIA            0             0   \n",
       "3  2016-04-29T00:00:00Z    8  PONTAL DE CAMBURI            0             0   \n",
       "4  2016-04-29T00:00:00Z   56    JARDIM DA PENHA            0             1   \n",
       "\n",
       "   Diabetes  Alcoholism  Handcap  SMS_received No-show  \n",
       "0         0           0        0             0      No  \n",
       "1         0           0        0             0      No  \n",
       "2         0           0        0             0      No  \n",
       "3         0           0        0             0      No  \n",
       "4         1           0        0             0      No  "
      ]
     },
     "execution_count": 3,
     "metadata": {},
     "output_type": "execute_result"
    }
   ],
   "source": [
    "df.head()"
   ]
  },
  {
   "cell_type": "markdown",
   "id": "12faa5d4",
   "metadata": {},
   "source": [
    "## Date columns"
   ]
  },
  {
   "cell_type": "code",
   "execution_count": 6,
   "id": "82d81650",
   "metadata": {},
   "outputs": [
    {
     "data": {
      "text/html": [
       "<div>\n",
       "<style scoped>\n",
       "    .dataframe tbody tr th:only-of-type {\n",
       "        vertical-align: middle;\n",
       "    }\n",
       "\n",
       "    .dataframe tbody tr th {\n",
       "        vertical-align: top;\n",
       "    }\n",
       "\n",
       "    .dataframe thead th {\n",
       "        text-align: right;\n",
       "    }\n",
       "</style>\n",
       "<table border=\"1\" class=\"dataframe\">\n",
       "  <thead>\n",
       "    <tr style=\"text-align: right;\">\n",
       "      <th></th>\n",
       "      <th>ScheduledDay</th>\n",
       "      <th>AppointmentDay</th>\n",
       "    </tr>\n",
       "  </thead>\n",
       "  <tbody>\n",
       "    <tr>\n",
       "      <th>0</th>\n",
       "      <td>2016-04-29T18:38:08Z</td>\n",
       "      <td>2016-04-29T00:00:00Z</td>\n",
       "    </tr>\n",
       "    <tr>\n",
       "      <th>1</th>\n",
       "      <td>2016-04-29T16:08:27Z</td>\n",
       "      <td>2016-04-29T00:00:00Z</td>\n",
       "    </tr>\n",
       "    <tr>\n",
       "      <th>2</th>\n",
       "      <td>2016-04-29T16:19:04Z</td>\n",
       "      <td>2016-04-29T00:00:00Z</td>\n",
       "    </tr>\n",
       "    <tr>\n",
       "      <th>3</th>\n",
       "      <td>2016-04-29T17:29:31Z</td>\n",
       "      <td>2016-04-29T00:00:00Z</td>\n",
       "    </tr>\n",
       "    <tr>\n",
       "      <th>4</th>\n",
       "      <td>2016-04-29T16:07:23Z</td>\n",
       "      <td>2016-04-29T00:00:00Z</td>\n",
       "    </tr>\n",
       "    <tr>\n",
       "      <th>...</th>\n",
       "      <td>...</td>\n",
       "      <td>...</td>\n",
       "    </tr>\n",
       "    <tr>\n",
       "      <th>110522</th>\n",
       "      <td>2016-05-03T09:15:35Z</td>\n",
       "      <td>2016-06-07T00:00:00Z</td>\n",
       "    </tr>\n",
       "    <tr>\n",
       "      <th>110523</th>\n",
       "      <td>2016-05-03T07:27:33Z</td>\n",
       "      <td>2016-06-07T00:00:00Z</td>\n",
       "    </tr>\n",
       "    <tr>\n",
       "      <th>110524</th>\n",
       "      <td>2016-04-27T16:03:52Z</td>\n",
       "      <td>2016-06-07T00:00:00Z</td>\n",
       "    </tr>\n",
       "    <tr>\n",
       "      <th>110525</th>\n",
       "      <td>2016-04-27T15:09:23Z</td>\n",
       "      <td>2016-06-07T00:00:00Z</td>\n",
       "    </tr>\n",
       "    <tr>\n",
       "      <th>110526</th>\n",
       "      <td>2016-04-27T13:30:56Z</td>\n",
       "      <td>2016-06-07T00:00:00Z</td>\n",
       "    </tr>\n",
       "  </tbody>\n",
       "</table>\n",
       "<p>110527 rows × 2 columns</p>\n",
       "</div>"
      ],
      "text/plain": [
       "                ScheduledDay        AppointmentDay\n",
       "0       2016-04-29T18:38:08Z  2016-04-29T00:00:00Z\n",
       "1       2016-04-29T16:08:27Z  2016-04-29T00:00:00Z\n",
       "2       2016-04-29T16:19:04Z  2016-04-29T00:00:00Z\n",
       "3       2016-04-29T17:29:31Z  2016-04-29T00:00:00Z\n",
       "4       2016-04-29T16:07:23Z  2016-04-29T00:00:00Z\n",
       "...                      ...                   ...\n",
       "110522  2016-05-03T09:15:35Z  2016-06-07T00:00:00Z\n",
       "110523  2016-05-03T07:27:33Z  2016-06-07T00:00:00Z\n",
       "110524  2016-04-27T16:03:52Z  2016-06-07T00:00:00Z\n",
       "110525  2016-04-27T15:09:23Z  2016-06-07T00:00:00Z\n",
       "110526  2016-04-27T13:30:56Z  2016-06-07T00:00:00Z\n",
       "\n",
       "[110527 rows x 2 columns]"
      ]
     },
     "execution_count": 6,
     "metadata": {},
     "output_type": "execute_result"
    }
   ],
   "source": [
    "df[['ScheduledDay','AppointmentDay']]"
   ]
  },
  {
   "cell_type": "markdown",
   "id": "918e05b0",
   "metadata": {},
   "source": [
    "### converting in '%Y-%m-%dT%H:%M:%SZ' format"
   ]
  },
  {
   "cell_type": "code",
   "execution_count": 9,
   "id": "c15f65b8",
   "metadata": {},
   "outputs": [],
   "source": [
    "df['ScheduledDay'] = pd.to_datetime(df['ScheduledDay'],format='%Y-%m-%dT%H:%M:%SZ', errors='coerce')\n",
    "df['AppointmentDay']= pd.to_datetime(df['AppointmentDay'],format='%Y-%m-%dT%H:%M:%SZ',errors='coerce')"
   ]
  },
  {
   "cell_type": "code",
   "execution_count": 10,
   "id": "4c2045ea",
   "metadata": {},
   "outputs": [
    {
     "data": {
      "text/html": [
       "<div>\n",
       "<style scoped>\n",
       "    .dataframe tbody tr th:only-of-type {\n",
       "        vertical-align: middle;\n",
       "    }\n",
       "\n",
       "    .dataframe tbody tr th {\n",
       "        vertical-align: top;\n",
       "    }\n",
       "\n",
       "    .dataframe thead th {\n",
       "        text-align: right;\n",
       "    }\n",
       "</style>\n",
       "<table border=\"1\" class=\"dataframe\">\n",
       "  <thead>\n",
       "    <tr style=\"text-align: right;\">\n",
       "      <th></th>\n",
       "      <th>ScheduledDay</th>\n",
       "      <th>AppointmentDay</th>\n",
       "    </tr>\n",
       "  </thead>\n",
       "  <tbody>\n",
       "    <tr>\n",
       "      <th>0</th>\n",
       "      <td>2016-04-29 18:38:08</td>\n",
       "      <td>2016-04-29</td>\n",
       "    </tr>\n",
       "    <tr>\n",
       "      <th>1</th>\n",
       "      <td>2016-04-29 16:08:27</td>\n",
       "      <td>2016-04-29</td>\n",
       "    </tr>\n",
       "    <tr>\n",
       "      <th>2</th>\n",
       "      <td>2016-04-29 16:19:04</td>\n",
       "      <td>2016-04-29</td>\n",
       "    </tr>\n",
       "    <tr>\n",
       "      <th>3</th>\n",
       "      <td>2016-04-29 17:29:31</td>\n",
       "      <td>2016-04-29</td>\n",
       "    </tr>\n",
       "    <tr>\n",
       "      <th>4</th>\n",
       "      <td>2016-04-29 16:07:23</td>\n",
       "      <td>2016-04-29</td>\n",
       "    </tr>\n",
       "    <tr>\n",
       "      <th>...</th>\n",
       "      <td>...</td>\n",
       "      <td>...</td>\n",
       "    </tr>\n",
       "    <tr>\n",
       "      <th>110522</th>\n",
       "      <td>2016-05-03 09:15:35</td>\n",
       "      <td>2016-06-07</td>\n",
       "    </tr>\n",
       "    <tr>\n",
       "      <th>110523</th>\n",
       "      <td>2016-05-03 07:27:33</td>\n",
       "      <td>2016-06-07</td>\n",
       "    </tr>\n",
       "    <tr>\n",
       "      <th>110524</th>\n",
       "      <td>2016-04-27 16:03:52</td>\n",
       "      <td>2016-06-07</td>\n",
       "    </tr>\n",
       "    <tr>\n",
       "      <th>110525</th>\n",
       "      <td>2016-04-27 15:09:23</td>\n",
       "      <td>2016-06-07</td>\n",
       "    </tr>\n",
       "    <tr>\n",
       "      <th>110526</th>\n",
       "      <td>2016-04-27 13:30:56</td>\n",
       "      <td>2016-06-07</td>\n",
       "    </tr>\n",
       "  </tbody>\n",
       "</table>\n",
       "<p>110527 rows × 2 columns</p>\n",
       "</div>"
      ],
      "text/plain": [
       "              ScheduledDay AppointmentDay\n",
       "0      2016-04-29 18:38:08     2016-04-29\n",
       "1      2016-04-29 16:08:27     2016-04-29\n",
       "2      2016-04-29 16:19:04     2016-04-29\n",
       "3      2016-04-29 17:29:31     2016-04-29\n",
       "4      2016-04-29 16:07:23     2016-04-29\n",
       "...                    ...            ...\n",
       "110522 2016-05-03 09:15:35     2016-06-07\n",
       "110523 2016-05-03 07:27:33     2016-06-07\n",
       "110524 2016-04-27 16:03:52     2016-06-07\n",
       "110525 2016-04-27 15:09:23     2016-06-07\n",
       "110526 2016-04-27 13:30:56     2016-06-07\n",
       "\n",
       "[110527 rows x 2 columns]"
      ]
     },
     "execution_count": 10,
     "metadata": {},
     "output_type": "execute_result"
    }
   ],
   "source": [
    "df[['ScheduledDay','AppointmentDay']]"
   ]
  },
  {
   "cell_type": "code",
   "execution_count": 12,
   "id": "2e2edf53",
   "metadata": {},
   "outputs": [
    {
     "data": {
      "text/plain": [
       "0"
      ]
     },
     "execution_count": 12,
     "metadata": {},
     "output_type": "execute_result"
    }
   ],
   "source": [
    "df.ScheduledDay.isnull().sum()"
   ]
  },
  {
   "cell_type": "code",
   "execution_count": 13,
   "id": "cee7d83e",
   "metadata": {},
   "outputs": [
    {
     "data": {
      "text/plain": [
       "0   2016-04-29 18:38:08\n",
       "1   2016-04-29 16:08:27\n",
       "2   2016-04-29 16:19:04\n",
       "3   2016-04-29 17:29:31\n",
       "4   2016-04-29 16:07:23\n",
       "Name: ScheduledDay, dtype: datetime64[ns]"
      ]
     },
     "execution_count": 13,
     "metadata": {},
     "output_type": "execute_result"
    }
   ],
   "source": [
    "df.ScheduledDay.head()"
   ]
  },
  {
   "cell_type": "markdown",
   "id": "5881e595",
   "metadata": {},
   "source": [
    "### there are some appointments that were scheduled after the appointment datetime"
   ]
  },
  {
   "cell_type": "code",
   "execution_count": 15,
   "id": "54264f6b",
   "metadata": {},
   "outputs": [
    {
     "data": {
      "text/plain": [
       "38568"
      ]
     },
     "execution_count": 15,
     "metadata": {},
     "output_type": "execute_result"
    }
   ],
   "source": [
    "(df.ScheduledDay > df.AppointmentDay).sum()"
   ]
  },
  {
   "cell_type": "markdown",
   "id": "fbb4fdce",
   "metadata": {},
   "source": [
    "### shifting all the appointment times to the end of the day i.e. 23:59:59"
   ]
  },
  {
   "cell_type": "code",
   "execution_count": 17,
   "id": "ed9d155c",
   "metadata": {},
   "outputs": [],
   "source": [
    "df['AppointmentDay'] =df['AppointmentDay'] + pd.Timedelta('1d') - pd.Timedelta('1s')"
   ]
  },
  {
   "cell_type": "code",
   "execution_count": 18,
   "id": "a55dfbe5",
   "metadata": {},
   "outputs": [
    {
     "data": {
      "text/plain": [
       "0   2016-04-29 23:59:59\n",
       "1   2016-04-29 23:59:59\n",
       "2   2016-04-29 23:59:59\n",
       "3   2016-04-29 23:59:59\n",
       "4   2016-04-29 23:59:59\n",
       "Name: AppointmentDay, dtype: datetime64[ns]"
      ]
     },
     "execution_count": 18,
     "metadata": {},
     "output_type": "execute_result"
    }
   ],
   "source": [
    "df['AppointmentDay'].head()"
   ]
  },
  {
   "cell_type": "markdown",
   "id": "e1ee0908",
   "metadata": {},
   "source": [
    "## Only 5 rows weher scheduledDay time is after appointmentDay"
   ]
  },
  {
   "cell_type": "code",
   "execution_count": 19,
   "id": "10b57f88",
   "metadata": {},
   "outputs": [
    {
     "data": {
      "text/plain": [
       "5"
      ]
     },
     "execution_count": 19,
     "metadata": {},
     "output_type": "execute_result"
    }
   ],
   "source": [
    "(df.ScheduledDay > df.AppointmentDay).sum()"
   ]
  },
  {
   "cell_type": "markdown",
   "id": "cccd6790",
   "metadata": {},
   "source": [
    "### not considering those rows"
   ]
  },
  {
   "cell_type": "code",
   "execution_count": 22,
   "id": "c934d23a",
   "metadata": {},
   "outputs": [],
   "source": [
    "df1 = df.loc[(df['ScheduledDay']<df['AppointmentDay'])].copy()"
   ]
  },
  {
   "cell_type": "code",
   "execution_count": 23,
   "id": "7dd9d723",
   "metadata": {},
   "outputs": [
    {
     "data": {
      "text/html": [
       "<div>\n",
       "<style scoped>\n",
       "    .dataframe tbody tr th:only-of-type {\n",
       "        vertical-align: middle;\n",
       "    }\n",
       "\n",
       "    .dataframe tbody tr th {\n",
       "        vertical-align: top;\n",
       "    }\n",
       "\n",
       "    .dataframe thead th {\n",
       "        text-align: right;\n",
       "    }\n",
       "</style>\n",
       "<table border=\"1\" class=\"dataframe\">\n",
       "  <thead>\n",
       "    <tr style=\"text-align: right;\">\n",
       "      <th></th>\n",
       "      <th>ScheduledDay</th>\n",
       "      <th>AppointmentDay</th>\n",
       "      <th>No-show</th>\n",
       "    </tr>\n",
       "  </thead>\n",
       "  <tbody>\n",
       "    <tr>\n",
       "      <th>0</th>\n",
       "      <td>2016-04-29 18:38:08</td>\n",
       "      <td>2016-04-29 23:59:59</td>\n",
       "      <td>No</td>\n",
       "    </tr>\n",
       "    <tr>\n",
       "      <th>1</th>\n",
       "      <td>2016-04-29 16:08:27</td>\n",
       "      <td>2016-04-29 23:59:59</td>\n",
       "      <td>No</td>\n",
       "    </tr>\n",
       "    <tr>\n",
       "      <th>2</th>\n",
       "      <td>2016-04-29 16:19:04</td>\n",
       "      <td>2016-04-29 23:59:59</td>\n",
       "      <td>No</td>\n",
       "    </tr>\n",
       "    <tr>\n",
       "      <th>3</th>\n",
       "      <td>2016-04-29 17:29:31</td>\n",
       "      <td>2016-04-29 23:59:59</td>\n",
       "      <td>No</td>\n",
       "    </tr>\n",
       "    <tr>\n",
       "      <th>4</th>\n",
       "      <td>2016-04-29 16:07:23</td>\n",
       "      <td>2016-04-29 23:59:59</td>\n",
       "      <td>No</td>\n",
       "    </tr>\n",
       "    <tr>\n",
       "      <th>...</th>\n",
       "      <td>...</td>\n",
       "      <td>...</td>\n",
       "      <td>...</td>\n",
       "    </tr>\n",
       "    <tr>\n",
       "      <th>110522</th>\n",
       "      <td>2016-05-03 09:15:35</td>\n",
       "      <td>2016-06-07 23:59:59</td>\n",
       "      <td>No</td>\n",
       "    </tr>\n",
       "    <tr>\n",
       "      <th>110523</th>\n",
       "      <td>2016-05-03 07:27:33</td>\n",
       "      <td>2016-06-07 23:59:59</td>\n",
       "      <td>No</td>\n",
       "    </tr>\n",
       "    <tr>\n",
       "      <th>110524</th>\n",
       "      <td>2016-04-27 16:03:52</td>\n",
       "      <td>2016-06-07 23:59:59</td>\n",
       "      <td>No</td>\n",
       "    </tr>\n",
       "    <tr>\n",
       "      <th>110525</th>\n",
       "      <td>2016-04-27 15:09:23</td>\n",
       "      <td>2016-06-07 23:59:59</td>\n",
       "      <td>No</td>\n",
       "    </tr>\n",
       "    <tr>\n",
       "      <th>110526</th>\n",
       "      <td>2016-04-27 13:30:56</td>\n",
       "      <td>2016-06-07 23:59:59</td>\n",
       "      <td>No</td>\n",
       "    </tr>\n",
       "  </tbody>\n",
       "</table>\n",
       "<p>110522 rows × 3 columns</p>\n",
       "</div>"
      ],
      "text/plain": [
       "              ScheduledDay      AppointmentDay No-show\n",
       "0      2016-04-29 18:38:08 2016-04-29 23:59:59      No\n",
       "1      2016-04-29 16:08:27 2016-04-29 23:59:59      No\n",
       "2      2016-04-29 16:19:04 2016-04-29 23:59:59      No\n",
       "3      2016-04-29 17:29:31 2016-04-29 23:59:59      No\n",
       "4      2016-04-29 16:07:23 2016-04-29 23:59:59      No\n",
       "...                    ...                 ...     ...\n",
       "110522 2016-05-03 09:15:35 2016-06-07 23:59:59      No\n",
       "110523 2016-05-03 07:27:33 2016-06-07 23:59:59      No\n",
       "110524 2016-04-27 16:03:52 2016-06-07 23:59:59      No\n",
       "110525 2016-04-27 15:09:23 2016-06-07 23:59:59      No\n",
       "110526 2016-04-27 13:30:56 2016-06-07 23:59:59      No\n",
       "\n",
       "[110522 rows x 3 columns]"
      ]
     },
     "execution_count": 23,
     "metadata": {},
     "output_type": "execute_result"
    }
   ],
   "source": [
    "df1[['ScheduledDay','AppointmentDay','No-show']]"
   ]
  },
  {
   "cell_type": "markdown",
   "id": "a4a162eb",
   "metadata": {},
   "source": [
    "## Different datetime features\n",
    "\n",
    "- dt.year\n",
    "- dt.month\n",
    "- dt.day\n",
    "- dt.week\n",
    "- dt.hour\n",
    "- dt.minute\n",
    "- dt.dayofweek"
   ]
  },
  {
   "cell_type": "code",
   "execution_count": 27,
   "id": "5ca37a8d",
   "metadata": {},
   "outputs": [
    {
     "name": "stderr",
     "output_type": "stream",
     "text": [
      "C:\\Users\\deep9\\AppData\\Local\\Temp/ipykernel_2856/951423984.py:3: FutureWarning: Series.dt.weekofyear and Series.dt.week have been deprecated.  Please use Series.dt.isocalendar().week instead.\n",
      "  df1[\"ScheduledDay_week\"] = df1[\"ScheduledDay\"].dt.week\n",
      "C:\\Users\\deep9\\AppData\\Local\\Temp/ipykernel_2856/951423984.py:12: FutureWarning: Series.dt.weekofyear and Series.dt.week have been deprecated.  Please use Series.dt.isocalendar().week instead.\n",
      "  df1[\"AppointmentDay_week\"] = df1[\"AppointmentDay\"].dt.week\n"
     ]
    }
   ],
   "source": [
    "df1[\"ScheduledDay_year\"] = df1[\"ScheduledDay\"].dt.year\n",
    "df1[\"ScheduledDay_month\"] = df1[\"ScheduledDay\"].dt.month\n",
    "df1[\"ScheduledDay_week\"] = df1[\"ScheduledDay\"].dt.week\n",
    "df1[\"ScheduledDay_day\"] = df1[\"ScheduledDay\"].dt.day\n",
    "df1[\"ScheduledDay_hour\"] = df1[\"ScheduledDay\"].dt.hour\n",
    "df1[\"ScheduledDay_minute\"] = df1[\"ScheduledDay\"].dt.minute\n",
    "df1[\"ScheduledDay_dayofweek\"] = df1[\"ScheduledDay\"].dt.dayofweek\n",
    "\n",
    "\n",
    "df1[\"AppointmentDay_year\"] = df1[\"AppointmentDay\"].dt.year\n",
    "df1[\"AppointmentDay_month\"] = df1[\"AppointmentDay\"].dt.month\n",
    "df1[\"AppointmentDay_week\"] = df1[\"AppointmentDay\"].dt.week\n",
    "df1[\"AppointmentDay_day\"] = df1[\"AppointmentDay\"].dt.day\n",
    "df1[\"AppointmentDay_hour\"] = df1[\"AppointmentDay\"].dt.hour\n",
    "df1[\"AppointmentDay_minute\"] = df1[\"AppointmentDay\"].dt.minute\n",
    "df1[\"AppointmentDay_dayofweek\"] = df1[\"AppointmentDay\"].dt.dayofweek"
   ]
  },
  {
   "cell_type": "code",
   "execution_count": 28,
   "id": "98e9c75d",
   "metadata": {},
   "outputs": [
    {
     "data": {
      "text/plain": [
       "Index(['PatientId', 'AppointmentID', 'Gender', 'ScheduledDay',\n",
       "       'AppointmentDay', 'Age', 'Neighbourhood', 'Scholarship', 'Hipertension',\n",
       "       'Diabetes', 'Alcoholism', 'Handcap', 'SMS_received', 'No-show',\n",
       "       'ScheduledDay_year', 'ScheduledDay_month', 'ScheduledDay_week',\n",
       "       'ScheduledDay_day', 'ScheduledDay_hour', 'ScheduledDay_minute',\n",
       "       'ScheduledDay_dayofweek', 'AppointmentDay_year', 'AppointmentDay_month',\n",
       "       'AppointmentDay_week', 'AppointmentDay_day', 'AppointmentDay_hour',\n",
       "       'AppointmentDay_minute', 'AppointmentDay_dayofweek'],\n",
       "      dtype='object')"
      ]
     },
     "execution_count": 28,
     "metadata": {},
     "output_type": "execute_result"
    }
   ],
   "source": [
    "df1.columns"
   ]
  },
  {
   "cell_type": "code",
   "execution_count": 29,
   "id": "5e32488b",
   "metadata": {},
   "outputs": [
    {
     "data": {
      "text/html": [
       "<div>\n",
       "<style scoped>\n",
       "    .dataframe tbody tr th:only-of-type {\n",
       "        vertical-align: middle;\n",
       "    }\n",
       "\n",
       "    .dataframe tbody tr th {\n",
       "        vertical-align: top;\n",
       "    }\n",
       "\n",
       "    .dataframe thead th {\n",
       "        text-align: right;\n",
       "    }\n",
       "</style>\n",
       "<table border=\"1\" class=\"dataframe\">\n",
       "  <thead>\n",
       "    <tr style=\"text-align: right;\">\n",
       "      <th></th>\n",
       "      <th>ScheduledDay_year</th>\n",
       "      <th>ScheduledDay_month</th>\n",
       "      <th>ScheduledDay_week</th>\n",
       "      <th>ScheduledDay_day</th>\n",
       "      <th>ScheduledDay_hour</th>\n",
       "      <th>ScheduledDay_minute</th>\n",
       "      <th>ScheduledDay_dayofweek</th>\n",
       "      <th>AppointmentDay_year</th>\n",
       "      <th>AppointmentDay_month</th>\n",
       "      <th>AppointmentDay_week</th>\n",
       "      <th>AppointmentDay_day</th>\n",
       "      <th>AppointmentDay_hour</th>\n",
       "      <th>AppointmentDay_minute</th>\n",
       "      <th>AppointmentDay_dayofweek</th>\n",
       "    </tr>\n",
       "  </thead>\n",
       "  <tbody>\n",
       "    <tr>\n",
       "      <th>0</th>\n",
       "      <td>2016</td>\n",
       "      <td>4</td>\n",
       "      <td>17</td>\n",
       "      <td>29</td>\n",
       "      <td>18</td>\n",
       "      <td>38</td>\n",
       "      <td>4</td>\n",
       "      <td>2016</td>\n",
       "      <td>4</td>\n",
       "      <td>17</td>\n",
       "      <td>29</td>\n",
       "      <td>23</td>\n",
       "      <td>59</td>\n",
       "      <td>4</td>\n",
       "    </tr>\n",
       "    <tr>\n",
       "      <th>1</th>\n",
       "      <td>2016</td>\n",
       "      <td>4</td>\n",
       "      <td>17</td>\n",
       "      <td>29</td>\n",
       "      <td>16</td>\n",
       "      <td>8</td>\n",
       "      <td>4</td>\n",
       "      <td>2016</td>\n",
       "      <td>4</td>\n",
       "      <td>17</td>\n",
       "      <td>29</td>\n",
       "      <td>23</td>\n",
       "      <td>59</td>\n",
       "      <td>4</td>\n",
       "    </tr>\n",
       "    <tr>\n",
       "      <th>2</th>\n",
       "      <td>2016</td>\n",
       "      <td>4</td>\n",
       "      <td>17</td>\n",
       "      <td>29</td>\n",
       "      <td>16</td>\n",
       "      <td>19</td>\n",
       "      <td>4</td>\n",
       "      <td>2016</td>\n",
       "      <td>4</td>\n",
       "      <td>17</td>\n",
       "      <td>29</td>\n",
       "      <td>23</td>\n",
       "      <td>59</td>\n",
       "      <td>4</td>\n",
       "    </tr>\n",
       "    <tr>\n",
       "      <th>3</th>\n",
       "      <td>2016</td>\n",
       "      <td>4</td>\n",
       "      <td>17</td>\n",
       "      <td>29</td>\n",
       "      <td>17</td>\n",
       "      <td>29</td>\n",
       "      <td>4</td>\n",
       "      <td>2016</td>\n",
       "      <td>4</td>\n",
       "      <td>17</td>\n",
       "      <td>29</td>\n",
       "      <td>23</td>\n",
       "      <td>59</td>\n",
       "      <td>4</td>\n",
       "    </tr>\n",
       "    <tr>\n",
       "      <th>4</th>\n",
       "      <td>2016</td>\n",
       "      <td>4</td>\n",
       "      <td>17</td>\n",
       "      <td>29</td>\n",
       "      <td>16</td>\n",
       "      <td>7</td>\n",
       "      <td>4</td>\n",
       "      <td>2016</td>\n",
       "      <td>4</td>\n",
       "      <td>17</td>\n",
       "      <td>29</td>\n",
       "      <td>23</td>\n",
       "      <td>59</td>\n",
       "      <td>4</td>\n",
       "    </tr>\n",
       "    <tr>\n",
       "      <th>...</th>\n",
       "      <td>...</td>\n",
       "      <td>...</td>\n",
       "      <td>...</td>\n",
       "      <td>...</td>\n",
       "      <td>...</td>\n",
       "      <td>...</td>\n",
       "      <td>...</td>\n",
       "      <td>...</td>\n",
       "      <td>...</td>\n",
       "      <td>...</td>\n",
       "      <td>...</td>\n",
       "      <td>...</td>\n",
       "      <td>...</td>\n",
       "      <td>...</td>\n",
       "    </tr>\n",
       "    <tr>\n",
       "      <th>110522</th>\n",
       "      <td>2016</td>\n",
       "      <td>5</td>\n",
       "      <td>18</td>\n",
       "      <td>3</td>\n",
       "      <td>9</td>\n",
       "      <td>15</td>\n",
       "      <td>1</td>\n",
       "      <td>2016</td>\n",
       "      <td>6</td>\n",
       "      <td>23</td>\n",
       "      <td>7</td>\n",
       "      <td>23</td>\n",
       "      <td>59</td>\n",
       "      <td>1</td>\n",
       "    </tr>\n",
       "    <tr>\n",
       "      <th>110523</th>\n",
       "      <td>2016</td>\n",
       "      <td>5</td>\n",
       "      <td>18</td>\n",
       "      <td>3</td>\n",
       "      <td>7</td>\n",
       "      <td>27</td>\n",
       "      <td>1</td>\n",
       "      <td>2016</td>\n",
       "      <td>6</td>\n",
       "      <td>23</td>\n",
       "      <td>7</td>\n",
       "      <td>23</td>\n",
       "      <td>59</td>\n",
       "      <td>1</td>\n",
       "    </tr>\n",
       "    <tr>\n",
       "      <th>110524</th>\n",
       "      <td>2016</td>\n",
       "      <td>4</td>\n",
       "      <td>17</td>\n",
       "      <td>27</td>\n",
       "      <td>16</td>\n",
       "      <td>3</td>\n",
       "      <td>2</td>\n",
       "      <td>2016</td>\n",
       "      <td>6</td>\n",
       "      <td>23</td>\n",
       "      <td>7</td>\n",
       "      <td>23</td>\n",
       "      <td>59</td>\n",
       "      <td>1</td>\n",
       "    </tr>\n",
       "    <tr>\n",
       "      <th>110525</th>\n",
       "      <td>2016</td>\n",
       "      <td>4</td>\n",
       "      <td>17</td>\n",
       "      <td>27</td>\n",
       "      <td>15</td>\n",
       "      <td>9</td>\n",
       "      <td>2</td>\n",
       "      <td>2016</td>\n",
       "      <td>6</td>\n",
       "      <td>23</td>\n",
       "      <td>7</td>\n",
       "      <td>23</td>\n",
       "      <td>59</td>\n",
       "      <td>1</td>\n",
       "    </tr>\n",
       "    <tr>\n",
       "      <th>110526</th>\n",
       "      <td>2016</td>\n",
       "      <td>4</td>\n",
       "      <td>17</td>\n",
       "      <td>27</td>\n",
       "      <td>13</td>\n",
       "      <td>30</td>\n",
       "      <td>2</td>\n",
       "      <td>2016</td>\n",
       "      <td>6</td>\n",
       "      <td>23</td>\n",
       "      <td>7</td>\n",
       "      <td>23</td>\n",
       "      <td>59</td>\n",
       "      <td>1</td>\n",
       "    </tr>\n",
       "  </tbody>\n",
       "</table>\n",
       "<p>110522 rows × 14 columns</p>\n",
       "</div>"
      ],
      "text/plain": [
       "        ScheduledDay_year  ScheduledDay_month  ScheduledDay_week  \\\n",
       "0                    2016                   4                 17   \n",
       "1                    2016                   4                 17   \n",
       "2                    2016                   4                 17   \n",
       "3                    2016                   4                 17   \n",
       "4                    2016                   4                 17   \n",
       "...                   ...                 ...                ...   \n",
       "110522               2016                   5                 18   \n",
       "110523               2016                   5                 18   \n",
       "110524               2016                   4                 17   \n",
       "110525               2016                   4                 17   \n",
       "110526               2016                   4                 17   \n",
       "\n",
       "        ScheduledDay_day  ScheduledDay_hour  ScheduledDay_minute  \\\n",
       "0                     29                 18                   38   \n",
       "1                     29                 16                    8   \n",
       "2                     29                 16                   19   \n",
       "3                     29                 17                   29   \n",
       "4                     29                 16                    7   \n",
       "...                  ...                ...                  ...   \n",
       "110522                 3                  9                   15   \n",
       "110523                 3                  7                   27   \n",
       "110524                27                 16                    3   \n",
       "110525                27                 15                    9   \n",
       "110526                27                 13                   30   \n",
       "\n",
       "        ScheduledDay_dayofweek  AppointmentDay_year  AppointmentDay_month  \\\n",
       "0                            4                 2016                     4   \n",
       "1                            4                 2016                     4   \n",
       "2                            4                 2016                     4   \n",
       "3                            4                 2016                     4   \n",
       "4                            4                 2016                     4   \n",
       "...                        ...                  ...                   ...   \n",
       "110522                       1                 2016                     6   \n",
       "110523                       1                 2016                     6   \n",
       "110524                       2                 2016                     6   \n",
       "110525                       2                 2016                     6   \n",
       "110526                       2                 2016                     6   \n",
       "\n",
       "        AppointmentDay_week  AppointmentDay_day  AppointmentDay_hour  \\\n",
       "0                        17                  29                   23   \n",
       "1                        17                  29                   23   \n",
       "2                        17                  29                   23   \n",
       "3                        17                  29                   23   \n",
       "4                        17                  29                   23   \n",
       "...                     ...                 ...                  ...   \n",
       "110522                   23                   7                   23   \n",
       "110523                   23                   7                   23   \n",
       "110524                   23                   7                   23   \n",
       "110525                   23                   7                   23   \n",
       "110526                   23                   7                   23   \n",
       "\n",
       "        AppointmentDay_minute  AppointmentDay_dayofweek  \n",
       "0                          59                         4  \n",
       "1                          59                         4  \n",
       "2                          59                         4  \n",
       "3                          59                         4  \n",
       "4                          59                         4  \n",
       "...                       ...                       ...  \n",
       "110522                     59                         1  \n",
       "110523                     59                         1  \n",
       "110524                     59                         1  \n",
       "110525                     59                         1  \n",
       "110526                     59                         1  \n",
       "\n",
       "[110522 rows x 14 columns]"
      ]
     },
     "execution_count": 29,
     "metadata": {},
     "output_type": "execute_result"
    }
   ],
   "source": [
    "df1[['ScheduledDay_year', 'ScheduledDay_month',\n",
    "       'ScheduledDay_week', 'ScheduledDay_day', 'ScheduledDay_hour',\n",
    "       'ScheduledDay_minute', 'ScheduledDay_dayofweek', 'AppointmentDay_year',\n",
    "       'AppointmentDay_month', 'AppointmentDay_week', 'AppointmentDay_day',\n",
    "       'AppointmentDay_hour', 'AppointmentDay_minute',\n",
    "       'AppointmentDay_dayofweek']]"
   ]
  },
  {
   "cell_type": "markdown",
   "id": "82bcae17",
   "metadata": {},
   "source": [
    "### Little more analysis"
   ]
  },
  {
   "cell_type": "code",
   "execution_count": 31,
   "id": "66796063",
   "metadata": {},
   "outputs": [
    {
     "data": {
      "text/plain": [
       "AppointmentDay_year\n",
       "2016    110522\n",
       "dtype: int64"
      ]
     },
     "execution_count": 31,
     "metadata": {},
     "output_type": "execute_result"
    }
   ],
   "source": [
    "df1.groupby('AppointmentDay_year').size()"
   ]
  },
  {
   "cell_type": "code",
   "execution_count": 32,
   "id": "cd54fe30",
   "metadata": {},
   "outputs": [
    {
     "data": {
      "text/plain": [
       "AppointmentDay_month\n",
       "4     3235\n",
       "5    80836\n",
       "6    26451\n",
       "dtype: int64"
      ]
     },
     "execution_count": 32,
     "metadata": {},
     "output_type": "execute_result"
    }
   ],
   "source": [
    "df1.groupby('AppointmentDay_month').size()"
   ]
  },
  {
   "cell_type": "code",
   "execution_count": 33,
   "id": "2bec1835",
   "metadata": {},
   "outputs": [
    {
     "data": {
      "text/plain": [
       "AppointmentDay_dayofweek\n",
       "0    22714\n",
       "1    25638\n",
       "2    25866\n",
       "3    17246\n",
       "4    19019\n",
       "5       39\n",
       "dtype: int64"
      ]
     },
     "execution_count": 33,
     "metadata": {},
     "output_type": "execute_result"
    }
   ],
   "source": [
    "df1.groupby('AppointmentDay_dayofweek').size()"
   ]
  },
  {
   "cell_type": "markdown",
   "id": "4605f4d7",
   "metadata": {},
   "source": [
    "### calculating the ‘time’ between datetimes i.e. creating a new feature that is the number of days between the scheduled date and the appointment date."
   ]
  },
  {
   "cell_type": "code",
   "execution_count": 35,
   "id": "d0023808",
   "metadata": {},
   "outputs": [],
   "source": [
    "df1['delta_days'] = (df1['AppointmentDay']-df1['ScheduledDay']).dt.total_seconds()/(60*60*24)"
   ]
  },
  {
   "cell_type": "code",
   "execution_count": 36,
   "id": "da4e39f2",
   "metadata": {},
   "outputs": [
    {
     "data": {
      "text/plain": [
       "0          0.223507\n",
       "1          0.327454\n",
       "2          0.320081\n",
       "3          0.271157\n",
       "4          0.328194\n",
       "            ...    \n",
       "110522    35.614167\n",
       "110523    35.689190\n",
       "110524    41.330637\n",
       "110525    41.368472\n",
       "110526    41.436840\n",
       "Name: delta_days, Length: 110522, dtype: float64"
      ]
     },
     "execution_count": 36,
     "metadata": {},
     "output_type": "execute_result"
    }
   ],
   "source": [
    "df1['delta_days']"
   ]
  },
  {
   "cell_type": "code",
   "execution_count": 37,
   "id": "abc6adda",
   "metadata": {},
   "outputs": [
    {
     "data": {
      "text/plain": [
       "No     88208\n",
       "Yes    22314\n",
       "Name: No-show, dtype: int64"
      ]
     },
     "execution_count": 37,
     "metadata": {},
     "output_type": "execute_result"
    }
   ],
   "source": [
    "df1['No-show'].value_counts()"
   ]
  },
  {
   "cell_type": "code",
   "execution_count": 41,
   "id": "d898633d",
   "metadata": {},
   "outputs": [
    {
     "ename": "ModuleNotFoundError",
     "evalue": "No module named 'plotly'",
     "output_type": "error",
     "traceback": [
      "\u001b[1;31m---------------------------------------------------------------------------\u001b[0m",
      "\u001b[1;31mModuleNotFoundError\u001b[0m                       Traceback (most recent call last)",
      "\u001b[1;32m~\\AppData\\Local\\Temp/ipykernel_2856/3250818382.py\u001b[0m in \u001b[0;36m<module>\u001b[1;34m\u001b[0m\n\u001b[1;32m----> 1\u001b[1;33m \u001b[1;32mimport\u001b[0m \u001b[0mplotly\u001b[0m\u001b[1;33m.\u001b[0m\u001b[0mexpress\u001b[0m \u001b[1;32mas\u001b[0m \u001b[0mpx\u001b[0m\u001b[1;33m\u001b[0m\u001b[1;33m\u001b[0m\u001b[0m\n\u001b[0m\u001b[0;32m      2\u001b[0m \u001b[1;33m\u001b[0m\u001b[0m\n\u001b[0;32m      3\u001b[0m \u001b[0mpx\u001b[0m\u001b[1;33m.\u001b[0m\u001b[0mhistogram\u001b[0m\u001b[1;33m(\u001b[0m\u001b[0mdf1\u001b[0m\u001b[1;33m,\u001b[0m \u001b[0mx\u001b[0m\u001b[1;33m=\u001b[0m\u001b[1;34m'delta_days'\u001b[0m\u001b[1;33m,\u001b[0m \u001b[0mcolor\u001b[0m\u001b[1;33m=\u001b[0m \u001b[1;34m'No-show'\u001b[0m\u001b[1;33m)\u001b[0m\u001b[1;33m\u001b[0m\u001b[1;33m\u001b[0m\u001b[0m\n",
      "\u001b[1;31mModuleNotFoundError\u001b[0m: No module named 'plotly'"
     ]
    }
   ],
   "source": [
    "# import plotly.express as px\n",
    "\n",
    "# px.histogram(df1, x='delta_days', color= 'No-show')"
   ]
  },
  {
   "cell_type": "markdown",
   "id": "b5051e88",
   "metadata": {},
   "source": [
    "### Most of the patients who did not miss their appointment scheduled the appointment on the same day."
   ]
  }
 ],
 "metadata": {
  "kernelspec": {
   "display_name": "Python 3 (ipykernel)",
   "language": "python",
   "name": "python3"
  },
  "language_info": {
   "codemirror_mode": {
    "name": "ipython",
    "version": 3
   },
   "file_extension": ".py",
   "mimetype": "text/x-python",
   "name": "python",
   "nbconvert_exporter": "python",
   "pygments_lexer": "ipython3",
   "version": "3.9.7"
  }
 },
 "nbformat": 4,
 "nbformat_minor": 5
}
