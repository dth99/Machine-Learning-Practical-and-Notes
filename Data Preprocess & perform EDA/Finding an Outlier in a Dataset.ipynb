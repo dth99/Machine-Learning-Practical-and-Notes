{
 "cells": [
  {
   "cell_type": "markdown",
   "id": "c57f626d",
   "metadata": {},
   "source": [
    "# What is an outlier?\n",
    "\n",
    "An outlier is a data set that is distant from all other observations. A data point point that lies outside the overall distribution of the dataset."
   ]
  },
  {
   "cell_type": "code",
   "execution_count": 13,
   "id": "c40fccfd",
   "metadata": {},
   "outputs": [],
   "source": [
    "import numpy as np\n",
    "import matplotlib.pyplot as plt\n",
    "%matplotlib inline"
   ]
  },
  {
   "cell_type": "markdown",
   "id": "7dfef0c5",
   "metadata": {},
   "source": [
    "## What are the criteria to identify an outlier?\n",
    "(Z-Score) -> standard\n",
    "1. Data point that falls of 1.5 times of an interquartile range above the 3rd quartile and below the 1st quartile\n",
    "\n",
    "\n",
    "\n",
    "- \n",
    "![dth99](outlier1.png)\n",
    "\n",
    "\n",
    "**Anything that falls after 3rd standard devision is considered as outliar**\n",
    "\n",
    "Z<=3 not outlier <br>\n",
    "Z> outlier\n",
    "\n",
    "-\n",
    "\n",
    "(IQR)\n",
    "2. Data point that falls outside of 3 standard deviations. we can use a z score and if the z score falls outside of 2 standard deviation\n",
    "\n",
    "\n",
    "5, 6, 7,1,2,8, 10\n",
    "\n",
    "first sort,\n",
    "1,2,3,4,5,6,7,8,9,10\n",
    "\n",
    "%tile\n",
    "\n",
    "IQR = 75% - 25%\n"
   ]
  },
  {
   "cell_type": "markdown",
   "id": "e8f158ee",
   "metadata": {},
   "source": [
    "## What is the reason for an outlier to exists in a dataset?\n",
    "\n",
    "1. Variability in the data\n",
    "2. An experimental measurement error"
   ]
  },
  {
   "cell_type": "markdown",
   "id": "42e4f168",
   "metadata": {},
   "source": [
    "## Various ways of finding the outlier.\n",
    "\n",
    "- Using scatter plots\n",
    "- Box plot\n",
    "- Using z score\n",
    "- Using the IQR interquantile range\n"
   ]
  },
  {
   "cell_type": "code",
   "execution_count": 45,
   "id": "5998ca03",
   "metadata": {},
   "outputs": [],
   "source": [
    "dataset= [11,10,12,14,133,12,15,12,14,17,19,107, 10,13,12,14,12,108,12,11,14,13,15,10,112,15,12,10,16,14,14,22,20]"
   ]
  },
  {
   "cell_type": "markdown",
   "id": "97e10539",
   "metadata": {},
   "source": [
    "# Detecting outlier using Z score"
   ]
  },
  {
   "cell_type": "markdown",
   "id": "331af4fa",
   "metadata": {},
   "source": [
    "### Formula for Z score = (Observation - Mean)/ Standard Deviation\n",
    "\n",
    "![dth99](zscore.png)"
   ]
  },
  {
   "cell_type": "code",
   "execution_count": 43,
   "id": "21a4de6d",
   "metadata": {},
   "outputs": [],
   "source": [
    "outliers=[]\n",
    "\n",
    "def detect_outliers(data):\n",
    "    threshold =3 # with 3 s.d., we do not consider it outlier\n",
    "    std=np.std(data)\n",
    "    \n",
    "    for i in data:\n",
    "        z_score=(i- np.mean(data))/std\n",
    "        if np.abs(z_score)>threshold:\n",
    "            outliers.append(i)\n",
    "    return outliers"
   ]
  },
  {
   "cell_type": "code",
   "execution_count": 46,
   "id": "ec54697c",
   "metadata": {},
   "outputs": [
    {
     "data": {
      "text/plain": [
       "[107, 108, 112, 133]"
      ]
     },
     "execution_count": 46,
     "metadata": {},
     "output_type": "execute_result"
    }
   ],
   "source": [
    "outlier_pt= detect_outliers(dataset)\n",
    "\n",
    "outlier_pt"
   ]
  },
  {
   "cell_type": "markdown",
   "id": "e6b9c23f",
   "metadata": {},
   "source": [
    "# InterQantile Range\n",
    "\n",
    "75% - 25% values in a dataset"
   ]
  },
  {
   "cell_type": "markdown",
   "id": "cc86dc3a",
   "metadata": {},
   "source": [
    "**Steps**\n",
    "- arrange the data in increasing order\n",
    "- Calculate first(q1) and thrid quartile(q3)\n",
    "- Find interquartile range (q3 -q1)\n",
    "- Find lower bound q1*1.5\n",
    "- Find upper bound q3*1.5\n",
    "\n",
    "Anything that lies outside of lower and upper bound is an outlier\n",
    "\n"
   ]
  },
  {
   "cell_type": "code",
   "execution_count": 47,
   "id": "6ac46819",
   "metadata": {},
   "outputs": [
    {
     "data": {
      "text/plain": [
       "[10,\n",
       " 10,\n",
       " 10,\n",
       " 10,\n",
       " 11,\n",
       " 11,\n",
       " 12,\n",
       " 12,\n",
       " 12,\n",
       " 12,\n",
       " 12,\n",
       " 12,\n",
       " 12,\n",
       " 13,\n",
       " 13,\n",
       " 14,\n",
       " 14,\n",
       " 14,\n",
       " 14,\n",
       " 14,\n",
       " 14,\n",
       " 15,\n",
       " 15,\n",
       " 15,\n",
       " 16,\n",
       " 17,\n",
       " 19,\n",
       " 20,\n",
       " 22,\n",
       " 107,\n",
       " 108,\n",
       " 112,\n",
       " 133]"
      ]
     },
     "execution_count": 47,
     "metadata": {},
     "output_type": "execute_result"
    }
   ],
   "source": [
    "\n",
    "## perform all the steps of IQR\n",
    "\n",
    "sorted(dataset)\n"
   ]
  },
  {
   "cell_type": "code",
   "execution_count": 50,
   "id": "b51568f4",
   "metadata": {},
   "outputs": [],
   "source": [
    "quantile1, quantile3 = np.percentile(dataset,[25,75])"
   ]
  },
  {
   "cell_type": "code",
   "execution_count": 51,
   "id": "16482764",
   "metadata": {},
   "outputs": [
    {
     "name": "stdout",
     "output_type": "stream",
     "text": [
      "12.0 16.0\n"
     ]
    }
   ],
   "source": [
    "print(quantile1, quantile3)"
   ]
  },
  {
   "cell_type": "code",
   "execution_count": 52,
   "id": "f312fa9f",
   "metadata": {},
   "outputs": [
    {
     "name": "stdout",
     "output_type": "stream",
     "text": [
      "4.0\n"
     ]
    }
   ],
   "source": [
    "# Find the IQR\n",
    "\n",
    "iqr_value=quantile3-quantile1\n",
    "print(iqr_value)"
   ]
  },
  {
   "cell_type": "code",
   "execution_count": 54,
   "id": "f011f4f3",
   "metadata": {},
   "outputs": [],
   "source": [
    "# find the lower bound value and the higher bound value\n",
    "\n",
    "lower_bound_val = quantile1 - (1.5 * iqr_value)\n",
    "upper_bound_val = quantile3 + (1.5* iqr_value)"
   ]
  },
  {
   "cell_type": "code",
   "execution_count": 55,
   "id": "1c76da4e",
   "metadata": {},
   "outputs": [
    {
     "name": "stdout",
     "output_type": "stream",
     "text": [
      "6.0 22.0\n"
     ]
    }
   ],
   "source": [
    "print(lower_bound_val, upper_bound_val)"
   ]
  },
  {
   "cell_type": "code",
   "execution_count": null,
   "id": "57b8f06e",
   "metadata": {},
   "outputs": [],
   "source": []
  },
  {
   "cell_type": "code",
   "execution_count": null,
   "id": "641cc50f",
   "metadata": {},
   "outputs": [],
   "source": []
  },
  {
   "cell_type": "code",
   "execution_count": null,
   "id": "7d01a4cf",
   "metadata": {},
   "outputs": [],
   "source": []
  },
  {
   "cell_type": "code",
   "execution_count": null,
   "id": "cd80cb22",
   "metadata": {},
   "outputs": [],
   "source": []
  },
  {
   "cell_type": "code",
   "execution_count": null,
   "id": "298107f6",
   "metadata": {},
   "outputs": [],
   "source": []
  },
  {
   "cell_type": "code",
   "execution_count": null,
   "id": "42686c61",
   "metadata": {},
   "outputs": [],
   "source": []
  },
  {
   "cell_type": "code",
   "execution_count": null,
   "id": "0df26cfc",
   "metadata": {},
   "outputs": [],
   "source": []
  },
  {
   "cell_type": "code",
   "execution_count": null,
   "id": "d760db4a",
   "metadata": {},
   "outputs": [],
   "source": []
  },
  {
   "cell_type": "code",
   "execution_count": null,
   "id": "cb8b4d36",
   "metadata": {},
   "outputs": [],
   "source": []
  },
  {
   "cell_type": "code",
   "execution_count": null,
   "id": "f8fdf9f0",
   "metadata": {},
   "outputs": [],
   "source": []
  },
  {
   "cell_type": "code",
   "execution_count": null,
   "id": "1888ee30",
   "metadata": {},
   "outputs": [],
   "source": []
  },
  {
   "cell_type": "code",
   "execution_count": null,
   "id": "15d0659a",
   "metadata": {},
   "outputs": [],
   "source": []
  },
  {
   "cell_type": "code",
   "execution_count": null,
   "id": "b2c0c3e6",
   "metadata": {},
   "outputs": [],
   "source": []
  },
  {
   "cell_type": "code",
   "execution_count": null,
   "id": "c78b1347",
   "metadata": {},
   "outputs": [],
   "source": []
  },
  {
   "cell_type": "code",
   "execution_count": null,
   "id": "69ae9180",
   "metadata": {},
   "outputs": [],
   "source": []
  },
  {
   "cell_type": "code",
   "execution_count": null,
   "id": "65acc0fd",
   "metadata": {},
   "outputs": [],
   "source": []
  },
  {
   "cell_type": "code",
   "execution_count": null,
   "id": "5c6a2135",
   "metadata": {},
   "outputs": [],
   "source": []
  },
  {
   "cell_type": "code",
   "execution_count": null,
   "id": "4a46dff8",
   "metadata": {},
   "outputs": [],
   "source": []
  }
 ],
 "metadata": {
  "kernelspec": {
   "display_name": "Python 3 (ipykernel)",
   "language": "python",
   "name": "python3"
  },
  "language_info": {
   "codemirror_mode": {
    "name": "ipython",
    "version": 3
   },
   "file_extension": ".py",
   "mimetype": "text/x-python",
   "name": "python",
   "nbconvert_exporter": "python",
   "pygments_lexer": "ipython3",
   "version": "3.9.7"
  }
 },
 "nbformat": 4,
 "nbformat_minor": 5
}
