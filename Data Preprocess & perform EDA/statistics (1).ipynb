{
 "cells": [
  {
   "cell_type": "markdown",
   "id": "da3ff231",
   "metadata": {},
   "source": [
    "# Basic Statistical Analysis"
   ]
  },
  {
   "cell_type": "markdown",
   "id": "d10e744b",
   "metadata": {},
   "source": [
    "# Mean"
   ]
  },
  {
   "cell_type": "code",
   "execution_count": 1,
   "id": "a4bcd3bb",
   "metadata": {},
   "outputs": [],
   "source": [
    "import numpy as np"
   ]
  },
  {
   "cell_type": "code",
   "execution_count": 2,
   "id": "12b0e115",
   "metadata": {},
   "outputs": [
    {
     "data": {
      "text/plain": [
       "5.5"
      ]
     },
     "execution_count": 2,
     "metadata": {},
     "output_type": "execute_result"
    }
   ],
   "source": [
    "np.mean([1,2,3,4,5,6,7,8,9,10])"
   ]
  },
  {
   "cell_type": "markdown",
   "id": "1bf05b85",
   "metadata": {},
   "source": [
    "# Median"
   ]
  },
  {
   "cell_type": "code",
   "execution_count": 3,
   "id": "3b756d77",
   "metadata": {},
   "outputs": [
    {
     "data": {
      "text/plain": [
       "5.0"
      ]
     },
     "execution_count": 3,
     "metadata": {},
     "output_type": "execute_result"
    }
   ],
   "source": [
    "np.median([1,2,3,4,5,6,7,8,9])"
   ]
  },
  {
   "cell_type": "code",
   "execution_count": 4,
   "id": "bd2fa1d2",
   "metadata": {},
   "outputs": [
    {
     "data": {
      "text/plain": [
       "5.5"
      ]
     },
     "execution_count": 4,
     "metadata": {},
     "output_type": "execute_result"
    }
   ],
   "source": [
    "np.median([1,2,3,4,5,6,7,8,9,10])"
   ]
  },
  {
   "cell_type": "markdown",
   "id": "79fe5c80",
   "metadata": {},
   "source": [
    "# Mode"
   ]
  },
  {
   "cell_type": "code",
   "execution_count": 5,
   "id": "e8a1929f",
   "metadata": {},
   "outputs": [
    {
     "data": {
      "text/plain": [
       "ModeResult(mode=array([4]), count=array([3]))"
      ]
     },
     "execution_count": 5,
     "metadata": {},
     "output_type": "execute_result"
    }
   ],
   "source": [
    "from scipy import stats\n",
    "stats.mode([1,2,3,4,4,4,5,6,7,8,9,10])"
   ]
  },
  {
   "cell_type": "markdown",
   "id": "c2015e0f",
   "metadata": {},
   "source": [
    "# Varience"
   ]
  },
  {
   "cell_type": "code",
   "execution_count": 6,
   "id": "c277a44e",
   "metadata": {},
   "outputs": [
    {
     "name": "stdout",
     "output_type": "stream",
     "text": [
      "8.25\n"
     ]
    }
   ],
   "source": [
    "a = np.var([1,2,3,4,5,6,7,8,9,10])\n",
    "print(a)"
   ]
  },
  {
   "cell_type": "code",
   "execution_count": 7,
   "id": "utility-shadow",
   "metadata": {},
   "outputs": [
    {
     "data": {
      "text/plain": [
       "2.8722813232690143"
      ]
     },
     "execution_count": 7,
     "metadata": {},
     "output_type": "execute_result"
    }
   ],
   "source": [
    "a**0.5"
   ]
  },
  {
   "cell_type": "markdown",
   "id": "0b8462e7",
   "metadata": {},
   "source": [
    "# Standard Daviation"
   ]
  },
  {
   "cell_type": "code",
   "execution_count": 8,
   "id": "22bfac5e",
   "metadata": {},
   "outputs": [
    {
     "data": {
      "text/plain": [
       "2.8722813232690143"
      ]
     },
     "execution_count": 8,
     "metadata": {},
     "output_type": "execute_result"
    }
   ],
   "source": [
    "np.std([1,2,3,4,5,6,7,8,9,10])"
   ]
  },
  {
   "cell_type": "markdown",
   "id": "ee89251c",
   "metadata": {},
   "source": [
    "# Skewness"
   ]
  },
  {
   "cell_type": "code",
   "execution_count": 9,
   "id": "994ad3fa",
   "metadata": {},
   "outputs": [
    {
     "data": {
      "text/plain": [
       "0.0326966578855933"
      ]
     },
     "execution_count": 9,
     "metadata": {},
     "output_type": "execute_result"
    }
   ],
   "source": [
    "from scipy.stats import skew\n",
    "skew([88, 85, 82, 97, 67, 77, 74, 86, 81, 95, 77, 88, 85, 76, 81],bias=False)"
   ]
  },
  {
   "cell_type": "markdown",
   "id": "96be9c6c",
   "metadata": {},
   "source": [
    "# Kurtosis"
   ]
  },
  {
   "cell_type": "code",
   "execution_count": 10,
   "id": "c3d22819",
   "metadata": {},
   "outputs": [
    {
     "data": {
      "text/plain": [
       "0.11815715154945083"
      ]
     },
     "execution_count": 10,
     "metadata": {},
     "output_type": "execute_result"
    }
   ],
   "source": [
    "from scipy.stats import kurtosis\n",
    "kurtosis([88, 85, 82, 97, 67, 77, 74, 86, 81, 95, 77, 88, 85, 76, 81],bias=False)"
   ]
  },
  {
   "cell_type": "code",
   "execution_count": 11,
   "id": "427d35f9",
   "metadata": {},
   "outputs": [],
   "source": [
    "import pandas as pd"
   ]
  },
  {
   "cell_type": "code",
   "execution_count": 12,
   "id": "d426098e",
   "metadata": {},
   "outputs": [],
   "source": [
    "df = pd.DataFrame()\n",
    "df['Column1'] = np.random.randint(1,100,10)\n",
    "df['Column2'] = np.random.randint(1,100,10)\n",
    "df['Column3'] = np.random.randint(1,100,10)\n",
    "df['Column4'] = np.random.randint(1,100,10)\n",
    "df['Column5'] = np.random.randint(1,100,10)\n",
    "df['Column6'] = np.random.randint(1,100,10)\n",
    "df['Column7'] = np.random.randint(1,100,10)\n",
    "df['Column8'] = np.random.randint(1,100,10)\n",
    "df['Column9'] = np.random.randint(1,100,10)\n",
    "df['Column10'] = np.random.randint(1,100,10)"
   ]
  },
  {
   "cell_type": "code",
   "execution_count": 13,
   "id": "ecc75f65",
   "metadata": {},
   "outputs": [
    {
     "data": {
      "text/html": [
       "<div>\n",
       "<style scoped>\n",
       "    .dataframe tbody tr th:only-of-type {\n",
       "        vertical-align: middle;\n",
       "    }\n",
       "\n",
       "    .dataframe tbody tr th {\n",
       "        vertical-align: top;\n",
       "    }\n",
       "\n",
       "    .dataframe thead th {\n",
       "        text-align: right;\n",
       "    }\n",
       "</style>\n",
       "<table border=\"1\" class=\"dataframe\">\n",
       "  <thead>\n",
       "    <tr style=\"text-align: right;\">\n",
       "      <th></th>\n",
       "      <th>Column1</th>\n",
       "      <th>Column2</th>\n",
       "      <th>Column3</th>\n",
       "      <th>Column4</th>\n",
       "      <th>Column5</th>\n",
       "      <th>Column6</th>\n",
       "      <th>Column7</th>\n",
       "      <th>Column8</th>\n",
       "      <th>Column9</th>\n",
       "      <th>Column10</th>\n",
       "    </tr>\n",
       "  </thead>\n",
       "  <tbody>\n",
       "    <tr>\n",
       "      <th>0</th>\n",
       "      <td>22</td>\n",
       "      <td>62</td>\n",
       "      <td>33</td>\n",
       "      <td>92</td>\n",
       "      <td>66</td>\n",
       "      <td>12</td>\n",
       "      <td>45</td>\n",
       "      <td>99</td>\n",
       "      <td>83</td>\n",
       "      <td>80</td>\n",
       "    </tr>\n",
       "    <tr>\n",
       "      <th>1</th>\n",
       "      <td>85</td>\n",
       "      <td>32</td>\n",
       "      <td>45</td>\n",
       "      <td>24</td>\n",
       "      <td>95</td>\n",
       "      <td>94</td>\n",
       "      <td>73</td>\n",
       "      <td>61</td>\n",
       "      <td>26</td>\n",
       "      <td>80</td>\n",
       "    </tr>\n",
       "    <tr>\n",
       "      <th>2</th>\n",
       "      <td>96</td>\n",
       "      <td>1</td>\n",
       "      <td>19</td>\n",
       "      <td>41</td>\n",
       "      <td>99</td>\n",
       "      <td>58</td>\n",
       "      <td>60</td>\n",
       "      <td>13</td>\n",
       "      <td>44</td>\n",
       "      <td>18</td>\n",
       "    </tr>\n",
       "    <tr>\n",
       "      <th>3</th>\n",
       "      <td>61</td>\n",
       "      <td>48</td>\n",
       "      <td>89</td>\n",
       "      <td>41</td>\n",
       "      <td>42</td>\n",
       "      <td>8</td>\n",
       "      <td>61</td>\n",
       "      <td>37</td>\n",
       "      <td>58</td>\n",
       "      <td>73</td>\n",
       "    </tr>\n",
       "    <tr>\n",
       "      <th>4</th>\n",
       "      <td>29</td>\n",
       "      <td>6</td>\n",
       "      <td>42</td>\n",
       "      <td>98</td>\n",
       "      <td>71</td>\n",
       "      <td>51</td>\n",
       "      <td>60</td>\n",
       "      <td>7</td>\n",
       "      <td>7</td>\n",
       "      <td>21</td>\n",
       "    </tr>\n",
       "    <tr>\n",
       "      <th>5</th>\n",
       "      <td>30</td>\n",
       "      <td>57</td>\n",
       "      <td>67</td>\n",
       "      <td>45</td>\n",
       "      <td>37</td>\n",
       "      <td>26</td>\n",
       "      <td>86</td>\n",
       "      <td>79</td>\n",
       "      <td>54</td>\n",
       "      <td>63</td>\n",
       "    </tr>\n",
       "    <tr>\n",
       "      <th>6</th>\n",
       "      <td>12</td>\n",
       "      <td>6</td>\n",
       "      <td>94</td>\n",
       "      <td>23</td>\n",
       "      <td>59</td>\n",
       "      <td>3</td>\n",
       "      <td>40</td>\n",
       "      <td>85</td>\n",
       "      <td>70</td>\n",
       "      <td>47</td>\n",
       "    </tr>\n",
       "    <tr>\n",
       "      <th>7</th>\n",
       "      <td>1</td>\n",
       "      <td>55</td>\n",
       "      <td>38</td>\n",
       "      <td>58</td>\n",
       "      <td>81</td>\n",
       "      <td>50</td>\n",
       "      <td>44</td>\n",
       "      <td>51</td>\n",
       "      <td>38</td>\n",
       "      <td>69</td>\n",
       "    </tr>\n",
       "    <tr>\n",
       "      <th>8</th>\n",
       "      <td>63</td>\n",
       "      <td>91</td>\n",
       "      <td>68</td>\n",
       "      <td>18</td>\n",
       "      <td>17</td>\n",
       "      <td>28</td>\n",
       "      <td>56</td>\n",
       "      <td>32</td>\n",
       "      <td>75</td>\n",
       "      <td>20</td>\n",
       "    </tr>\n",
       "    <tr>\n",
       "      <th>9</th>\n",
       "      <td>40</td>\n",
       "      <td>70</td>\n",
       "      <td>89</td>\n",
       "      <td>29</td>\n",
       "      <td>11</td>\n",
       "      <td>2</td>\n",
       "      <td>14</td>\n",
       "      <td>13</td>\n",
       "      <td>80</td>\n",
       "      <td>8</td>\n",
       "    </tr>\n",
       "  </tbody>\n",
       "</table>\n",
       "</div>"
      ],
      "text/plain": [
       "   Column1  Column2  Column3  Column4  Column5  Column6  Column7  Column8  \\\n",
       "0       22       62       33       92       66       12       45       99   \n",
       "1       85       32       45       24       95       94       73       61   \n",
       "2       96        1       19       41       99       58       60       13   \n",
       "3       61       48       89       41       42        8       61       37   \n",
       "4       29        6       42       98       71       51       60        7   \n",
       "5       30       57       67       45       37       26       86       79   \n",
       "6       12        6       94       23       59        3       40       85   \n",
       "7        1       55       38       58       81       50       44       51   \n",
       "8       63       91       68       18       17       28       56       32   \n",
       "9       40       70       89       29       11        2       14       13   \n",
       "\n",
       "   Column9  Column10  \n",
       "0       83        80  \n",
       "1       26        80  \n",
       "2       44        18  \n",
       "3       58        73  \n",
       "4        7        21  \n",
       "5       54        63  \n",
       "6       70        47  \n",
       "7       38        69  \n",
       "8       75        20  \n",
       "9       80         8  "
      ]
     },
     "execution_count": 13,
     "metadata": {},
     "output_type": "execute_result"
    }
   ],
   "source": [
    "df"
   ]
  },
  {
   "cell_type": "markdown",
   "id": "d9a90f20",
   "metadata": {},
   "source": [
    "# Correlation "
   ]
  },
  {
   "cell_type": "code",
   "execution_count": 14,
   "id": "951c6d7f",
   "metadata": {},
   "outputs": [
    {
     "data": {
      "text/html": [
       "<div>\n",
       "<style scoped>\n",
       "    .dataframe tbody tr th:only-of-type {\n",
       "        vertical-align: middle;\n",
       "    }\n",
       "\n",
       "    .dataframe tbody tr th {\n",
       "        vertical-align: top;\n",
       "    }\n",
       "\n",
       "    .dataframe thead th {\n",
       "        text-align: right;\n",
       "    }\n",
       "</style>\n",
       "<table border=\"1\" class=\"dataframe\">\n",
       "  <thead>\n",
       "    <tr style=\"text-align: right;\">\n",
       "      <th></th>\n",
       "      <th>Column1</th>\n",
       "      <th>Column2</th>\n",
       "      <th>Column3</th>\n",
       "      <th>Column4</th>\n",
       "      <th>Column5</th>\n",
       "      <th>Column6</th>\n",
       "      <th>Column7</th>\n",
       "      <th>Column8</th>\n",
       "      <th>Column9</th>\n",
       "      <th>Column10</th>\n",
       "    </tr>\n",
       "  </thead>\n",
       "  <tbody>\n",
       "    <tr>\n",
       "      <th>Column1</th>\n",
       "      <td>1.000000</td>\n",
       "      <td>-0.132197</td>\n",
       "      <td>-0.212792</td>\n",
       "      <td>-0.412981</td>\n",
       "      <td>0.195992</td>\n",
       "      <td>0.468115</td>\n",
       "      <td>0.350709</td>\n",
       "      <td>-0.422429</td>\n",
       "      <td>-0.151424</td>\n",
       "      <td>-0.195490</td>\n",
       "    </tr>\n",
       "    <tr>\n",
       "      <th>Column2</th>\n",
       "      <td>-0.132197</td>\n",
       "      <td>1.000000</td>\n",
       "      <td>0.263455</td>\n",
       "      <td>-0.187176</td>\n",
       "      <td>-0.694873</td>\n",
       "      <td>-0.339329</td>\n",
       "      <td>-0.177060</td>\n",
       "      <td>0.127583</td>\n",
       "      <td>0.579669</td>\n",
       "      <td>0.091052</td>\n",
       "    </tr>\n",
       "    <tr>\n",
       "      <th>Column3</th>\n",
       "      <td>-0.212792</td>\n",
       "      <td>0.263455</td>\n",
       "      <td>1.000000</td>\n",
       "      <td>-0.527251</td>\n",
       "      <td>-0.746969</td>\n",
       "      <td>-0.674299</td>\n",
       "      <td>-0.290855</td>\n",
       "      <td>0.069414</td>\n",
       "      <td>0.473041</td>\n",
       "      <td>-0.099314</td>\n",
       "    </tr>\n",
       "    <tr>\n",
       "      <th>Column4</th>\n",
       "      <td>-0.412981</td>\n",
       "      <td>-0.187176</td>\n",
       "      <td>-0.527251</td>\n",
       "      <td>1.000000</td>\n",
       "      <td>0.301581</td>\n",
       "      <td>0.025846</td>\n",
       "      <td>0.042207</td>\n",
       "      <td>0.043312</td>\n",
       "      <td>-0.325878</td>\n",
       "      <td>0.154243</td>\n",
       "    </tr>\n",
       "    <tr>\n",
       "      <th>Column5</th>\n",
       "      <td>0.195992</td>\n",
       "      <td>-0.694873</td>\n",
       "      <td>-0.746969</td>\n",
       "      <td>0.301581</td>\n",
       "      <td>1.000000</td>\n",
       "      <td>0.723818</td>\n",
       "      <td>0.318706</td>\n",
       "      <td>0.094845</td>\n",
       "      <td>-0.631940</td>\n",
       "      <td>0.337683</td>\n",
       "    </tr>\n",
       "    <tr>\n",
       "      <th>Column6</th>\n",
       "      <td>0.468115</td>\n",
       "      <td>-0.339329</td>\n",
       "      <td>-0.674299</td>\n",
       "      <td>0.025846</td>\n",
       "      <td>0.723818</td>\n",
       "      <td>1.000000</td>\n",
       "      <td>0.510076</td>\n",
       "      <td>-0.197331</td>\n",
       "      <td>-0.776755</td>\n",
       "      <td>0.141329</td>\n",
       "    </tr>\n",
       "    <tr>\n",
       "      <th>Column7</th>\n",
       "      <td>0.350709</td>\n",
       "      <td>-0.177060</td>\n",
       "      <td>-0.290855</td>\n",
       "      <td>0.042207</td>\n",
       "      <td>0.318706</td>\n",
       "      <td>0.510076</td>\n",
       "      <td>1.000000</td>\n",
       "      <td>0.184214</td>\n",
       "      <td>-0.491993</td>\n",
       "      <td>0.391213</td>\n",
       "    </tr>\n",
       "    <tr>\n",
       "      <th>Column8</th>\n",
       "      <td>-0.422429</td>\n",
       "      <td>0.127583</td>\n",
       "      <td>0.069414</td>\n",
       "      <td>0.043312</td>\n",
       "      <td>0.094845</td>\n",
       "      <td>-0.197331</td>\n",
       "      <td>0.184214</td>\n",
       "      <td>1.000000</td>\n",
       "      <td>0.361130</td>\n",
       "      <td>0.745502</td>\n",
       "    </tr>\n",
       "    <tr>\n",
       "      <th>Column9</th>\n",
       "      <td>-0.151424</td>\n",
       "      <td>0.579669</td>\n",
       "      <td>0.473041</td>\n",
       "      <td>-0.325878</td>\n",
       "      <td>-0.631940</td>\n",
       "      <td>-0.776755</td>\n",
       "      <td>-0.491993</td>\n",
       "      <td>0.361130</td>\n",
       "      <td>1.000000</td>\n",
       "      <td>-0.043649</td>\n",
       "    </tr>\n",
       "    <tr>\n",
       "      <th>Column10</th>\n",
       "      <td>-0.195490</td>\n",
       "      <td>0.091052</td>\n",
       "      <td>-0.099314</td>\n",
       "      <td>0.154243</td>\n",
       "      <td>0.337683</td>\n",
       "      <td>0.141329</td>\n",
       "      <td>0.391213</td>\n",
       "      <td>0.745502</td>\n",
       "      <td>-0.043649</td>\n",
       "      <td>1.000000</td>\n",
       "    </tr>\n",
       "  </tbody>\n",
       "</table>\n",
       "</div>"
      ],
      "text/plain": [
       "           Column1   Column2   Column3   Column4   Column5   Column6  \\\n",
       "Column1   1.000000 -0.132197 -0.212792 -0.412981  0.195992  0.468115   \n",
       "Column2  -0.132197  1.000000  0.263455 -0.187176 -0.694873 -0.339329   \n",
       "Column3  -0.212792  0.263455  1.000000 -0.527251 -0.746969 -0.674299   \n",
       "Column4  -0.412981 -0.187176 -0.527251  1.000000  0.301581  0.025846   \n",
       "Column5   0.195992 -0.694873 -0.746969  0.301581  1.000000  0.723818   \n",
       "Column6   0.468115 -0.339329 -0.674299  0.025846  0.723818  1.000000   \n",
       "Column7   0.350709 -0.177060 -0.290855  0.042207  0.318706  0.510076   \n",
       "Column8  -0.422429  0.127583  0.069414  0.043312  0.094845 -0.197331   \n",
       "Column9  -0.151424  0.579669  0.473041 -0.325878 -0.631940 -0.776755   \n",
       "Column10 -0.195490  0.091052 -0.099314  0.154243  0.337683  0.141329   \n",
       "\n",
       "           Column7   Column8   Column9  Column10  \n",
       "Column1   0.350709 -0.422429 -0.151424 -0.195490  \n",
       "Column2  -0.177060  0.127583  0.579669  0.091052  \n",
       "Column3  -0.290855  0.069414  0.473041 -0.099314  \n",
       "Column4   0.042207  0.043312 -0.325878  0.154243  \n",
       "Column5   0.318706  0.094845 -0.631940  0.337683  \n",
       "Column6   0.510076 -0.197331 -0.776755  0.141329  \n",
       "Column7   1.000000  0.184214 -0.491993  0.391213  \n",
       "Column8   0.184214  1.000000  0.361130  0.745502  \n",
       "Column9  -0.491993  0.361130  1.000000 -0.043649  \n",
       "Column10  0.391213  0.745502 -0.043649  1.000000  "
      ]
     },
     "execution_count": 14,
     "metadata": {},
     "output_type": "execute_result"
    }
   ],
   "source": [
    "df.corr()"
   ]
  },
  {
   "cell_type": "markdown",
   "id": "f9c51717",
   "metadata": {},
   "source": [
    "#  Covarience"
   ]
  },
  {
   "cell_type": "code",
   "execution_count": 15,
   "id": "568a6629",
   "metadata": {},
   "outputs": [
    {
     "data": {
      "text/html": [
       "<div>\n",
       "<style scoped>\n",
       "    .dataframe tbody tr th:only-of-type {\n",
       "        vertical-align: middle;\n",
       "    }\n",
       "\n",
       "    .dataframe tbody tr th {\n",
       "        vertical-align: top;\n",
       "    }\n",
       "\n",
       "    .dataframe thead th {\n",
       "        text-align: right;\n",
       "    }\n",
       "</style>\n",
       "<table border=\"1\" class=\"dataframe\">\n",
       "  <thead>\n",
       "    <tr style=\"text-align: right;\">\n",
       "      <th></th>\n",
       "      <th>Column1</th>\n",
       "      <th>Column2</th>\n",
       "      <th>Column3</th>\n",
       "      <th>Column4</th>\n",
       "      <th>Column5</th>\n",
       "      <th>Column6</th>\n",
       "      <th>Column7</th>\n",
       "      <th>Column8</th>\n",
       "      <th>Column9</th>\n",
       "      <th>Column10</th>\n",
       "    </tr>\n",
       "  </thead>\n",
       "  <tbody>\n",
       "    <tr>\n",
       "      <th>Column1</th>\n",
       "      <td>980.988889</td>\n",
       "      <td>-126.355556</td>\n",
       "      <td>-177.288889</td>\n",
       "      <td>-363.122222</td>\n",
       "      <td>187.533333</td>\n",
       "      <td>436.022222</td>\n",
       "      <td>216.211111</td>\n",
       "      <td>-432.477778</td>\n",
       "      <td>-118.055556</td>\n",
       "      <td>-175.011111</td>\n",
       "    </tr>\n",
       "    <tr>\n",
       "      <th>Column2</th>\n",
       "      <td>-126.355556</td>\n",
       "      <td>931.288889</td>\n",
       "      <td>213.866667</td>\n",
       "      <td>-160.355556</td>\n",
       "      <td>-647.822222</td>\n",
       "      <td>-307.955556</td>\n",
       "      <td>-106.355556</td>\n",
       "      <td>127.266667</td>\n",
       "      <td>440.333333</td>\n",
       "      <td>79.422222</td>\n",
       "    </tr>\n",
       "    <tr>\n",
       "      <th>Column3</th>\n",
       "      <td>-177.288889</td>\n",
       "      <td>213.866667</td>\n",
       "      <td>707.600000</td>\n",
       "      <td>-393.733333</td>\n",
       "      <td>-607.022222</td>\n",
       "      <td>-533.422222</td>\n",
       "      <td>-152.288889</td>\n",
       "      <td>60.355556</td>\n",
       "      <td>313.222222</td>\n",
       "      <td>-75.511111</td>\n",
       "    </tr>\n",
       "    <tr>\n",
       "      <th>Column4</th>\n",
       "      <td>-363.122222</td>\n",
       "      <td>-160.355556</td>\n",
       "      <td>-393.733333</td>\n",
       "      <td>788.100000</td>\n",
       "      <td>258.644444</td>\n",
       "      <td>21.577778</td>\n",
       "      <td>23.322222</td>\n",
       "      <td>39.744444</td>\n",
       "      <td>-227.722222</td>\n",
       "      <td>123.766667</td>\n",
       "    </tr>\n",
       "    <tr>\n",
       "      <th>Column5</th>\n",
       "      <td>187.533333</td>\n",
       "      <td>-647.822222</td>\n",
       "      <td>-607.022222</td>\n",
       "      <td>258.644444</td>\n",
       "      <td>933.288889</td>\n",
       "      <td>657.600000</td>\n",
       "      <td>191.644444</td>\n",
       "      <td>94.711111</td>\n",
       "      <td>-480.555556</td>\n",
       "      <td>294.866667</td>\n",
       "    </tr>\n",
       "    <tr>\n",
       "      <th>Column6</th>\n",
       "      <td>436.022222</td>\n",
       "      <td>-307.955556</td>\n",
       "      <td>-533.422222</td>\n",
       "      <td>21.577778</td>\n",
       "      <td>657.600000</td>\n",
       "      <td>884.400000</td>\n",
       "      <td>298.577778</td>\n",
       "      <td>-191.822222</td>\n",
       "      <td>-575.000000</td>\n",
       "      <td>120.133333</td>\n",
       "    </tr>\n",
       "    <tr>\n",
       "      <th>Column7</th>\n",
       "      <td>216.211111</td>\n",
       "      <td>-106.355556</td>\n",
       "      <td>-152.288889</td>\n",
       "      <td>23.322222</td>\n",
       "      <td>191.644444</td>\n",
       "      <td>298.577778</td>\n",
       "      <td>387.433333</td>\n",
       "      <td>118.522222</td>\n",
       "      <td>-241.055556</td>\n",
       "      <td>220.100000</td>\n",
       "    </tr>\n",
       "    <tr>\n",
       "      <th>Column8</th>\n",
       "      <td>-432.477778</td>\n",
       "      <td>127.266667</td>\n",
       "      <td>60.355556</td>\n",
       "      <td>39.744444</td>\n",
       "      <td>94.711111</td>\n",
       "      <td>-191.822222</td>\n",
       "      <td>118.522222</td>\n",
       "      <td>1068.455556</td>\n",
       "      <td>293.833333</td>\n",
       "      <td>696.522222</td>\n",
       "    </tr>\n",
       "    <tr>\n",
       "      <th>Column9</th>\n",
       "      <td>-118.055556</td>\n",
       "      <td>440.333333</td>\n",
       "      <td>313.222222</td>\n",
       "      <td>-227.722222</td>\n",
       "      <td>-480.555556</td>\n",
       "      <td>-575.000000</td>\n",
       "      <td>-241.055556</td>\n",
       "      <td>293.833333</td>\n",
       "      <td>619.611111</td>\n",
       "      <td>-31.055556</td>\n",
       "    </tr>\n",
       "    <tr>\n",
       "      <th>Column10</th>\n",
       "      <td>-175.011111</td>\n",
       "      <td>79.422222</td>\n",
       "      <td>-75.511111</td>\n",
       "      <td>123.766667</td>\n",
       "      <td>294.866667</td>\n",
       "      <td>120.133333</td>\n",
       "      <td>220.100000</td>\n",
       "      <td>696.522222</td>\n",
       "      <td>-31.055556</td>\n",
       "      <td>816.988889</td>\n",
       "    </tr>\n",
       "  </tbody>\n",
       "</table>\n",
       "</div>"
      ],
      "text/plain": [
       "             Column1     Column2     Column3     Column4     Column5  \\\n",
       "Column1   980.988889 -126.355556 -177.288889 -363.122222  187.533333   \n",
       "Column2  -126.355556  931.288889  213.866667 -160.355556 -647.822222   \n",
       "Column3  -177.288889  213.866667  707.600000 -393.733333 -607.022222   \n",
       "Column4  -363.122222 -160.355556 -393.733333  788.100000  258.644444   \n",
       "Column5   187.533333 -647.822222 -607.022222  258.644444  933.288889   \n",
       "Column6   436.022222 -307.955556 -533.422222   21.577778  657.600000   \n",
       "Column7   216.211111 -106.355556 -152.288889   23.322222  191.644444   \n",
       "Column8  -432.477778  127.266667   60.355556   39.744444   94.711111   \n",
       "Column9  -118.055556  440.333333  313.222222 -227.722222 -480.555556   \n",
       "Column10 -175.011111   79.422222  -75.511111  123.766667  294.866667   \n",
       "\n",
       "             Column6     Column7      Column8     Column9    Column10  \n",
       "Column1   436.022222  216.211111  -432.477778 -118.055556 -175.011111  \n",
       "Column2  -307.955556 -106.355556   127.266667  440.333333   79.422222  \n",
       "Column3  -533.422222 -152.288889    60.355556  313.222222  -75.511111  \n",
       "Column4    21.577778   23.322222    39.744444 -227.722222  123.766667  \n",
       "Column5   657.600000  191.644444    94.711111 -480.555556  294.866667  \n",
       "Column6   884.400000  298.577778  -191.822222 -575.000000  120.133333  \n",
       "Column7   298.577778  387.433333   118.522222 -241.055556  220.100000  \n",
       "Column8  -191.822222  118.522222  1068.455556  293.833333  696.522222  \n",
       "Column9  -575.000000 -241.055556   293.833333  619.611111  -31.055556  \n",
       "Column10  120.133333  220.100000   696.522222  -31.055556  816.988889  "
      ]
     },
     "execution_count": 15,
     "metadata": {},
     "output_type": "execute_result"
    }
   ],
   "source": [
    "df.cov()"
   ]
  },
  {
   "cell_type": "markdown",
   "id": "cc149b38",
   "metadata": {},
   "source": [
    "# PCA"
   ]
  },
  {
   "cell_type": "code",
   "execution_count": 16,
   "id": "historical-validity",
   "metadata": {},
   "outputs": [
    {
     "data": {
      "text/html": [
       "<div>\n",
       "<style scoped>\n",
       "    .dataframe tbody tr th:only-of-type {\n",
       "        vertical-align: middle;\n",
       "    }\n",
       "\n",
       "    .dataframe tbody tr th {\n",
       "        vertical-align: top;\n",
       "    }\n",
       "\n",
       "    .dataframe thead th {\n",
       "        text-align: right;\n",
       "    }\n",
       "</style>\n",
       "<table border=\"1\" class=\"dataframe\">\n",
       "  <thead>\n",
       "    <tr style=\"text-align: right;\">\n",
       "      <th></th>\n",
       "      <th>Column1</th>\n",
       "      <th>Column2</th>\n",
       "      <th>Column3</th>\n",
       "      <th>Column4</th>\n",
       "      <th>Column5</th>\n",
       "      <th>Column6</th>\n",
       "      <th>Column7</th>\n",
       "      <th>Column8</th>\n",
       "      <th>Column9</th>\n",
       "      <th>Column10</th>\n",
       "    </tr>\n",
       "  </thead>\n",
       "  <tbody>\n",
       "    <tr>\n",
       "      <th>0</th>\n",
       "      <td>22</td>\n",
       "      <td>62</td>\n",
       "      <td>33</td>\n",
       "      <td>92</td>\n",
       "      <td>66</td>\n",
       "      <td>12</td>\n",
       "      <td>45</td>\n",
       "      <td>99</td>\n",
       "      <td>83</td>\n",
       "      <td>80</td>\n",
       "    </tr>\n",
       "    <tr>\n",
       "      <th>1</th>\n",
       "      <td>85</td>\n",
       "      <td>32</td>\n",
       "      <td>45</td>\n",
       "      <td>24</td>\n",
       "      <td>95</td>\n",
       "      <td>94</td>\n",
       "      <td>73</td>\n",
       "      <td>61</td>\n",
       "      <td>26</td>\n",
       "      <td>80</td>\n",
       "    </tr>\n",
       "    <tr>\n",
       "      <th>2</th>\n",
       "      <td>96</td>\n",
       "      <td>1</td>\n",
       "      <td>19</td>\n",
       "      <td>41</td>\n",
       "      <td>99</td>\n",
       "      <td>58</td>\n",
       "      <td>60</td>\n",
       "      <td>13</td>\n",
       "      <td>44</td>\n",
       "      <td>18</td>\n",
       "    </tr>\n",
       "    <tr>\n",
       "      <th>3</th>\n",
       "      <td>61</td>\n",
       "      <td>48</td>\n",
       "      <td>89</td>\n",
       "      <td>41</td>\n",
       "      <td>42</td>\n",
       "      <td>8</td>\n",
       "      <td>61</td>\n",
       "      <td>37</td>\n",
       "      <td>58</td>\n",
       "      <td>73</td>\n",
       "    </tr>\n",
       "    <tr>\n",
       "      <th>4</th>\n",
       "      <td>29</td>\n",
       "      <td>6</td>\n",
       "      <td>42</td>\n",
       "      <td>98</td>\n",
       "      <td>71</td>\n",
       "      <td>51</td>\n",
       "      <td>60</td>\n",
       "      <td>7</td>\n",
       "      <td>7</td>\n",
       "      <td>21</td>\n",
       "    </tr>\n",
       "  </tbody>\n",
       "</table>\n",
       "</div>"
      ],
      "text/plain": [
       "   Column1  Column2  Column3  Column4  Column5  Column6  Column7  Column8  \\\n",
       "0       22       62       33       92       66       12       45       99   \n",
       "1       85       32       45       24       95       94       73       61   \n",
       "2       96        1       19       41       99       58       60       13   \n",
       "3       61       48       89       41       42        8       61       37   \n",
       "4       29        6       42       98       71       51       60        7   \n",
       "\n",
       "   Column9  Column10  \n",
       "0       83        80  \n",
       "1       26        80  \n",
       "2       44        18  \n",
       "3       58        73  \n",
       "4        7        21  "
      ]
     },
     "execution_count": 16,
     "metadata": {},
     "output_type": "execute_result"
    }
   ],
   "source": [
    "df.head()"
   ]
  },
  {
   "cell_type": "code",
   "execution_count": 17,
   "id": "7d237459",
   "metadata": {},
   "outputs": [],
   "source": [
    "from sklearn.decomposition import PCA\n",
    "pca = PCA(n_components = 3)"
   ]
  },
  {
   "cell_type": "code",
   "execution_count": 18,
   "id": "cb52a694",
   "metadata": {},
   "outputs": [],
   "source": [
    "df1 = pca.fit_transform(df)"
   ]
  },
  {
   "cell_type": "code",
   "execution_count": 19,
   "id": "92eae0b8",
   "metadata": {},
   "outputs": [
    {
     "data": {
      "text/plain": [
       "array([[-11.0398474 ,  50.47862226,   1.71734773],\n",
       "       [ 87.22177979,   4.53638085,   7.60185451],\n",
       "       [-34.26974661,  39.93468123, -52.09301092],\n",
       "       [-13.72591663,  11.87753235,  80.0359094 ],\n",
       "       [-76.3906336 , -37.59498003,  15.66444424],\n",
       "       [  2.2789252 , -47.19327889, -23.84191294],\n",
       "       [-17.73590936, -31.66155176,  -3.1741382 ],\n",
       "       [ -1.09107116,  58.87744218,  -4.29092477],\n",
       "       [ 23.44859004, -26.09536736, -42.12812313],\n",
       "       [ 41.30382974, -23.15948085,  20.50855408]])"
      ]
     },
     "execution_count": 19,
     "metadata": {},
     "output_type": "execute_result"
    }
   ],
   "source": [
    "df1"
   ]
  },
  {
   "cell_type": "markdown",
   "id": "198efc2e",
   "metadata": {},
   "source": [
    "# Boxplot"
   ]
  },
  {
   "cell_type": "code",
   "execution_count": 20,
   "id": "b83fea38",
   "metadata": {},
   "outputs": [],
   "source": [
    "def boxplot(df):\n",
    "    print()\n",
    "    print()\n",
    "    print(\"Boxplot Analysis for column : \\n\",df)\n",
    "    Q1 = df.quantile(0.25)\n",
    "    median = df.quantile(0.50)\n",
    "    Q3 = df.quantile(0.75)\n",
    "\n",
    "    IQR= Q3-Q1\n",
    "\n",
    "    Lower_Whiskers = df.quantile(0.25) - (1.5*IQR)\n",
    "    upper_Whiskers = df.quantile(0.75) + (1.5*IQR)\n",
    "    print()\n",
    "    print()\n",
    "\n",
    "    print(\"Q1 : \",Q1)\n",
    "    print(\"Median : \",median)\n",
    "    print(\"Q3 : \",Q3)\n",
    "    print(\"IQR : \",IQR)\n",
    "    print(\"Lower Whiskers : \",Lower_Whiskers)\n",
    "    print(\"Upper Whiskers : \",upper_Whiskers)\n",
    "    print(\"Minimum : \",min(df))\n",
    "    print(\"Maximum : \", max(df))\n"
   ]
  },
  {
   "cell_type": "code",
   "execution_count": 21,
   "id": "accepting-consultation",
   "metadata": {},
   "outputs": [
    {
     "name": "stdout",
     "output_type": "stream",
     "text": [
      "\n",
      "\n",
      "Boxplot Analysis for column : \n",
      " 0    50\n",
      "1    75\n",
      "2    14\n",
      "3    93\n",
      "4    95\n",
      "5    76\n",
      "6    60\n",
      "7    59\n",
      "8    53\n",
      "9    93\n",
      "Name: Column1, dtype: int32\n",
      "\n",
      "\n",
      "Q1 :  54.5\n",
      "Median :  67.5\n",
      "Q3 :  88.75\n",
      "IQR :  34.25\n",
      "Lower Whiskers :  3.125\n",
      "Upper Whiskers :  140.125\n",
      "Minimum :  14\n",
      "Maximum :  95\n"
     ]
    }
   ],
   "source": [
    "boxplot(df['Column1'])"
   ]
  },
  {
   "cell_type": "code",
   "execution_count": 22,
   "id": "invalid-acoustic",
   "metadata": {},
   "outputs": [
    {
     "ename": "ModuleNotFoundError",
     "evalue": "No module named 'plotly'",
     "output_type": "error",
     "traceback": [
      "\u001b[1;31m---------------------------------------------------------------------------\u001b[0m",
      "\u001b[1;31mModuleNotFoundError\u001b[0m                       Traceback (most recent call last)",
      "\u001b[1;32m~\\AppData\\Local\\Temp/ipykernel_5752/2395499409.py\u001b[0m in \u001b[0;36m<module>\u001b[1;34m\u001b[0m\n\u001b[1;32m----> 1\u001b[1;33m \u001b[1;32mimport\u001b[0m \u001b[0mplotly\u001b[0m\u001b[1;33m.\u001b[0m\u001b[0mexpress\u001b[0m \u001b[1;32mas\u001b[0m \u001b[0mpx\u001b[0m\u001b[1;33m\u001b[0m\u001b[1;33m\u001b[0m\u001b[0m\n\u001b[0m",
      "\u001b[1;31mModuleNotFoundError\u001b[0m: No module named 'plotly'"
     ]
    }
   ],
   "source": [
    "import plotly.express as px"
   ]
  },
  {
   "cell_type": "code",
   "execution_count": null,
   "id": "bacterial-biotechnology",
   "metadata": {
    "scrolled": false
   },
   "outputs": [],
   "source": [
    "px.box(df, y='Column1', points='all')"
   ]
  },
  {
   "cell_type": "markdown",
   "id": "ffdf8b2d",
   "metadata": {},
   "source": [
    "# Outliers"
   ]
  },
  {
   "cell_type": "code",
   "execution_count": null,
   "id": "efc46252",
   "metadata": {},
   "outputs": [],
   "source": [
    "def outliers(df, variable):\n",
    "    upper_limit = df[variable].mean() - 1 * df[variable].std()\n",
    "    lower_limit = df[variable].mean() + 2 * df[variable].std()\n",
    "    \n",
    "    return upper_limit, lower_limit"
   ]
  },
  {
   "cell_type": "code",
   "execution_count": null,
   "id": "28b644fc",
   "metadata": {},
   "outputs": [],
   "source": [
    "def whiskers(df, variable):\n",
    "    IQR = df[variable].quantile(0.75) - df[variable].quantile(0.25)\n",
    "    \n",
    "    lower_whiskers = df[variable].quantile(0.25) - (1.5*IQR)\n",
    "    upper_whiskers = df[variable].quantile(0.75) + (1.5*IQR)\n",
    "    \n",
    "    return lower_whiskers,upper_whiskers"
   ]
  },
  {
   "cell_type": "code",
   "execution_count": null,
   "id": "ecfb9afb",
   "metadata": {},
   "outputs": [],
   "source": [
    "df.Column2"
   ]
  },
  {
   "cell_type": "code",
   "execution_count": null,
   "id": "6a805f38",
   "metadata": {},
   "outputs": [],
   "source": [
    "whiskers(df,'Column2')"
   ]
  },
  {
   "cell_type": "code",
   "execution_count": null,
   "id": "bd681fb8",
   "metadata": {},
   "outputs": [],
   "source": [
    "outliers(df,'Column2')"
   ]
  },
  {
   "cell_type": "markdown",
   "id": "323e3960",
   "metadata": {},
   "source": [
    "# Example"
   ]
  },
  {
   "cell_type": "code",
   "execution_count": null,
   "id": "23e85402",
   "metadata": {},
   "outputs": [],
   "source": []
  },
  {
   "cell_type": "code",
   "execution_count": null,
   "id": "a4b80c8d",
   "metadata": {},
   "outputs": [],
   "source": [
    "l=88, 85, 82, 97, 67,445,676, 77, 74, 86, 81, 95, 77, 88, 85, 76, 81,434,0,1313,121,1223,2121,0,3\n",
    "df1=pd.DataFrame()\n",
    "df1['Column1']=l"
   ]
  },
  {
   "cell_type": "code",
   "execution_count": null,
   "id": "24df462a",
   "metadata": {},
   "outputs": [],
   "source": [
    "df1.head()"
   ]
  },
  {
   "cell_type": "code",
   "execution_count": null,
   "id": "9fc7d7ff",
   "metadata": {},
   "outputs": [],
   "source": [
    "px.box(df1, y='Column1', points='all')"
   ]
  },
  {
   "cell_type": "markdown",
   "id": "26f0cc7a",
   "metadata": {},
   "source": [
    "### Upper and lower limits"
   ]
  },
  {
   "cell_type": "code",
   "execution_count": null,
   "id": "0dee1f4b",
   "metadata": {},
   "outputs": [],
   "source": [
    "whiskers(df1,'Column1')"
   ]
  },
  {
   "cell_type": "code",
   "execution_count": null,
   "id": "479f75e6",
   "metadata": {},
   "outputs": [],
   "source": [
    "df1.median()"
   ]
  },
  {
   "cell_type": "code",
   "execution_count": null,
   "id": "ee1ad937",
   "metadata": {},
   "outputs": [],
   "source": [
    "df1.head()"
   ]
  },
  {
   "cell_type": "markdown",
   "id": "bb64d132",
   "metadata": {},
   "source": [
    "### Outliar less than lower limit"
   ]
  },
  {
   "cell_type": "code",
   "execution_count": null,
   "id": "da686d07",
   "metadata": {},
   "outputs": [],
   "source": [
    "df1[df1['Column1']<11]"
   ]
  },
  {
   "cell_type": "markdown",
   "id": "87a45715",
   "metadata": {},
   "source": [
    "### Outliars greater than Higher Limit"
   ]
  },
  {
   "cell_type": "code",
   "execution_count": null,
   "id": "cefedb40",
   "metadata": {},
   "outputs": [],
   "source": [
    "df1[df1['Column1']>187]"
   ]
  },
  {
   "cell_type": "markdown",
   "id": "011ca9d9",
   "metadata": {},
   "source": [
    "### Median"
   ]
  },
  {
   "cell_type": "code",
   "execution_count": null,
   "id": "5231a745",
   "metadata": {},
   "outputs": [],
   "source": [
    "df1['Column1'].median()"
   ]
  },
  {
   "cell_type": "markdown",
   "id": "d3ba4004",
   "metadata": {},
   "source": [
    "## Replacing Medians in the places of outliers"
   ]
  },
  {
   "cell_type": "code",
   "execution_count": null,
   "id": "5ae75d1a",
   "metadata": {},
   "outputs": [],
   "source": [
    "df1.loc[df1[\"Column1\"] < 11] = df1['Column1'].median()\n",
    "df1.loc[df1[\"Column1\"] > 187] = df1['Column1'].median()\n"
   ]
  },
  {
   "cell_type": "code",
   "execution_count": null,
   "id": "440c78c3",
   "metadata": {},
   "outputs": [],
   "source": [
    "df1"
   ]
  },
  {
   "cell_type": "code",
   "execution_count": null,
   "id": "b0421e5a",
   "metadata": {},
   "outputs": [],
   "source": [
    "px.box(df1, y='Column1', points='all')"
   ]
  },
  {
   "cell_type": "code",
   "execution_count": null,
   "id": "396cd9bc",
   "metadata": {},
   "outputs": [],
   "source": []
  },
  {
   "cell_type": "code",
   "execution_count": null,
   "id": "9c8c7d2d",
   "metadata": {},
   "outputs": [],
   "source": []
  }
 ],
 "metadata": {
  "kernelspec": {
   "display_name": "Python 3 (ipykernel)",
   "language": "python",
   "name": "python3"
  },
  "language_info": {
   "codemirror_mode": {
    "name": "ipython",
    "version": 3
   },
   "file_extension": ".py",
   "mimetype": "text/x-python",
   "name": "python",
   "nbconvert_exporter": "python",
   "pygments_lexer": "ipython3",
   "version": "3.9.7"
  }
 },
 "nbformat": 4,
 "nbformat_minor": 5
}
