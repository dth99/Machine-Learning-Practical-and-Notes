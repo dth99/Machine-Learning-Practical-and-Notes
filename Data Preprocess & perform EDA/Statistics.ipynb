{
 "cells": [
  {
   "cell_type": "markdown",
   "id": "c0550388",
   "metadata": {},
   "source": [
    "# Data Science LifeCycle\n",
    "\n",
    "## Structured Process: The lifecycle\n",
    "- Understanding Business Problem\n",
    "- Data Acquisition and Pre Processing\n",
    "- Exploratory Data Analysis (EDA)\n",
    "- Machine Learning\n",
    "- Prediction and Deployment"
   ]
  },
  {
   "cell_type": "markdown",
   "id": "a211d589",
   "metadata": {},
   "source": [
    "**Statistics is the discipline that concerns the collection, organization, analyis, interpretation and presentation of data.**\n",
    "\n",
    "\n",
    "**Types of Statistical Analysis/ Interpretation**\n",
    "Two Important Types of Analysis\n",
    "\n",
    "- **Descriptive Statistics** - Expanding on the data using mathematics and graphics.\n",
    "    - Example: Sports activities based on gender.\n",
    "    - Analyzing data, summazring data, organizing data, in the form of Numer\n",
    "    -**Bar plot, Histrogram, Pie-chart**\n",
    "    -**represent PDA, CDF, Noraml distruction**\n",
    "    -**Measure of Central Tendency - Mean, Median, Mode**\n",
    "    - Measure of variance means standand devision, variance\n",
    "    <br>.\n",
    "    \n",
    "- **Inferential Statistics** - Deriving an inference based on the data at had\n",
    "    - Example: A person who buys a book can also buy a pen.\n",
    "         - shopping at amazon\n",
    "         - Sample from Population\n",
    "    - Z Test -> Hypothesis test\n",
    "    - T Test \n",
    "    \n",
    "Inferentail Statistics is most comman now a days"
   ]
  },
  {
   "cell_type": "markdown",
   "id": "ed181188",
   "metadata": {},
   "source": [
    "# Statistics\n",
    "A part of Integrated applied mathematics which deals with data!\n",
    "\n",
    "- It helps to collect data and analyze them properly.\n",
    "- Helps in reading the data and organize them in order.\n",
    "- Helps to use mathematical computations to gain insights."
   ]
  },
  {
   "cell_type": "markdown",
   "id": "bb7bb366",
   "metadata": {},
   "source": [
    "![dth99](p.png)\n",
    "\n",
    "### What is Population\n",
    "\n",
    "Refers to the total set of observations!\n",
    "\n",
    "- If we want to study a diabetes dataset to understand the symptoms and the other factors then the whole dataset is referred to as population\n",
    "\n",
    "- **A few candidates from the experiement can be the _sample set_**\n",
    "\n",
    "\n",
    "\n",
    "### What is a sample \n",
    "#### Sample is basically a small part or portion of the large population!\n",
    "\n",
    "- 100 Rows of information out of 1000 total\n",
    "- A chunk of the total population\n",
    "- Popular choices for analysis\n",
    "\n",
    "**Note- Population is whole dataset and Sample is samall part of popluation**\n",
    "\n",
    "\n",
    "\n",
    "### Random variable\n",
    " variable - int , float,  x=10<br>\n",
    "**Discreate Random Variable**\n",
    "- Whole number, it not be a floating number\n",
    "- e.g. no. of bank accounts a person has.\n",
    "    - it always be 1,2,3,5, not 1.5 bank accounts\n",
    "- Population of a state \n",
    "    - 1 person =1\n",
    "    - not 1.5\n",
    "\n",
    "\n",
    "**Continous Random Variable**\n",
    "- Within a range of values we can have any value\n",
    "- 10 _ _ _ _ 15\n",
    "- continous variable can 10.1, 10.3, 14\n",
    "- e.g. height of persons\n",
    "\n",
    "\n",
    "### Gaussian Disribution or Normal Distribution\n",
    "\n",
    "I have a random variable = x\n",
    "x ~ gaussian disribution ( mean, S.D)\n",
    "g.d= sqrt(variable)\n",
    "\n",
    "\n",
    "![dth99](normalDistribution.png)"
   ]
  },
  {
   "cell_type": "markdown",
   "id": "4c2d88de",
   "metadata": {},
   "source": [
    "**Conarivance:**\n",
    "One of the very imp topic in data preprocessing\n",
    "\n",
    "*Size*  . | .  *Price*<br>\n",
    "1200 sq.m  | 100 rs.<br>\n",
    "1500 sq.m  | 200rs<br>\n",
    "1800 sq.m  | 300 rs<br>\n",
    "\n",
    "As size is increasing price is increasing<br>\n",
    "\n",
    "Can we quantify the relations b/w price & size<br>\n",
    "Size &harr; Price\n",
    "\n",
    "Basically, \n",
    "Size(&uarr;)  Price(&uarr;)<br>\n",
    "Size(&darr;)  Price(&darr;)\n",
    "\n",
    "## 1 Covariance\n",
    "\n",
    "**Covariance**\n",
    "![dth99](covarance.png) \n",
    "\n",
    "**covariance +ve x(&uarr;) and y(&uarr;)**\n",
    "![dth99](covarancepos.png)\n",
    "\n",
    "**covariance -ve x(&uarr;) and y(&darr;)**\n",
    "![dth99](covaranceneg.png)\n",
    "\n",
    "**How much +ve or -ve**\n",
    "![dth99](covarancehowmuch.png)\n",
    "\n",
    "\n",
    "## 2 Pearson Correlation Coefficient\n",
    "Link: https://en.wikipedia.org/wiki/Pearson_correlation_coefficient\n",
    "\n",
    "- (also used in future engineering)\n",
    "\n",
    "\n",
    "![dth99](pearson1.png)\n",
    "\n",
    "\n",
    "Pearson CC = Cov(x,y)/ S.D (x) * S.D (y)\n",
    "\n",
    "\n",
    "\n",
    "\n",
    "## NOTE:\n",
    "**Covarance help us to find the** *Direction of Relationship* <br> \n",
    "**Pearson how much: -ve & +ve Direction**\n",
    "\n",
    "## IMP\n",
    "\n",
    "**Example how its useful in feature selection**\n",
    "\n",
    "- Assume,  X,Y are to independented variable Z(outcome) is dependent variable.\n",
    "- When X(&uarr;) & Y(&uarr;) and their Spearman Rank Coifficient is *1*,  \n",
    "       - or we can Say, their corelation is 1.\n",
    "- that means X, Y are same Feature, which means I can drop one of the feature.\n",
    "- And I can use of these feature and solve the problem statement.\n",
    "\n",
    "\n",
    "\n",
    "## 3 Spearman Rank Coifficient\n",
    "  \n",
    "\n",
    "\n",
    "- **Strength**  (&rarr;) Pearson CC\n",
    "- **Direction of Rlatinshipship** (&rarr;) CoVariance\n",
    "\n",
    "\n",
    "\n",
    "Link : https://www.questionpro.com/blog/spearmans-rank-coefficient-of-correlation/#:~:text=The%20Spearman's%20rank%20coefficient%20of,primarily%20used%20for%20data%20analysis.\n",
    "\n",
    "Link : https://en.wikipedia.org/wiki/Spearman%27s_rank_correlation_coefficient\n",
    "\n",
    "![dth99](spearman1.png)\n",
    "\n",
    "\n",
    "\n",
    "**As We can see Spearman Rank Coifficient is nothing but rank of  Pearson Correlation Coefficient**\n",
    "\n",
    "\n",
    "*Calculating Rank*\n",
    "![dth99](spearman2.png)\n",
    "\n",
    "\n"
   ]
  },
  {
   "cell_type": "code",
   "execution_count": null,
   "id": "06f4ce15",
   "metadata": {},
   "outputs": [],
   "source": []
  },
  {
   "cell_type": "code",
   "execution_count": null,
   "id": "027e08c2",
   "metadata": {},
   "outputs": [],
   "source": []
  },
  {
   "cell_type": "markdown",
   "id": "1458e468",
   "metadata": {},
   "source": [
    "## Parameters\n",
    "\n",
    "**Parameters are referred to as characteristics which describe the population!**\n",
    "\n",
    "- Parameters are like average or percentage which helps to descibe the entire population.\n",
    "- **Mean** and the **stanard deviation** are two common parameters of populaton.\n",
    "- Example: Average age for being diabetic is the parameter for whole diabets dataset population."
   ]
  },
  {
   "cell_type": "markdown",
   "id": "1bd1a69d",
   "metadata": {},
   "source": [
    "# Measures of Central Tendency\n",
    "Foundational concept of statistics in Data Science\n",
    "\n",
    "- Mean - Average value of population\n",
    "- Median - Middle value in sorted population\n",
    "- Mode - Most occurring element in data"
   ]
  },
  {
   "cell_type": "markdown",
   "id": "ecc1ae9b",
   "metadata": {},
   "source": [
    "# Measures of *Spread*\n",
    "\n",
    "# Outlier - \n",
    "Unusual value in the dataset that can distort analytics.\n",
    "- Can be due to experimental errors\n",
    "- Affect Mean and Standard deviation"
   ]
  },
  {
   "cell_type": "markdown",
   "id": "b57780ac",
   "metadata": {},
   "source": [
    "# Interquartile Range ( IQR)\n",
    "\n",
    "Interquartile range divides the dataset into quartiles to measure the varibility and the spread of the dataset\n",
    "\n",
    "Quartile\n",
    "\n",
    "**Q1, Q2, Q2 are called first, sencond and third quartiles:**\n",
    "- **Q1** - 25th percentile of the dataset\n",
    "- **Q2** - 50th percentile of the dataset\n",
    "- **Q3** - 75th percentile of the dataset\n",
    "\n",
    "Interquartile Range\n",
    "\n",
    "- **IQR = Q3 - Q1**\n",
    "- Finding the upper and lower limits in IQR is important.\n",
    "- **Lower limit** = Q1 - (1.5 X IQR)\n",
    "- **Upper Limit** = Q3 + (1.5 x IQR)\n"
   ]
  },
  {
   "cell_type": "markdown",
   "id": "f20b7847",
   "metadata": {},
   "source": [
    "# Meaures of Accuracy\n",
    "- There are 4 measures of Accurancy:\n",
    "    - True Postitive (TP)\n",
    "    - False Positive (FP)\n",
    "    - True Negative (TN)\n",
    "    - False Negative (FN)\n",
    "![dth99](accuracy.png)"
   ]
  },
  {
   "cell_type": "markdown",
   "id": "46b56359",
   "metadata": {},
   "source": [
    "## Popular Accuarcy Metrics\n",
    "\n",
    "- Sensitivity: TP/(TP+FN)\n",
    "- Specificity: TN/(TN+FP)\n",
    "- Precision: TP(TP+FP)\n",
    "- Predictive Negative: TN/(TN+FN)"
   ]
  },
  {
   "cell_type": "markdown",
   "id": "13523476",
   "metadata": {},
   "source": [
    "# Hypothesis Testing\n",
    "\n",
    "### Hypothesis -  Before testing we guess or think/assume that suggestion might be like that.\n",
    "\n",
    "*Example - Pluto*\n",
    "\n",
    "\n",
    "### Hypothesis testing is basically used to test the assumption which is taken based on observations and experiments.\n",
    "\n",
    "- **Null Hypothesis** - Used to accept the assumption (An accepted fact!). Right Now, it is correct.\n",
    "    - My assumption that pluto is a planet. This is null Hypothesis\n",
    "- **Alternative Hypothesis** - Contradicts the assumptions at hand \n",
    "    - There will be a assumption that there is no planet such pluto. Sorry its not big enough to be called planet\n",
    "\n",
    "*Our Hypothesis will be proved false if alternative hypothesis is true*"
   ]
  },
  {
   "cell_type": "markdown",
   "id": "1d06c182",
   "metadata": {},
   "source": [
    "# Understanding the 'p' value\n",
    "\n",
    "## p value is used to support or reject the null hypothesis or the assumption\n",
    "\n",
    "- **provides evidence to reject the null hypothesis.**\n",
    "- <b>If *p < 0.5*, null hypothesis is accepted</b>"
   ]
  },
  {
   "cell_type": "code",
   "execution_count": null,
   "id": "83803cd5",
   "metadata": {},
   "outputs": [],
   "source": [
    "# p < 0.5 that pluto is a planet\n",
    "# p>0.5 then alternative hypothesis i.e. pluto is not a planet"
   ]
  },
  {
   "cell_type": "markdown",
   "id": "dcef8269",
   "metadata": {},
   "source": [
    "### diabetes Predication "
   ]
  },
  {
   "cell_type": "code",
   "execution_count": 1,
   "id": "9b4df7ee",
   "metadata": {},
   "outputs": [],
   "source": [
    "# Importing basic pacages\n",
    "import numpy as np\n",
    "import pandas as pd\n",
    "import matplotlib.pyplot as plt\n",
    "import seaborn as sns\n",
    "#from pandas_profiling import ProfileReport\n",
    "#from Subprocess import check_output\n",
    "from sklearn import preprocessing\n",
    "from sklearn.model_selection import train_test_split\n",
    "\n",
    "from sklearn.linear_model import LogisticRegression\n",
    "from sklearn.metrics import confusion_matrix\n",
    "from sklearn import metrics\n",
    "%matplotlib inline\n",
    "\n",
    "from sklearn.metrics import accuracy_score\n",
    "from sklearn.metrics import classification_report\n"
   ]
  },
  {
   "cell_type": "code",
   "execution_count": 4,
   "id": "7a5e9733",
   "metadata": {},
   "outputs": [],
   "source": [
    "data=pd.read_csv('diabetes.csv')"
   ]
  },
  {
   "cell_type": "code",
   "execution_count": 5,
   "id": "b2e9462f",
   "metadata": {},
   "outputs": [
    {
     "data": {
      "text/html": [
       "<div>\n",
       "<style scoped>\n",
       "    .dataframe tbody tr th:only-of-type {\n",
       "        vertical-align: middle;\n",
       "    }\n",
       "\n",
       "    .dataframe tbody tr th {\n",
       "        vertical-align: top;\n",
       "    }\n",
       "\n",
       "    .dataframe thead th {\n",
       "        text-align: right;\n",
       "    }\n",
       "</style>\n",
       "<table border=\"1\" class=\"dataframe\">\n",
       "  <thead>\n",
       "    <tr style=\"text-align: right;\">\n",
       "      <th></th>\n",
       "      <th>Pregnancies</th>\n",
       "      <th>Glucose</th>\n",
       "      <th>BloodPressure</th>\n",
       "      <th>SkinThickness</th>\n",
       "      <th>Insulin</th>\n",
       "      <th>BMI</th>\n",
       "      <th>DiabetesPedigreeFunction</th>\n",
       "      <th>Age</th>\n",
       "      <th>Outcome</th>\n",
       "    </tr>\n",
       "  </thead>\n",
       "  <tbody>\n",
       "    <tr>\n",
       "      <th>0</th>\n",
       "      <td>6</td>\n",
       "      <td>148</td>\n",
       "      <td>72</td>\n",
       "      <td>35</td>\n",
       "      <td>0</td>\n",
       "      <td>33.6</td>\n",
       "      <td>0.627</td>\n",
       "      <td>50</td>\n",
       "      <td>1</td>\n",
       "    </tr>\n",
       "    <tr>\n",
       "      <th>1</th>\n",
       "      <td>1</td>\n",
       "      <td>85</td>\n",
       "      <td>66</td>\n",
       "      <td>29</td>\n",
       "      <td>0</td>\n",
       "      <td>26.6</td>\n",
       "      <td>0.351</td>\n",
       "      <td>31</td>\n",
       "      <td>0</td>\n",
       "    </tr>\n",
       "    <tr>\n",
       "      <th>2</th>\n",
       "      <td>8</td>\n",
       "      <td>183</td>\n",
       "      <td>64</td>\n",
       "      <td>0</td>\n",
       "      <td>0</td>\n",
       "      <td>23.3</td>\n",
       "      <td>0.672</td>\n",
       "      <td>32</td>\n",
       "      <td>1</td>\n",
       "    </tr>\n",
       "    <tr>\n",
       "      <th>3</th>\n",
       "      <td>1</td>\n",
       "      <td>89</td>\n",
       "      <td>66</td>\n",
       "      <td>23</td>\n",
       "      <td>94</td>\n",
       "      <td>28.1</td>\n",
       "      <td>0.167</td>\n",
       "      <td>21</td>\n",
       "      <td>0</td>\n",
       "    </tr>\n",
       "    <tr>\n",
       "      <th>4</th>\n",
       "      <td>0</td>\n",
       "      <td>137</td>\n",
       "      <td>40</td>\n",
       "      <td>35</td>\n",
       "      <td>168</td>\n",
       "      <td>43.1</td>\n",
       "      <td>2.288</td>\n",
       "      <td>33</td>\n",
       "      <td>1</td>\n",
       "    </tr>\n",
       "  </tbody>\n",
       "</table>\n",
       "</div>"
      ],
      "text/plain": [
       "   Pregnancies  Glucose  BloodPressure  SkinThickness  Insulin   BMI  \\\n",
       "0            6      148             72             35        0  33.6   \n",
       "1            1       85             66             29        0  26.6   \n",
       "2            8      183             64              0        0  23.3   \n",
       "3            1       89             66             23       94  28.1   \n",
       "4            0      137             40             35      168  43.1   \n",
       "\n",
       "   DiabetesPedigreeFunction  Age  Outcome  \n",
       "0                     0.627   50        1  \n",
       "1                     0.351   31        0  \n",
       "2                     0.672   32        1  \n",
       "3                     0.167   21        0  \n",
       "4                     2.288   33        1  "
      ]
     },
     "execution_count": 5,
     "metadata": {},
     "output_type": "execute_result"
    }
   ],
   "source": [
    "data.head()\n",
    "# print(data.tail())"
   ]
  },
  {
   "cell_type": "markdown",
   "id": "d6146431",
   "metadata": {},
   "source": [
    "### Priting out the column labels"
   ]
  },
  {
   "cell_type": "code",
   "execution_count": 15,
   "id": "cb361cb2",
   "metadata": {},
   "outputs": [
    {
     "data": {
      "text/plain": [
       "Index(['Pregnancies', 'Glucose', 'BloodPressure', 'SkinThickness', 'Insulin',\n",
       "       'BMI', 'DiabetesPedigreeFunction', 'Age', 'Outcome'],\n",
       "      dtype='object')"
      ]
     },
     "execution_count": 15,
     "metadata": {},
     "output_type": "execute_result"
    }
   ],
   "source": [
    "data.columns"
   ]
  },
  {
   "cell_type": "code",
   "execution_count": 34,
   "id": "434bff6a",
   "metadata": {},
   "outputs": [
    {
     "data": {
      "text/plain": [
       "(768, 9)"
      ]
     },
     "execution_count": 34,
     "metadata": {},
     "output_type": "execute_result"
    }
   ],
   "source": [
    "data.shape"
   ]
  },
  {
   "cell_type": "code",
   "execution_count": null,
   "id": "9a96b39d",
   "metadata": {},
   "outputs": [],
   "source": []
  },
  {
   "cell_type": "code",
   "execution_count": 20,
   "id": "97bc21d5",
   "metadata": {},
   "outputs": [
    {
     "name": "stdout",
     "output_type": "stream",
     "text": [
      "<class 'pandas.core.frame.DataFrame'>\n",
      "RangeIndex: 768 entries, 0 to 767\n",
      "Data columns (total 9 columns):\n",
      " #   Column                    Non-Null Count  Dtype  \n",
      "---  ------                    --------------  -----  \n",
      " 0   Pregnancies               768 non-null    int64  \n",
      " 1   Glucose                   768 non-null    int64  \n",
      " 2   BloodPressure             768 non-null    int64  \n",
      " 3   SkinThickness             768 non-null    int64  \n",
      " 4   Insulin                   768 non-null    int64  \n",
      " 5   BMI                       768 non-null    float64\n",
      " 6   DiabetesPedigreeFunction  768 non-null    float64\n",
      " 7   Age                       768 non-null    int64  \n",
      " 8   Outcome                   768 non-null    int64  \n",
      "dtypes: float64(2), int64(7)\n",
      "memory usage: 54.1 KB\n"
     ]
    }
   ],
   "source": [
    "data.info() "
   ]
  },
  {
   "cell_type": "code",
   "execution_count": 6,
   "id": "07b4151d",
   "metadata": {},
   "outputs": [
    {
     "data": {
      "text/html": [
       "<div>\n",
       "<style scoped>\n",
       "    .dataframe tbody tr th:only-of-type {\n",
       "        vertical-align: middle;\n",
       "    }\n",
       "\n",
       "    .dataframe tbody tr th {\n",
       "        vertical-align: top;\n",
       "    }\n",
       "\n",
       "    .dataframe thead th {\n",
       "        text-align: right;\n",
       "    }\n",
       "</style>\n",
       "<table border=\"1\" class=\"dataframe\">\n",
       "  <thead>\n",
       "    <tr style=\"text-align: right;\">\n",
       "      <th></th>\n",
       "      <th>Pregnancies</th>\n",
       "      <th>Glucose</th>\n",
       "      <th>BloodPressure</th>\n",
       "      <th>SkinThickness</th>\n",
       "      <th>Insulin</th>\n",
       "      <th>BMI</th>\n",
       "      <th>DiabetesPedigreeFunction</th>\n",
       "      <th>Age</th>\n",
       "      <th>Outcome</th>\n",
       "    </tr>\n",
       "  </thead>\n",
       "  <tbody>\n",
       "    <tr>\n",
       "      <th>count</th>\n",
       "      <td>768.000000</td>\n",
       "      <td>768.000000</td>\n",
       "      <td>768.000000</td>\n",
       "      <td>768.000000</td>\n",
       "      <td>768.000000</td>\n",
       "      <td>768.000000</td>\n",
       "      <td>768.000000</td>\n",
       "      <td>768.000000</td>\n",
       "      <td>768.000000</td>\n",
       "    </tr>\n",
       "    <tr>\n",
       "      <th>mean</th>\n",
       "      <td>3.845052</td>\n",
       "      <td>120.894531</td>\n",
       "      <td>69.105469</td>\n",
       "      <td>20.536458</td>\n",
       "      <td>79.799479</td>\n",
       "      <td>31.992578</td>\n",
       "      <td>0.471876</td>\n",
       "      <td>33.240885</td>\n",
       "      <td>0.348958</td>\n",
       "    </tr>\n",
       "    <tr>\n",
       "      <th>std</th>\n",
       "      <td>3.369578</td>\n",
       "      <td>31.972618</td>\n",
       "      <td>19.355807</td>\n",
       "      <td>15.952218</td>\n",
       "      <td>115.244002</td>\n",
       "      <td>7.884160</td>\n",
       "      <td>0.331329</td>\n",
       "      <td>11.760232</td>\n",
       "      <td>0.476951</td>\n",
       "    </tr>\n",
       "    <tr>\n",
       "      <th>min</th>\n",
       "      <td>0.000000</td>\n",
       "      <td>0.000000</td>\n",
       "      <td>0.000000</td>\n",
       "      <td>0.000000</td>\n",
       "      <td>0.000000</td>\n",
       "      <td>0.000000</td>\n",
       "      <td>0.078000</td>\n",
       "      <td>21.000000</td>\n",
       "      <td>0.000000</td>\n",
       "    </tr>\n",
       "    <tr>\n",
       "      <th>25%</th>\n",
       "      <td>1.000000</td>\n",
       "      <td>99.000000</td>\n",
       "      <td>62.000000</td>\n",
       "      <td>0.000000</td>\n",
       "      <td>0.000000</td>\n",
       "      <td>27.300000</td>\n",
       "      <td>0.243750</td>\n",
       "      <td>24.000000</td>\n",
       "      <td>0.000000</td>\n",
       "    </tr>\n",
       "    <tr>\n",
       "      <th>50%</th>\n",
       "      <td>3.000000</td>\n",
       "      <td>117.000000</td>\n",
       "      <td>72.000000</td>\n",
       "      <td>23.000000</td>\n",
       "      <td>30.500000</td>\n",
       "      <td>32.000000</td>\n",
       "      <td>0.372500</td>\n",
       "      <td>29.000000</td>\n",
       "      <td>0.000000</td>\n",
       "    </tr>\n",
       "    <tr>\n",
       "      <th>75%</th>\n",
       "      <td>6.000000</td>\n",
       "      <td>140.250000</td>\n",
       "      <td>80.000000</td>\n",
       "      <td>32.000000</td>\n",
       "      <td>127.250000</td>\n",
       "      <td>36.600000</td>\n",
       "      <td>0.626250</td>\n",
       "      <td>41.000000</td>\n",
       "      <td>1.000000</td>\n",
       "    </tr>\n",
       "    <tr>\n",
       "      <th>max</th>\n",
       "      <td>17.000000</td>\n",
       "      <td>199.000000</td>\n",
       "      <td>122.000000</td>\n",
       "      <td>99.000000</td>\n",
       "      <td>846.000000</td>\n",
       "      <td>67.100000</td>\n",
       "      <td>2.420000</td>\n",
       "      <td>81.000000</td>\n",
       "      <td>1.000000</td>\n",
       "    </tr>\n",
       "  </tbody>\n",
       "</table>\n",
       "</div>"
      ],
      "text/plain": [
       "       Pregnancies     Glucose  BloodPressure  SkinThickness     Insulin  \\\n",
       "count   768.000000  768.000000     768.000000     768.000000  768.000000   \n",
       "mean      3.845052  120.894531      69.105469      20.536458   79.799479   \n",
       "std       3.369578   31.972618      19.355807      15.952218  115.244002   \n",
       "min       0.000000    0.000000       0.000000       0.000000    0.000000   \n",
       "25%       1.000000   99.000000      62.000000       0.000000    0.000000   \n",
       "50%       3.000000  117.000000      72.000000      23.000000   30.500000   \n",
       "75%       6.000000  140.250000      80.000000      32.000000  127.250000   \n",
       "max      17.000000  199.000000     122.000000      99.000000  846.000000   \n",
       "\n",
       "              BMI  DiabetesPedigreeFunction         Age     Outcome  \n",
       "count  768.000000                768.000000  768.000000  768.000000  \n",
       "mean    31.992578                  0.471876   33.240885    0.348958  \n",
       "std      7.884160                  0.331329   11.760232    0.476951  \n",
       "min      0.000000                  0.078000   21.000000    0.000000  \n",
       "25%     27.300000                  0.243750   24.000000    0.000000  \n",
       "50%     32.000000                  0.372500   29.000000    0.000000  \n",
       "75%     36.600000                  0.626250   41.000000    1.000000  \n",
       "max     67.100000                  2.420000   81.000000    1.000000  "
      ]
     },
     "execution_count": 6,
     "metadata": {},
     "output_type": "execute_result"
    }
   ],
   "source": [
    "data.describe()"
   ]
  },
  {
   "cell_type": "code",
   "execution_count": 22,
   "id": "49c4a5e7",
   "metadata": {},
   "outputs": [],
   "source": [
    "# quantile values min, 25%, 50%, 75% and max"
   ]
  },
  {
   "cell_type": "markdown",
   "id": "48afe6cf",
   "metadata": {},
   "source": [
    "# Preprocessing - checking for NaN values"
   ]
  },
  {
   "cell_type": "code",
   "execution_count": 23,
   "id": "125330c3",
   "metadata": {},
   "outputs": [
    {
     "data": {
      "text/plain": [
       "Pregnancies                 False\n",
       "Glucose                     False\n",
       "BloodPressure               False\n",
       "SkinThickness               False\n",
       "Insulin                     False\n",
       "BMI                         False\n",
       "DiabetesPedigreeFunction    False\n",
       "Age                         False\n",
       "Outcome                     False\n",
       "dtype: bool"
      ]
     },
     "execution_count": 23,
     "metadata": {},
     "output_type": "execute_result"
    }
   ],
   "source": [
    "data.isna().any()"
   ]
  },
  {
   "cell_type": "code",
   "execution_count": null,
   "id": "10ff33d9",
   "metadata": {},
   "outputs": [],
   "source": [
    "# data is already preprocessed"
   ]
  },
  {
   "cell_type": "markdown",
   "id": "2a496523",
   "metadata": {},
   "source": [
    "## Understanding correlation between the labels\n"
   ]
  },
  {
   "cell_type": "code",
   "execution_count": 7,
   "id": "24691d3e",
   "metadata": {
    "scrolled": true
   },
   "outputs": [
    {
     "data": {
      "image/png": "[encoded data removed]",
      "text/plain": [
       "<Figure size 1008x648 with 2 Axes>"
      ]
     },
     "metadata": {
      "needs_background": "light"
     },
     "output_type": "display_data"
    },
    {
     "name": "stdout",
     "output_type": "stream",
     "text": [
      "                          Pregnancies   Glucose  BloodPressure  SkinThickness  \\\n",
      "Pregnancies                  1.000000  0.129459       0.141282      -0.081672   \n",
      "Glucose                      0.129459  1.000000       0.152590       0.057328   \n",
      "BloodPressure                0.141282  0.152590       1.000000       0.207371   \n",
      "SkinThickness               -0.081672  0.057328       0.207371       1.000000   \n",
      "Insulin                     -0.073535  0.331357       0.088933       0.436783   \n",
      "BMI                          0.017683  0.221071       0.281805       0.392573   \n",
      "DiabetesPedigreeFunction    -0.033523  0.137337       0.041265       0.183928   \n",
      "Age                          0.544341  0.263514       0.239528      -0.113970   \n",
      "Outcome                      0.221898  0.466581       0.065068       0.074752   \n",
      "\n",
      "                           Insulin       BMI  DiabetesPedigreeFunction  \\\n",
      "Pregnancies              -0.073535  0.017683                 -0.033523   \n",
      "Glucose                   0.331357  0.221071                  0.137337   \n",
      "BloodPressure             0.088933  0.281805                  0.041265   \n",
      "SkinThickness             0.436783  0.392573                  0.183928   \n",
      "Insulin                   1.000000  0.197859                  0.185071   \n",
      "BMI                       0.197859  1.000000                  0.140647   \n",
      "DiabetesPedigreeFunction  0.185071  0.140647                  1.000000   \n",
      "Age                      -0.042163  0.036242                  0.033561   \n",
      "Outcome                   0.130548  0.292695                  0.173844   \n",
      "\n",
      "                               Age   Outcome  \n",
      "Pregnancies               0.544341  0.221898  \n",
      "Glucose                   0.263514  0.466581  \n",
      "BloodPressure             0.239528  0.065068  \n",
      "SkinThickness            -0.113970  0.074752  \n",
      "Insulin                  -0.042163  0.130548  \n",
      "BMI                       0.036242  0.292695  \n",
      "DiabetesPedigreeFunction  0.033561  0.173844  \n",
      "Age                       1.000000  0.238356  \n",
      "Outcome                   0.238356  1.000000  \n"
     ]
    }
   ],
   "source": [
    "# correlation\n",
    "\n",
    "correlation_matrics= data.corr()\n",
    "fig = plt.figure(figsize=(14,9))\n",
    "sns.heatmap(correlation_matrics, vmax=.9, square=True) # annot =value\n",
    "plt.show()\n",
    "print(correlation_matrics)"
   ]
  },
  {
   "cell_type": "markdown",
   "id": "323ea15e",
   "metadata": {},
   "source": [
    "## Number of people with no Diabetes"
   ]
  },
  {
   "cell_type": "code",
   "execution_count": 8,
   "id": "03f72028",
   "metadata": {},
   "outputs": [
    {
     "name": "stdout",
     "output_type": "stream",
     "text": [
      "500\n"
     ]
    }
   ],
   "source": [
    "No_suger = 0\n",
    "result=data['Outcome']\n",
    "for i in range(len(result)):\n",
    "    # print()\n",
    "    if result[i]==0:\n",
    "        No_suger+=1\n",
    "print(No_suger)"
   ]
  },
  {
   "cell_type": "code",
   "execution_count": 9,
   "id": "4a098372",
   "metadata": {},
   "outputs": [
    {
     "name": "stdout",
     "output_type": "stream",
     "text": [
      "768\n"
     ]
    }
   ],
   "source": [
    "Total_no_people=len(data.Outcome)\n",
    "print(Total_no_people)"
   ]
  },
  {
   "cell_type": "code",
   "execution_count": 10,
   "id": "8ec8bc14",
   "metadata": {},
   "outputs": [
    {
     "name": "stdout",
     "output_type": "stream",
     "text": [
      "268\n"
     ]
    }
   ],
   "source": [
    "People_having_diabetes=Total_no_people-No_suger\n",
    "print(People_having_diabetes)"
   ]
  },
  {
   "cell_type": "markdown",
   "id": "099e833e",
   "metadata": {},
   "source": [
    "### Priting Count plot with Seaborn"
   ]
  },
  {
   "cell_type": "code",
   "execution_count": 11,
   "id": "980b2c28",
   "metadata": {
    "scrolled": true
   },
   "outputs": [
    {
     "data": {
      "text/plain": [
       "Text(0.5, 1.0, 'No diabetes vs Diabetes')"
      ]
     },
     "execution_count": 11,
     "metadata": {},
     "output_type": "execute_result"
    },
    {
     "data": {
      "image/png": "[encoded data removed]",
      "text/plain": [
       "<Figure size 432x288 with 1 Axes>"
      ]
     },
     "metadata": {
      "needs_background": "light"
     },
     "output_type": "display_data"
    }
   ],
   "source": [
    "# creating count plot with title using seaborn\n",
    "\n",
    "sns.countplot(x=data.Outcome)\n",
    "plt.title(\"No diabetes vs Diabetes\")"
   ]
  },
  {
   "cell_type": "code",
   "execution_count": 19,
   "id": "84f31149",
   "metadata": {},
   "outputs": [],
   "source": [
    "x =data.drop(['Outcome'],axis =1)  # drop the variables\n",
    "\n",
    "y=data['Outcome']\n",
    "\n",
    "xtrain, xtest, ytrain, ytest= train_test_split(x,y, test_size=0.2, random_state=42)"
   ]
  },
  {
   "cell_type": "code",
   "execution_count": 26,
   "id": "58691baf",
   "metadata": {},
   "outputs": [
    {
     "name": "stderr",
     "output_type": "stream",
     "text": [
      "C:\\Users\\deep9\\anaconda3\\lib\\site-packages\\sklearn\\linear_model\\_logistic.py:763: ConvergenceWarning: lbfgs failed to converge (status=1):\n",
      "STOP: TOTAL NO. of ITERATIONS REACHED LIMIT.\n",
      "\n",
      "Increase the number of iterations (max_iter) or scale the data as shown in:\n",
      "    https://scikit-learn.org/stable/modules/preprocessing.html\n",
      "Please also refer to the documentation for alternative solver options:\n",
      "    https://scikit-learn.org/stable/modules/linear_model.html#logistic-regression\n",
      "  n_iter_i = _check_optimize_result(\n"
     ]
    },
    {
     "data": {
      "text/plain": [
       "LogisticRegression()"
      ]
     },
     "execution_count": 26,
     "metadata": {},
     "output_type": "execute_result"
    }
   ],
   "source": [
    "\n",
    "L = LogisticRegression()\n",
    "L.fit(xtrain,ytrain)"
   ]
  },
  {
   "cell_type": "markdown",
   "id": "c3b7b398",
   "metadata": {},
   "source": [
    "### Performing predictons"
   ]
  },
  {
   "cell_type": "code",
   "execution_count": 25,
   "id": "45a48aab",
   "metadata": {},
   "outputs": [],
   "source": [
    "y_pred=L.predict(xtest)"
   ]
  },
  {
   "cell_type": "markdown",
   "id": "62d79bfc",
   "metadata": {},
   "source": [
    "### Confusion Matrix"
   ]
  },
  {
   "cell_type": "code",
   "execution_count": 28,
   "id": "956eb54d",
   "metadata": {},
   "outputs": [
    {
     "data": {
      "text/plain": [
       "array([[78, 21],\n",
       "       [18, 37]], dtype=int64)"
      ]
     },
     "execution_count": 28,
     "metadata": {},
     "output_type": "execute_result"
    }
   ],
   "source": [
    "cm = metrics.confusion_matrix(ytest, y_pred)\n",
    "cm"
   ]
  },
  {
   "cell_type": "code",
   "execution_count": 30,
   "id": "c6eddedb",
   "metadata": {},
   "outputs": [],
   "source": [
    "#TP = 78, FN=21, TN=18, FP=37"
   ]
  },
  {
   "cell_type": "markdown",
   "id": "a33bcab8",
   "metadata": {},
   "source": [
    "### Finding accuracy score"
   ]
  },
  {
   "cell_type": "code",
   "execution_count": 32,
   "id": "107040da",
   "metadata": {},
   "outputs": [
    {
     "name": "stdout",
     "output_type": "stream",
     "text": [
      "Accuracy score of the Logistic regression model:  74.67532467532467 %\n"
     ]
    }
   ],
   "source": [
    "accuracy= L.score(xtest, ytest)\n",
    "print('Accuracy score of the Logistic regression model: ', accuracy*100,'%')"
   ]
  },
  {
   "cell_type": "markdown",
   "id": "a40accaa",
   "metadata": {},
   "source": [
    "### Priting Clasification Report"
   ]
  },
  {
   "cell_type": "code",
   "execution_count": 42,
   "id": "734176ad",
   "metadata": {},
   "outputs": [
    {
     "name": "stdout",
     "output_type": "stream",
     "text": [
      "              precision    recall  f1-score   support\n",
      "\n",
      "           0       0.81      0.79      0.80        99\n",
      "           1       0.64      0.67      0.65        55\n",
      "\n",
      "    accuracy                           0.75       154\n",
      "   macro avg       0.73      0.73      0.73       154\n",
      "weighted avg       0.75      0.75      0.75       154\n",
      "\n"
     ]
    }
   ],
   "source": [
    "#from sklearn.metrics import classifiction_report\n",
    "class_report= classification_report(ytest, y_pred)\n",
    "print(class_report)"
   ]
  },
  {
   "cell_type": "code",
   "execution_count": null,
   "id": "c04b4bbb",
   "metadata": {},
   "outputs": [],
   "source": []
  },
  {
   "cell_type": "markdown",
   "id": "ed882246",
   "metadata": {},
   "source": [
    "# Normalazation \n",
    "\n",
    "- **helps us to scale down or feature from 0 to 1**\n",
    "\n",
    "![dth99](normalization.png)\n",
    "\n",
    "# Standardization\n",
    "- **helps us to scale down based on standard normal distribution.**\n",
    "    - in normal distribution mean is 0 and S.D. is 1\n",
    "    \n",
    "    \n",
    "![dth99](standardization.png)"
   ]
  },
  {
   "cell_type": "code",
   "execution_count": 5,
   "id": "70f28c29",
   "metadata": {},
   "outputs": [],
   "source": [
    "df=pd.read_csv('https://raw.githubusercontent.com/rasbt/pattern_classification/master/data/wine_data.csv', header=None,usecols=[0,1,2])\n"
   ]
  },
  {
   "cell_type": "code",
   "execution_count": 6,
   "id": "709191df",
   "metadata": {},
   "outputs": [
    {
     "data": {
      "text/html": [
       "<div>\n",
       "<style scoped>\n",
       "    .dataframe tbody tr th:only-of-type {\n",
       "        vertical-align: middle;\n",
       "    }\n",
       "\n",
       "    .dataframe tbody tr th {\n",
       "        vertical-align: top;\n",
       "    }\n",
       "\n",
       "    .dataframe thead th {\n",
       "        text-align: right;\n",
       "    }\n",
       "</style>\n",
       "<table border=\"1\" class=\"dataframe\">\n",
       "  <thead>\n",
       "    <tr style=\"text-align: right;\">\n",
       "      <th></th>\n",
       "      <th>Class</th>\n",
       "      <th>Alcohol</th>\n",
       "      <th>Malic</th>\n",
       "    </tr>\n",
       "  </thead>\n",
       "  <tbody>\n",
       "    <tr>\n",
       "      <th>0</th>\n",
       "      <td>1</td>\n",
       "      <td>14.23</td>\n",
       "      <td>1.71</td>\n",
       "    </tr>\n",
       "    <tr>\n",
       "      <th>1</th>\n",
       "      <td>1</td>\n",
       "      <td>13.20</td>\n",
       "      <td>1.78</td>\n",
       "    </tr>\n",
       "    <tr>\n",
       "      <th>2</th>\n",
       "      <td>1</td>\n",
       "      <td>13.16</td>\n",
       "      <td>2.36</td>\n",
       "    </tr>\n",
       "    <tr>\n",
       "      <th>3</th>\n",
       "      <td>1</td>\n",
       "      <td>14.37</td>\n",
       "      <td>1.95</td>\n",
       "    </tr>\n",
       "    <tr>\n",
       "      <th>4</th>\n",
       "      <td>1</td>\n",
       "      <td>13.24</td>\n",
       "      <td>2.59</td>\n",
       "    </tr>\n",
       "  </tbody>\n",
       "</table>\n",
       "</div>"
      ],
      "text/plain": [
       "   Class  Alcohol  Malic\n",
       "0      1    14.23   1.71\n",
       "1      1    13.20   1.78\n",
       "2      1    13.16   2.36\n",
       "3      1    14.37   1.95\n",
       "4      1    13.24   2.59"
      ]
     },
     "execution_count": 6,
     "metadata": {},
     "output_type": "execute_result"
    }
   ],
   "source": [
    "df.columns=['Class','Alcohol','Malic']\n",
    "df.head()"
   ]
  },
  {
   "cell_type": "code",
   "execution_count": 10,
   "id": "a1def154",
   "metadata": {},
   "outputs": [],
   "source": [
    "from sklearn.preprocessing import MinMaxScaler"
   ]
  },
  {
   "cell_type": "code",
   "execution_count": 11,
   "id": "46321425",
   "metadata": {},
   "outputs": [],
   "source": [
    "scaling=MinMaxScaler()"
   ]
  },
  {
   "cell_type": "code",
   "execution_count": 12,
   "id": "0d9c4040",
   "metadata": {},
   "outputs": [
    {
     "data": {
      "text/plain": [
       "array([[0.84210526, 0.1916996 ],\n",
       "       [0.57105263, 0.2055336 ],\n",
       "       [0.56052632, 0.3201581 ],\n",
       "       [0.87894737, 0.23913043],\n",
       "       [0.58157895, 0.36561265],\n",
       "       [0.83421053, 0.20158103],\n",
       "       [0.88421053, 0.22332016],\n",
       "       [0.79736842, 0.27865613],\n",
       "       [1.        , 0.17786561],\n",
       "       [0.74473684, 0.12055336],\n",
       "       [0.80789474, 0.28063241],\n",
       "       [0.81315789, 0.14624506],\n",
       "       [0.71578947, 0.19565217],\n",
       "       [0.97894737, 0.19565217],\n",
       "       [0.88157895, 0.22332016],\n",
       "       [0.68421053, 0.21146245],\n",
       "       [0.86052632, 0.23320158],\n",
       "       [0.73684211, 0.16403162],\n",
       "       [0.83157895, 0.16798419],\n",
       "       [0.68684211, 0.46640316],\n",
       "       [0.79736842, 0.17588933],\n",
       "       [0.5       , 0.60474308],\n",
       "       [0.70526316, 0.22134387],\n",
       "       [0.47894737, 0.16996047],\n",
       "       [0.65      , 0.21146245],\n",
       "       [0.53157895, 0.25889328],\n",
       "       [0.62105263, 0.20355731],\n",
       "       [0.59736842, 0.19367589],\n",
       "       [0.74736842, 0.22924901],\n",
       "       [0.78684211, 0.18577075],\n",
       "       [0.71052632, 0.15019763],\n",
       "       [0.67105263, 0.18181818],\n",
       "       [0.69736842, 0.21541502],\n",
       "       [0.71842105, 0.15612648],\n",
       "       [0.65263158, 0.20948617],\n",
       "       [0.64473684, 0.21146245],\n",
       "       [0.59210526, 0.17786561],\n",
       "       [0.53157895, 0.1798419 ],\n",
       "       [0.53684211, 0.15019763],\n",
       "       [0.83947368, 0.64229249],\n",
       "       [0.66578947, 0.1916996 ],\n",
       "       [0.62631579, 0.61264822],\n",
       "       [0.75      , 0.22727273],\n",
       "       [0.58157895, 0.64031621],\n",
       "       [0.53157895, 0.20355731],\n",
       "       [0.83684211, 0.65217391],\n",
       "       [0.88157895, 0.56324111],\n",
       "       [0.75526316, 0.18577075],\n",
       "       [0.80789474, 0.25296443],\n",
       "       [0.76578947, 0.19565217],\n",
       "       [0.53157895, 0.19565217],\n",
       "       [0.73684211, 0.1798419 ],\n",
       "       [0.73421053, 0.19960474],\n",
       "       [0.72105263, 0.22924901],\n",
       "       [0.71315789, 0.18379447],\n",
       "       [0.66578947, 0.19565217],\n",
       "       [0.83947368, 0.18972332],\n",
       "       [0.59473684, 0.243083  ],\n",
       "       [0.70789474, 0.13636364],\n",
       "       [0.35263158, 0.03952569],\n",
       "       [0.34210526, 0.07114625],\n",
       "       [0.42368421, 0.12252964],\n",
       "       [0.69473684, 0.10079051],\n",
       "       [0.35263158, 0.0770751 ],\n",
       "       [0.3       , 0.14031621],\n",
       "       [0.35263158, 0.09288538],\n",
       "       [0.54736842, 0.05335968],\n",
       "       [0.35263158, 0.08498024],\n",
       "       [0.60789474, 0.03952569],\n",
       "       [0.31052632, 0.08893281],\n",
       "       [0.33157895, 0.17193676],\n",
       "       [0.74473684, 0.15217391],\n",
       "       [0.64736842, 0.18181818],\n",
       "       [0.51578947, 0.18379447],\n",
       "       [0.24473684, 0.06916996],\n",
       "       [0.16578947, 0.22529644],\n",
       "       [0.52631579, 0.03162055],\n",
       "       [0.21315789, 0.42490119],\n",
       "       [0.34210526, 0.04940711],\n",
       "       [0.43947368, 0.61857708],\n",
       "       [0.25526316, 0.03557312],\n",
       "       [0.44473684, 0.21146245],\n",
       "       [0.27631579, 0.0770751 ],\n",
       "       [0.53157895, 0.61660079],\n",
       "       [0.21315789, 0.02964427],\n",
       "       [0.43157895, 0.04743083],\n",
       "       [0.29736842, 0.17193676],\n",
       "       [0.16315789, 0.18379447],\n",
       "       [0.16052632, 0.26086957],\n",
       "       [0.27631579, 0.11660079],\n",
       "       [0.27631579, 0.21541502],\n",
       "       [0.25526316, 0.15217391],\n",
       "       [0.43684211, 0.15612648],\n",
       "       [0.33157895, 0.41304348],\n",
       "       [0.15526316, 0.24703557],\n",
       "       [0.37894737, 0.1541502 ],\n",
       "       [0.20526316, 0.27272727],\n",
       "       [0.33157895, 0.13241107],\n",
       "       [0.35263158, 0.06521739],\n",
       "       [0.33157895, 0.48023715],\n",
       "       [0.27631579, 0.26482213],\n",
       "       [0.41315789, 0.11857708],\n",
       "       [0.34473684, 0.33794466],\n",
       "       [0.20789474, 0.19367589],\n",
       "       [0.38947368, 0.19565217],\n",
       "       [0.36578947, 0.35770751],\n",
       "       [0.32105263, 0.19565217],\n",
       "       [0.44473684, 0.19960474],\n",
       "       [0.31315789, 0.10869565],\n",
       "       [0.15263158, 0.12055336],\n",
       "       [0.11315789, 0.59288538],\n",
       "       [0.39210526, 0.33399209],\n",
       "       [0.19210526, 0.38339921],\n",
       "       [0.1       , 0.        ],\n",
       "       [0.27631579, 0.1284585 ],\n",
       "       [0.        , 0.15217391],\n",
       "       [0.20789474, 0.14426877],\n",
       "       [0.36578947, 0.17193676],\n",
       "       [0.45789474, 0.53162055],\n",
       "       [0.25526316, 0.53162055],\n",
       "       [0.11052632, 0.32806324],\n",
       "       [0.13947368, 0.25889328],\n",
       "       [0.36578947, 0.72924901],\n",
       "       [0.53157895, 1.        ],\n",
       "       [0.22105263, 0.7055336 ],\n",
       "       [0.27368421, 0.28063241],\n",
       "       [0.36842105, 0.15612648],\n",
       "       [0.2       , 0.27470356],\n",
       "       [0.35263158, 0.17588933],\n",
       "       [0.26578947, 0.70355731],\n",
       "       [0.48157895, 0.12055336],\n",
       "       [0.48684211, 0.44466403],\n",
       "       [0.46842105, 0.31027668],\n",
       "       [0.43947368, 0.55533597],\n",
       "       [0.38947368, 0.09881423],\n",
       "       [0.41315789, 0.33992095],\n",
       "       [0.32105263, 0.78656126],\n",
       "       [0.39473684, 0.94268775],\n",
       "       [0.64736842, 0.56324111],\n",
       "       [0.47631579, 0.43873518],\n",
       "       [0.5       , 0.40909091],\n",
       "       [0.61315789, 0.35968379],\n",
       "       [0.65526316, 0.48023715],\n",
       "       [0.68157895, 0.83201581],\n",
       "       [0.32105263, 0.62055336],\n",
       "       [0.56052632, 0.55928854],\n",
       "       [0.75      , 0.84980237],\n",
       "       [0.48421053, 0.76482213],\n",
       "       [0.60263158, 0.49407115],\n",
       "       [0.53947368, 0.62450593],\n",
       "       [0.65      , 0.47035573],\n",
       "       [0.46315789, 0.38142292],\n",
       "       [0.54736842, 0.22924901],\n",
       "       [0.57894737, 0.50592885],\n",
       "       [0.40789474, 0.10869565],\n",
       "       [0.56315789, 0.87944664],\n",
       "       [0.73947368, 0.66798419],\n",
       "       [0.37368421, 0.45256917],\n",
       "       [0.87105263, 0.18577075],\n",
       "       [0.64473684, 0.18379447],\n",
       "       [0.35      , 0.61067194],\n",
       "       [0.7       , 0.49802372],\n",
       "       [0.47894737, 0.5       ],\n",
       "       [0.50789474, 0.53557312],\n",
       "       [0.72368421, 0.39920949],\n",
       "       [0.71052632, 0.71541502],\n",
       "       [0.63684211, 0.58498024],\n",
       "       [0.47105263, 0.51976285],\n",
       "       [0.67105263, 0.36363636],\n",
       "       [0.62368421, 0.76284585],\n",
       "       [0.30789474, 0.45256917],\n",
       "       [0.45789474, 0.32608696],\n",
       "       [0.82368421, 0.34980237],\n",
       "       [0.70526316, 0.97035573],\n",
       "       [0.62368421, 0.62648221],\n",
       "       [0.58947368, 0.69960474],\n",
       "       [0.56315789, 0.36561265],\n",
       "       [0.81578947, 0.66403162]])"
      ]
     },
     "execution_count": 12,
     "metadata": {},
     "output_type": "execute_result"
    }
   ],
   "source": [
    "scaling.fit_transform(df[['Alcohol','Malic']])"
   ]
  },
  {
   "cell_type": "code",
   "execution_count": 13,
   "id": "8f7bccd3",
   "metadata": {},
   "outputs": [],
   "source": [
    "\n",
    "# Standardization (Z - score Normalization)"
   ]
  },
  {
   "cell_type": "code",
   "execution_count": 16,
   "id": "9b595e80",
   "metadata": {
    "scrolled": true
   },
   "outputs": [],
   "source": [
    "from sklearn.preprocessing import StandardScaler"
   ]
  },
  {
   "cell_type": "code",
   "execution_count": 17,
   "id": "13b36731",
   "metadata": {},
   "outputs": [],
   "source": [
    "scaling=StandardScaler()"
   ]
  },
  {
   "cell_type": "code",
   "execution_count": 19,
   "id": "6ff289de",
   "metadata": {},
   "outputs": [
    {
     "data": {
      "text/plain": [
       "array([[ 1.51861254, -0.5622498 ],\n",
       "       [ 0.24628963, -0.49941338],\n",
       "       [ 0.19687903,  0.02123125],\n",
       "       [ 1.69154964, -0.34681064],\n",
       "       [ 0.29570023,  0.22769377],\n",
       "       [ 1.48155459, -0.51736664],\n",
       "       [ 1.71625494, -0.4186237 ],\n",
       "       [ 1.3086175 , -0.16727801],\n",
       "       [ 2.25977152, -0.62508622],\n",
       "       [ 1.0615645 , -0.88540853],\n",
       "       [ 1.3580281 , -0.15830138],\n",
       "       [ 1.38273339, -0.76871232],\n",
       "       [ 0.92568536, -0.54429654],\n",
       "       [ 2.16095032, -0.54429654],\n",
       "       [ 1.70390229, -0.4186237 ],\n",
       "       [ 0.77745356, -0.47248348],\n",
       "       [ 1.60508109, -0.37374054],\n",
       "       [ 1.02450655, -0.68792264],\n",
       "       [ 1.46920194, -0.66996938],\n",
       "       [ 0.78980621,  0.68550197],\n",
       "       [ 1.3086175 , -0.63406285],\n",
       "       [-0.08723191,  1.31386618],\n",
       "       [ 0.87627476, -0.42760033],\n",
       "       [-0.18605311, -0.66099274],\n",
       "       [ 0.61686912, -0.47248348],\n",
       "       [ 0.06099988, -0.25704433],\n",
       "       [ 0.48098997, -0.50839001],\n",
       "       [ 0.36981612, -0.55327317],\n",
       "       [ 1.07391715, -0.3916938 ],\n",
       "       [ 1.2592069 , -0.58917969],\n",
       "       [ 0.90098006, -0.75075906],\n",
       "       [ 0.71569031, -0.60713296],\n",
       "       [ 0.83921681, -0.45453022],\n",
       "       [ 0.93803801, -0.72382916],\n",
       "       [ 0.62922177, -0.48146012],\n",
       "       [ 0.59216382, -0.47248348],\n",
       "       [ 0.34511082, -0.62508622],\n",
       "       [ 0.06099988, -0.61610959],\n",
       "       [ 0.08570518, -0.75075906],\n",
       "       [ 1.50625989,  1.48442217],\n",
       "       [ 0.69098501, -0.5622498 ],\n",
       "       [ 0.50569527,  1.3497727 ],\n",
       "       [ 1.0862698 , -0.40067043],\n",
       "       [ 0.29570023,  1.47544554],\n",
       "       [ 0.06099988, -0.50839001],\n",
       "       [ 1.49390724,  1.52930533],\n",
       "       [ 1.70390229,  1.12535692],\n",
       "       [ 1.1109751 , -0.58917969],\n",
       "       [ 1.3580281 , -0.28397422],\n",
       "       [ 1.1603857 , -0.54429654],\n",
       "       [ 0.06099988, -0.54429654],\n",
       "       [ 1.02450655, -0.61610959],\n",
       "       [ 1.01215391, -0.52634327],\n",
       "       [ 0.95039066, -0.3916938 ],\n",
       "       [ 0.91333271, -0.59815632],\n",
       "       [ 0.69098501, -0.54429654],\n",
       "       [ 1.50625989, -0.57122643],\n",
       "       [ 0.35746347, -0.32885738],\n",
       "       [ 0.88862741, -0.81359548],\n",
       "       [-0.77898029, -1.25345042],\n",
       "       [-0.82839089, -1.10982432],\n",
       "       [-0.44545875, -0.8764319 ],\n",
       "       [ 0.82686416, -0.97517485],\n",
       "       [-0.77898029, -1.08289442],\n",
       "       [-1.02603329, -0.79564222],\n",
       "       [-0.77898029, -1.01108137],\n",
       "       [ 0.13511578, -1.190614  ],\n",
       "       [-0.77898029, -1.0469879 ],\n",
       "       [ 0.41922672, -1.25345042],\n",
       "       [-0.97662269, -1.02903463],\n",
       "       [-0.87780149, -0.65201611],\n",
       "       [ 1.0615645 , -0.74178243],\n",
       "       [ 0.60451647, -0.60713296],\n",
       "       [-0.01311602, -0.59815632],\n",
       "       [-1.28543893, -1.11880095],\n",
       "       [-1.65601842, -0.40964706],\n",
       "       [ 0.03629458, -1.28935695],\n",
       "       [-1.43367073,  0.49699271],\n",
       "       [-0.82839089, -1.20856726],\n",
       "       [-0.37134286,  1.3767026 ],\n",
       "       [-1.23602833, -1.27140368],\n",
       "       [-0.34663756, -0.47248348],\n",
       "       [-1.13720713, -1.08289442],\n",
       "       [ 0.06099988,  1.36772596],\n",
       "       [-1.43367073, -1.29833358],\n",
       "       [-0.4084008 , -1.21754389],\n",
       "       [-1.03838594, -0.65201611],\n",
       "       [-1.66837107, -0.59815632],\n",
       "       [-1.68072372, -0.2480677 ],\n",
       "       [-1.13720713, -0.90336179],\n",
       "       [-1.13720713, -0.45453022],\n",
       "       [-1.23602833, -0.74178243],\n",
       "       [-0.38369551, -0.72382916],\n",
       "       [-0.87780149,  0.44313292],\n",
       "       [-1.70542902, -0.31090412],\n",
       "       [-0.6554538 , -0.7328058 ],\n",
       "       [-1.47072867, -0.19420791],\n",
       "       [-0.87780149, -0.83154874],\n",
       "       [-0.77898029, -1.13675421],\n",
       "       [-0.87780149,  0.74833839],\n",
       "       [-1.13720713, -0.23011443],\n",
       "       [-0.49486935, -0.89438516],\n",
       "       [-0.81603824,  0.10202093],\n",
       "       [-1.45837602, -0.55327317],\n",
       "       [-0.6060432 , -0.54429654],\n",
       "       [-0.71721705,  0.19178724],\n",
       "       [-0.92721209, -0.54429654],\n",
       "       [-0.34663756, -0.52634327],\n",
       "       [-0.96427004, -0.93926832],\n",
       "       [-1.71778167, -0.88540853],\n",
       "       [-1.90307141,  1.26000639],\n",
       "       [-0.59369055,  0.08406767],\n",
       "       [-1.53249192,  0.30848345],\n",
       "       [-1.96483466, -1.43298305],\n",
       "       [-1.13720713, -0.849502  ],\n",
       "       [-2.43423535, -0.74178243],\n",
       "       [-1.45837602, -0.77768895],\n",
       "       [-0.71721705, -0.65201611],\n",
       "       [-0.28487431,  0.98173081],\n",
       "       [-1.23602833,  0.98173081],\n",
       "       [-1.91542406,  0.05713777],\n",
       "       [-1.77954492, -0.25704433],\n",
       "       [-0.71721705,  1.87939396],\n",
       "       [ 0.06099988,  3.10919247],\n",
       "       [-1.39661278,  1.77167438],\n",
       "       [-1.14955978, -0.15830138],\n",
       "       [-0.7048644 , -0.72382916],\n",
       "       [-1.49543397, -0.18523128],\n",
       "       [-0.77898029, -0.63406285],\n",
       "       [-1.18661773,  1.76269775],\n",
       "       [-0.17370046, -0.88540853],\n",
       "       [-0.14899516,  0.58675903],\n",
       "       [-0.23546371, -0.02365191],\n",
       "       [-0.37134286,  1.08945039],\n",
       "       [-0.6060432 , -0.98415148],\n",
       "       [-0.49486935,  0.11099756],\n",
       "       [-0.92721209,  2.13971627],\n",
       "       [-0.5813379 ,  2.84887015],\n",
       "       [ 0.60451647,  1.12535692],\n",
       "       [-0.19840576,  0.55982913],\n",
       "       [-0.08723191,  0.42517966],\n",
       "       [ 0.44393202,  0.20076388],\n",
       "       [ 0.64157442,  0.74833839],\n",
       "       [ 0.76510091,  2.34617879],\n",
       "       [-0.92721209,  1.38567923],\n",
       "       [ 0.19687903,  1.10740365],\n",
       "       [ 1.0862698 ,  2.42696848],\n",
       "       [-0.16134781,  2.04097332],\n",
       "       [ 0.39452142,  0.81117481],\n",
       "       [ 0.09805783,  1.40363249],\n",
       "       [ 0.61686912,  0.70345524],\n",
       "       [-0.26016901,  0.29950682],\n",
       "       [ 0.13511578, -0.3916938 ],\n",
       "       [ 0.28334758,  0.8650346 ],\n",
       "       [-0.51957465, -0.93926832],\n",
       "       [ 0.20923168,  2.56161795],\n",
       "       [ 1.0368592 ,  1.60111838],\n",
       "       [-0.6801591 ,  0.62266555],\n",
       "       [ 1.65449169, -0.58917969],\n",
       "       [ 0.59216382, -0.59815632],\n",
       "       [-0.79133294,  1.34079607],\n",
       "       [ 0.85156946,  0.82912808],\n",
       "       [-0.18605311,  0.83810471],\n",
       "       [-0.05017396,  0.99968408],\n",
       "       [ 0.96274331,  0.3802965 ],\n",
       "       [ 0.90098006,  1.81655754],\n",
       "       [ 0.55510587,  1.22409986],\n",
       "       [-0.22311106,  0.92787102],\n",
       "       [ 0.71569031,  0.21871714],\n",
       "       [ 0.49334262,  2.03199669],\n",
       "       [-0.98897534,  0.62266555],\n",
       "       [-0.28487431,  0.04816114],\n",
       "       [ 1.43214399,  0.15588072],\n",
       "       [ 0.87627476,  2.974543  ],\n",
       "       [ 0.49334262,  1.41260912],\n",
       "       [ 0.33275817,  1.74474449],\n",
       "       [ 0.20923168,  0.22769377],\n",
       "       [ 1.39508604,  1.58316512]])"
      ]
     },
     "execution_count": 19,
     "metadata": {},
     "output_type": "execute_result"
    }
   ],
   "source": [
    "scaling.fit_transform(df[['Alcohol','Malic']])"
   ]
  },
  {
   "cell_type": "markdown",
   "id": "8d4e41e4",
   "metadata": {},
   "source": [
    "# P value \n",
    "\n",
    "![dth99](pvalue1.png)\n",
    "\n",
    "-\n",
    "\n",
    "**P value :- It is the probability for the *NULL hypthesis* to be true**\n",
    "\n",
    "-\n",
    "\n",
    "*Null hypothesis : treats everything same or equal*\n",
    "-\n",
    "-\n",
    "\n",
    "![dth99](pvalue2.png)"
   ]
  },
  {
   "attachments": {},
   "cell_type": "markdown",
   "id": "36352ca6",
   "metadata": {},
   "source": [
    "- laptop trackpad example\n",
    "![dth99](pvalue3.png)\n",
    "\n",
    "![dth99](pvalue4.png)\n",
    "\n",
    "![dth99](pvalue5.png)\n",
    "\n",
    "\n",
    "![dth99](pvalue6.png)\n",
    "\n",
    "![dth99](pvalue7.png)\n",
    "\n",
    "![dth99](pvalue8.png)\n",
    "\n",
    "![dth99](pvalue9.png) \n",
    "this is is maths, through z test\n",
    "- in coding we use p value \n",
    "\n",
    "p-value\n",
    "\n",
    "![dth99](pvalue10.png) \n",
    "![dth99](pvalue11.png) \n",
    "\n"
   ]
  },
  {
   "cell_type": "markdown",
   "id": "f323bf6e",
   "metadata": {},
   "source": []
  },
  {
   "cell_type": "code",
   "execution_count": 20,
   "id": "c8cfdc16",
   "metadata": {},
   "outputs": [
    {
     "name": "stdout",
     "output_type": "stream",
     "text": [
      "(-3.704070154695264, 0.0002121675401761147)\n"
     ]
    }
   ],
   "source": [
    "from statsmodels.stats.weightstats import ztest as ztest\n",
    "\n",
    "# enter IQ levels for 20 patients\n",
    "data =[88,92,94,94,96,97,97,97,99,99,105,109,109,109,112,112,113,114,115]\n",
    "\n",
    "p_value=ztest(data,value=110)\n",
    "\n",
    "print(p_value)"
   ]
  },
  {
   "cell_type": "code",
   "execution_count": 19,
   "id": "b2f8c038",
   "metadata": {},
   "outputs": [
    {
     "ename": "TypeError",
     "evalue": "'<=' not supported between instances of 'tuple' and 'float'",
     "output_type": "error",
     "traceback": [
      "\u001b[1;31m---------------------------------------------------------------------------\u001b[0m",
      "\u001b[1;31mTypeError\u001b[0m                                 Traceback (most recent call last)",
      "\u001b[1;32m~\\AppData\\Local\\Temp/ipykernel_8028/3148654051.py\u001b[0m in \u001b[0;36m<module>\u001b[1;34m\u001b[0m\n\u001b[1;32m----> 1\u001b[1;33m \u001b[1;32mif\u001b[0m \u001b[0mp_value\u001b[0m\u001b[1;33m<=\u001b[0m\u001b[1;36m0.05\u001b[0m\u001b[1;33m:\u001b[0m\u001b[1;33m\u001b[0m\u001b[1;33m\u001b[0m\u001b[0m\n\u001b[0m\u001b[0;32m      2\u001b[0m     \u001b[0mprint\u001b[0m\u001b[1;33m(\u001b[0m\u001b[1;34m\"Reject the H0\"\u001b[0m\u001b[1;33m)\u001b[0m\u001b[1;33m\u001b[0m\u001b[1;33m\u001b[0m\u001b[0m\n\u001b[0;32m      3\u001b[0m \u001b[1;32melse\u001b[0m\u001b[1;33m:\u001b[0m\u001b[1;33m\u001b[0m\u001b[1;33m\u001b[0m\u001b[0m\n\u001b[0;32m      4\u001b[0m     \u001b[0mprint\u001b[0m\u001b[1;33m(\u001b[0m\u001b[1;34m\"Accept the H0\"\u001b[0m\u001b[1;33m)\u001b[0m\u001b[1;33m\u001b[0m\u001b[1;33m\u001b[0m\u001b[0m\n",
      "\u001b[1;31mTypeError\u001b[0m: '<=' not supported between instances of 'tuple' and 'float'"
     ]
    }
   ],
   "source": [
    "if p_value<=0.05:\n",
    "    print(\"Reject the H0\")\n",
    "else: \n",
    "    print(\"Accept the H0\")"
   ]
  },
  {
   "cell_type": "code",
   "execution_count": null,
   "id": "52e41015",
   "metadata": {},
   "outputs": [],
   "source": [
    "\n"
   ]
  },
  {
   "cell_type": "code",
   "execution_count": null,
   "id": "93d728ad",
   "metadata": {},
   "outputs": [],
   "source": []
  },
  {
   "cell_type": "code",
   "execution_count": null,
   "id": "38f17358",
   "metadata": {},
   "outputs": [],
   "source": []
  },
  {
   "cell_type": "code",
   "execution_count": null,
   "id": "06c1ad4b",
   "metadata": {},
   "outputs": [],
   "source": []
  },
  {
   "cell_type": "code",
   "execution_count": null,
   "id": "e5cfda74",
   "metadata": {},
   "outputs": [],
   "source": []
  },
  {
   "cell_type": "code",
   "execution_count": null,
   "id": "860bee45",
   "metadata": {},
   "outputs": [],
   "source": []
  },
  {
   "cell_type": "code",
   "execution_count": null,
   "id": "f6e49887",
   "metadata": {},
   "outputs": [],
   "source": []
  },
  {
   "cell_type": "code",
   "execution_count": null,
   "id": "30fdf40d",
   "metadata": {},
   "outputs": [],
   "source": []
  },
  {
   "cell_type": "code",
   "execution_count": null,
   "id": "ac6c49c4",
   "metadata": {},
   "outputs": [],
   "source": []
  },
  {
   "cell_type": "code",
   "execution_count": null,
   "id": "38ff1868",
   "metadata": {},
   "outputs": [],
   "source": []
  }
 ],
 "metadata": {
  "kernelspec": {
   "display_name": "Python 3 (ipykernel)",
   "language": "python",
   "name": "python3"
  },
  "language_info": {
   "codemirror_mode": {
    "name": "ipython",
    "version": 3
   },
   "file_extension": ".py",
   "mimetype": "text/x-python",
   "name": "python",
   "nbconvert_exporter": "python",
   "pygments_lexer": "ipython3",
   "version": "3.9.7"
  }
 },
 "nbformat": 4,
 "nbformat_minor": 5
}
