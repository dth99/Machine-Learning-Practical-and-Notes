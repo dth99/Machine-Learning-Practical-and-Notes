{
 "cells": [
  {
   "cell_type": "markdown",
   "metadata": {
    "id": "Y8Vs145iotSJ"
   },
   "source": [
    "# **Getting Started**"
   ]
  },
  {
   "cell_type": "markdown",
   "metadata": {
    "id": "-FA-COYemB3L"
   },
   "source": [
    "To use Numpy in Python, we can import the numpy package as follows:"
   ]
  },
  {
   "cell_type": "code",
   "execution_count": null,
   "metadata": {
    "id": "xOEI5DUEmBaD"
   },
   "outputs": [],
   "source": [
    "import numpy as np\n",
    "import pandas as pd"
   ]
  },
  {
   "cell_type": "markdown",
   "metadata": {
    "id": "H62rUYafLAd4"
   },
   "source": [
    "#**Ndarray and its Attributes**"
   ]
  },
  {
   "cell_type": "code",
   "execution_count": null,
   "metadata": {
    "colab": {
     "base_uri": "https://localhost:8080/"
    },
    "id": "bHRLUNVqLz1N",
    "outputId": "c26375f9-cb52-44cd-d95e-79c8dc59b341"
   },
   "outputs": [
    {
     "name": "stdout",
     "output_type": "stream",
     "text": [
      "2\n"
     ]
    }
   ],
   "source": [
    "#ndarray.ndim\n",
    "arr = np.array([[3,4,6], [0,8,1]])\n",
    "  \n",
    "res = np.ndim(arr) #returns the axes or dimensions\n",
    "  \n",
    "print (res)\n"
   ]
  },
  {
   "cell_type": "code",
   "execution_count": null,
   "metadata": {
    "colab": {
     "base_uri": "https://localhost:8080/"
    },
    "id": "mOVKmDSRMFUS",
    "outputId": "ef434569-6f0a-4f01-91fd-f3df56fdb4e3"
   },
   "outputs": [
    {
     "name": "stdout",
     "output_type": "stream",
     "text": [
      "(2, 3)\n"
     ]
    }
   ],
   "source": [
    "#ndarray.shape\n",
    "arr = np.array([[3,4,6], [0,8,1]])\n",
    "  \n",
    "res = np.shape(arr) #returns the no. of rows and columns present\n",
    "  \n",
    "print (res)"
   ]
  },
  {
   "cell_type": "code",
   "execution_count": null,
   "metadata": {
    "colab": {
     "base_uri": "https://localhost:8080/"
    },
    "id": "CFtH5wx_MbTN",
    "outputId": "760a119c-997d-4b26-8d58-037100e28c40"
   },
   "outputs": [
    {
     "name": "stdout",
     "output_type": "stream",
     "text": [
      "6\n"
     ]
    }
   ],
   "source": [
    "#ndarray.size\n",
    "arr = np.array([[3,4,6], [0,8,1]])\n",
    "  \n",
    "res = np.size(arr)          #function returns no. of elements\n",
    "  \n",
    "print (res)"
   ]
  },
  {
   "cell_type": "code",
   "execution_count": null,
   "metadata": {
    "colab": {
     "base_uri": "https://localhost:8080/"
    },
    "id": "0VzOTkjWMkBf",
    "outputId": "624f27b9-d0cf-4a73-f47c-daa0e720ccce"
   },
   "outputs": [
    {
     "name": "stdout",
     "output_type": "stream",
     "text": [
      "int64\n"
     ]
    }
   ],
   "source": [
    "#ndarray.dtype\n",
    "arr = np.array([[3,4,6], [0,8,1]])\n",
    "\n",
    "print(arr.dtype)         #tells the data type of the elements of a NumPy array \n",
    "\n"
   ]
  },
  {
   "cell_type": "code",
   "execution_count": null,
   "metadata": {
    "colab": {
     "base_uri": "https://localhost:8080/"
    },
    "id": "F6PmkpCLMrkA",
    "outputId": "03cadfb5-e4f2-4453-dd83-ddad800280c4"
   },
   "outputs": [
    {
     "name": "stdout",
     "output_type": "stream",
     "text": [
      "8\n"
     ]
    }
   ],
   "source": [
    "#ndarray.itemsize\n",
    "arr = np.array([[3,4,6], [0,8,1]])\n",
    "  \n",
    "res = arr.itemsize     #returns the size of each element\n",
    "  \n",
    "print (res)"
   ]
  },
  {
   "cell_type": "markdown",
   "metadata": {
    "id": "menjAS41O9Xu"
   },
   "source": [
    "**Creating a NumPy ndarray Object**"
   ]
  },
  {
   "cell_type": "code",
   "execution_count": null,
   "metadata": {
    "colab": {
     "base_uri": "https://localhost:8080/"
    },
    "id": "SJRQy_WAPLru",
    "outputId": "e8147c1f-614e-4e78-83b1-05ecbb0a10c9"
   },
   "outputs": [
    {
     "name": "stdout",
     "output_type": "stream",
     "text": [
      "[1 2 3 4 5]\n",
      "<class 'numpy.ndarray'>\n"
     ]
    }
   ],
   "source": [
    "arr = np.array([1, 2, 3, 4, 5]) \n",
    "print(arr) \n",
    "print(type(arr))\n",
    "\n"
   ]
  },
  {
   "cell_type": "code",
   "execution_count": null,
   "metadata": {
    "colab": {
     "base_uri": "https://localhost:8080/"
    },
    "id": "mnfOWkeMPiEP",
    "outputId": "133ea64e-3eb4-4f8b-9724-58df765e87b7"
   },
   "outputs": [
    {
     "name": "stdout",
     "output_type": "stream",
     "text": [
      "[[1 2 3]\n",
      " [9 4 8]]\n"
     ]
    }
   ],
   "source": [
    "# more than one dimensions \n",
    " \n",
    "a = np.array([[1, 2,3], [9, 4,8]]) \n",
    "print(a)"
   ]
  },
  {
   "cell_type": "markdown",
   "metadata": {
    "id": "RwriAUKsAhqL"
   },
   "source": [
    "**Dimensions in Arrays**"
   ]
  },
  {
   "cell_type": "code",
   "execution_count": null,
   "metadata": {
    "colab": {
     "base_uri": "https://localhost:8080/"
    },
    "id": "gaCk4Kr8PuzB",
    "outputId": "3c8fae8e-9088-4486-c415-b594fa3493b7"
   },
   "outputs": [
    {
     "name": "stdout",
     "output_type": "stream",
     "text": [
      "42\n"
     ]
    }
   ],
   "source": [
    "#0-D Arrays\n",
    " \n",
    "arr = np.array(42) \n",
    "print(arr) "
   ]
  },
  {
   "cell_type": "code",
   "execution_count": null,
   "metadata": {
    "colab": {
     "base_uri": "https://localhost:8080/"
    },
    "id": "hR7myc9EAxcZ",
    "outputId": "4e9c5a42-d8a3-411c-a385-4505a0541a90"
   },
   "outputs": [
    {
     "name": "stdout",
     "output_type": "stream",
     "text": [
      "[1 2 3 4 5]\n"
     ]
    }
   ],
   "source": [
    "#1-D arrays\n",
    "\n",
    "arr = np.array([1, 2, 3, 4, 5]) \n",
    "print(arr) "
   ]
  },
  {
   "cell_type": "code",
   "execution_count": null,
   "metadata": {
    "colab": {
     "base_uri": "https://localhost:8080/"
    },
    "id": "AUy_t-QbBWk3",
    "outputId": "98372b5a-2ea3-47ad-d7d1-fc2fa8402d1c"
   },
   "outputs": [
    {
     "name": "stdout",
     "output_type": "stream",
     "text": [
      "[[1 2 3]\n",
      " [4 5 6]]\n"
     ]
    }
   ],
   "source": [
    "#2-D arrays\n",
    "\n",
    "arr = np.array([[1, 2, 3], [4, 5, 6]]) \n",
    "print(arr) "
   ]
  },
  {
   "cell_type": "markdown",
   "metadata": {
    "id": "RdFgzSrJEojl"
   },
   "source": [
    "**NumPy Array Indexing and Slicig**"
   ]
  },
  {
   "cell_type": "code",
   "execution_count": null,
   "metadata": {
    "colab": {
     "base_uri": "https://localhost:8080/"
    },
    "id": "c0qXSGlzCOHd",
    "outputId": "5291f647-c8c9-4bd0-ebcf-d2c540efdb53"
   },
   "outputs": [
    {
     "name": "stdout",
     "output_type": "stream",
     "text": [
      "[2 3 4 5]\n"
     ]
    }
   ],
   "source": [
    "#example 1\n",
    "\n",
    "arr = np.array([1, 2, 3, 4, 5, 6, 7]) \n",
    "print(arr[1:5])"
   ]
  },
  {
   "cell_type": "code",
   "execution_count": null,
   "metadata": {
    "colab": {
     "base_uri": "https://localhost:8080/"
    },
    "id": "VG0G51QuE739",
    "outputId": "6cedd3db-5051-44c8-d33b-ce446744a887"
   },
   "outputs": [
    {
     "name": "stdout",
     "output_type": "stream",
     "text": [
      "[5 6 7]\n"
     ]
    }
   ],
   "source": [
    "#example 2\n",
    " \n",
    "arr = np.array([1, 2, 3, 4, 5, 6, 7]) \n",
    "print(arr[4:])"
   ]
  },
  {
   "cell_type": "code",
   "execution_count": null,
   "metadata": {
    "colab": {
     "base_uri": "https://localhost:8080/"
    },
    "id": "1aRmG1zaFgIn",
    "outputId": "858082f5-6834-4d57-e3bc-e8c55d4dca98"
   },
   "outputs": [
    {
     "name": "stdout",
     "output_type": "stream",
     "text": [
      "[1 3 5 7]\n"
     ]
    }
   ],
   "source": [
    "\n",
    "arr = np.array([1, 2, 3, 4, 5, 6, 7]) \n",
    "print(arr[::2])"
   ]
  },
  {
   "cell_type": "code",
   "execution_count": null,
   "metadata": {
    "colab": {
     "base_uri": "https://localhost:8080/",
     "height": 35
    },
    "id": "QD2HLFjfFp_f",
    "outputId": "d1a9be3d-c483-4d48-ead9-54bc216e22d2"
   },
   "outputs": [
    {
     "data": {
      "application/vnd.google.colaboratory.intrinsic+json": {
       "type": "string"
      },
      "text/plain": [
       "'lobster'"
      ]
     },
     "execution_count": 15,
     "metadata": {},
     "output_type": "execute_result"
    }
   ],
   "source": [
    "#indexing example\n",
    "a = ['spam', 'egg', 'bacon', 'tomato', 'ham', 'lobster'] \n",
    "a[5]  "
   ]
  },
  {
   "cell_type": "code",
   "execution_count": null,
   "metadata": {
    "colab": {
     "base_uri": "https://localhost:8080/",
     "height": 35
    },
    "id": "HaA-n4JrGbTs",
    "outputId": "55fb0ce2-e914-4321-b69e-7b8e7638de26"
   },
   "outputs": [
    {
     "data": {
      "application/vnd.google.colaboratory.intrinsic+json": {
       "type": "string"
      },
      "text/plain": [
       "'lobster'"
      ]
     },
     "execution_count": 16,
     "metadata": {},
     "output_type": "execute_result"
    }
   ],
   "source": [
    "a[len(a)-1]\n"
   ]
  },
  {
   "cell_type": "code",
   "execution_count": null,
   "metadata": {
    "colab": {
     "base_uri": "https://localhost:8080/",
     "height": 35
    },
    "id": "MNMOoQbgGfdH",
    "outputId": "5dd84141-b2a0-48f9-da29-9bf874214e2c"
   },
   "outputs": [
    {
     "data": {
      "application/vnd.google.colaboratory.intrinsic+json": {
       "type": "string"
      },
      "text/plain": [
       "'lobster'"
      ]
     },
     "execution_count": 17,
     "metadata": {},
     "output_type": "execute_result"
    }
   ],
   "source": [
    "a[-1] "
   ]
  },
  {
   "cell_type": "markdown",
   "metadata": {
    "id": "rPcicUn7ljbl"
   },
   "source": [
    "# Numpy Functions\n",
    "\n"
   ]
  },
  {
   "cell_type": "markdown",
   "metadata": {
    "id": "bGjkFbtelx9s"
   },
   "source": [
    "**numPy.where()**\n"
   ]
  },
  {
   "cell_type": "markdown",
   "metadata": {
    "id": "TiPa8c2IrCvG"
   },
   "source": [
    "**using np.where() with a condition**"
   ]
  },
  {
   "cell_type": "code",
   "execution_count": null,
   "metadata": {
    "colab": {
     "base_uri": "https://localhost:8080/"
    },
    "id": "FPs7GzHQl3sz",
    "outputId": "8cbafa97-cd2e-4442-b325-e3023d78952d"
   },
   "outputs": [
    {
     "name": "stdout",
     "output_type": "stream",
     "text": [
      "[['Negative' 'Positive' 'Negative']\n",
      " ['Positive' 'Positive' 'Negative']]\n"
     ]
    }
   ],
   "source": [
    "\n",
    "arr = np.array([[-1, 2, -3], [4, 5, -6]])\n",
    "b=np.where(arr < 0, \"Negative\", \"Positive\")\n",
    "\n",
    "print(b)"
   ]
  },
  {
   "cell_type": "markdown",
   "metadata": {
    "id": "qVJ65PlPrTHK"
   },
   "source": [
    "**using numPy.where() in a dataframe**"
   ]
  },
  {
   "cell_type": "code",
   "execution_count": null,
   "metadata": {
    "colab": {
     "base_uri": "https://localhost:8080/"
    },
    "id": "nJHhZZCyqNp1",
    "outputId": "49770b3a-bded-4f4e-b622-7c9e7fad3332"
   },
   "outputs": [
    {
     "name": "stdout",
     "output_type": "stream",
     "text": [
      "Old Record\n",
      "      Name  Age\n",
      "0     Anu   18\n",
      "1  Bishwa   23\n",
      "2  Keshav   10\n",
      "3    Ravi   16\n",
      "4     Ria   27\n",
      "5   Kevin    8\n",
      "\n",
      " After adding new colum\n",
      "      Name  Age   Eligibility\n",
      "0     Anu   18      Eligible\n",
      "1  Bishwa   23      Eligible\n",
      "2  Keshav   10  Not Eligible\n",
      "3    Ravi   16  Not Eligible\n",
      "4     Ria   27      Eligible\n",
      "5   Kevin    8  Not Eligible\n"
     ]
    }
   ],
   "source": [
    "#creating a dataFrame\n",
    "record  = pd.DataFrame({\"Name\":[\"Anu\", \"Bishwa\", \"Keshav\",\n",
    "                             \"Ravi\", \"Ria\", \"Kevin\"],\n",
    "                   \"Age\": [18,23,10,16,27,8]})\n",
    "print(\"Old Record\\n\",record)\n",
    "#Suppose, we want to create a new column that tells whether a person is eligible to vote or not, Here we can use np.where() .\n",
    "record[\"Eligibility\"]= np.where(record[\"Age\"]>=18, \"Eligible\", \"Not Eligible\")\n",
    "print(\"\\n After adding new colum\\n\",record)"
   ]
  },
  {
   "cell_type": "markdown",
   "metadata": {
    "id": "xw1SJowCqRlo"
   },
   "source": [
    "# Functions of Rounding"
   ]
  },
  {
   "cell_type": "markdown",
   "metadata": {
    "id": "QDivuXguqV-x"
   },
   "source": [
    "**np.around ()**\n"
   ]
  },
  {
   "cell_type": "code",
   "execution_count": null,
   "metadata": {
    "colab": {
     "base_uri": "https://localhost:8080/"
    },
    "id": "XUfLCqz8qN1N",
    "outputId": "e35155cc-cbe4-4497-e0d9-fed750ededa1"
   },
   "outputs": [
    {
     "name": "stdout",
     "output_type": "stream",
     "text": [
      "Input array =  [  1.09    5.55  123.      0.567  25.532]\n",
      "\n",
      "After Rounding:\n",
      "[  1.   6. 123.   1.  26.]\n",
      "[  1.1   5.6 123.    0.6  25.5]\n",
      "[  0.  10. 120.   0.  30.]\n"
     ]
    }
   ],
   "source": [
    "arr = np.array([1.09,5.55, 123, 0.567, 25.532])\n",
    "print(\"Input array = \", arr)\n",
    "\n",
    "print(\"\\nAfter Rounding:\") \n",
    "print(np.around(arr))\n",
    "print(np.around(arr, decimals =1))\n",
    "print(np.around(arr, decimals =-1))"
   ]
  },
  {
   "cell_type": "markdown",
   "metadata": {
    "id": "_Emm_5Ivqe9G"
   },
   "source": [
    "**np.floor()**\n"
   ]
  },
  {
   "cell_type": "code",
   "execution_count": null,
   "metadata": {
    "colab": {
     "base_uri": "https://localhost:8080/"
    },
    "id": "wmlHwa-YqN5d",
    "outputId": "9555b6f9-24f3-430d-e276-bfeb75158139"
   },
   "outputs": [
    {
     "name": "stdout",
     "output_type": "stream",
     "text": [
      "Original array: [0.23, 5.79, 1.2, 4.24, 9.99]\n",
      "\n",
      "After using the floor function \n",
      "Output array: [0. 5. 1. 4. 9.]\n"
     ]
    }
   ],
   "source": [
    "arr = [0.23, 5.79, 1.2, 4.24, 9.99]  \n",
    "print(\"Original array:\",arr)  \n",
    "new_arr = np.floor(arr) \n",
    "#After applying the floor function\n",
    "print(\"\\nAfter using the floor function \\nOutput array:\",new_arr) "
   ]
  },
  {
   "cell_type": "markdown",
   "metadata": {
    "id": "CtMcj8WSqnQm"
   },
   "source": [
    "**np.ceil()**"
   ]
  },
  {
   "cell_type": "code",
   "execution_count": null,
   "metadata": {
    "colab": {
     "base_uri": "https://localhost:8080/"
    },
    "id": "RUFlUSAMqN8g",
    "outputId": "bacde3d3-9ab9-420b-aa95-77142c714ed4"
   },
   "outputs": [
    {
     "name": "stdout",
     "output_type": "stream",
     "text": [
      "Original array: [0.23, 5.79, 1.2, 4.24, 9.99]\n",
      "\n",
      "After using the ceil function \n",
      "Output array: [ 1.  6.  2.  5. 10.]\n"
     ]
    }
   ],
   "source": [
    "arr = [0.23, 5.79, 1.2, 4.24, 9.99]  \n",
    "print(\"Original array:\",arr)  \n",
    "new_arr = np.ceil(arr) \n",
    "#After applying the ceil function\n",
    "print(\"\\nAfter using the ceil function \\nOutput array:\",new_arr)"
   ]
  },
  {
   "cell_type": "markdown",
   "metadata": {
    "id": "M-EgKFFjveCv"
   },
   "source": [
    "# Basic Statistic Function\n",
    "\n"
   ]
  },
  {
   "cell_type": "markdown",
   "metadata": {
    "id": "_hmqhtxlxsa0"
   },
   "source": [
    "**np.sum()**"
   ]
  },
  {
   "cell_type": "code",
   "execution_count": null,
   "metadata": {
    "id": "w3l1NMglzD6z"
   },
   "outputs": [],
   "source": [
    "import numpy as np"
   ]
  },
  {
   "cell_type": "code",
   "execution_count": null,
   "metadata": {
    "colab": {
     "base_uri": "https://localhost:8080/"
    },
    "id": "OVz1UQKHxroR",
    "outputId": "00b590f1-ade8-4276-ad59-3aa906f693bc"
   },
   "outputs": [
    {
     "data": {
      "text/plain": [
       "2.0"
      ]
     },
     "execution_count": 24,
     "metadata": {},
     "output_type": "execute_result"
    }
   ],
   "source": [
    "#1D array\n",
    "np.sum([0.5, 1.5])\n"
   ]
  },
  {
   "cell_type": "code",
   "execution_count": null,
   "metadata": {
    "colab": {
     "base_uri": "https://localhost:8080/"
    },
    "id": "4CadU1LZzNLI",
    "outputId": "c6c08cba-df71-4b8a-f013-48f61641724d"
   },
   "outputs": [
    {
     "data": {
      "text/plain": [
       "6"
      ]
     },
     "execution_count": 25,
     "metadata": {},
     "output_type": "execute_result"
    }
   ],
   "source": [
    "#2D array\n",
    "np.sum([[0, 1], [0, 5]])"
   ]
  },
  {
   "cell_type": "markdown",
   "metadata": {
    "id": "u8O6lpeLxyi0"
   },
   "source": [
    "**np.mean()**"
   ]
  },
  {
   "cell_type": "code",
   "execution_count": null,
   "metadata": {
    "colab": {
     "base_uri": "https://localhost:8080/"
    },
    "id": "Ly6santbzTRX",
    "outputId": "f9f8c561-32e9-498f-93bd-4c3c29a1e4a7"
   },
   "outputs": [
    {
     "data": {
      "text/plain": [
       "4.0"
      ]
     },
     "execution_count": 26,
     "metadata": {},
     "output_type": "execute_result"
    }
   ],
   "source": [
    "# 1D array\n",
    "a = np.array([1,2,3,4,5,6,7])\n",
    "np.mean(a)"
   ]
  },
  {
   "cell_type": "code",
   "execution_count": null,
   "metadata": {
    "colab": {
     "base_uri": "https://localhost:8080/"
    },
    "id": "xSv20cIXx2jT",
    "outputId": "5abab649-4f3e-4b29-fe04-9224e602014f"
   },
   "outputs": [
    {
     "data": {
      "text/plain": [
       "2.5"
      ]
     },
     "execution_count": 27,
     "metadata": {},
     "output_type": "execute_result"
    }
   ],
   "source": [
    "#2D array\n",
    "a = np.array([[1, 2], [3, 4]])\n",
    "np.mean(a)"
   ]
  },
  {
   "cell_type": "markdown",
   "metadata": {
    "id": "4K4eFbe0vjAD"
   },
   "source": [
    "**np.median()**"
   ]
  },
  {
   "cell_type": "code",
   "execution_count": null,
   "metadata": {
    "colab": {
     "base_uri": "https://localhost:8080/"
    },
    "id": "hgPhU06gviJj",
    "outputId": "3ed1dddc-a234-4073-f6ee-0cbdb13f360e"
   },
   "outputs": [
    {
     "name": "stdout",
     "output_type": "stream",
     "text": [
      "arr :  [2, 2, 7, 1, 3, 9, 34]\n",
      "Median of array :  3.0\n"
     ]
    }
   ],
   "source": [
    "# For 1D Array\n",
    "arr = [2, 2, 7, 1,3,9, 34]\n",
    "  \n",
    "print(\"arr : \", arr) \n",
    "print(\"Median of array : \", np.median(arr))\n"
   ]
  },
  {
   "cell_type": "code",
   "execution_count": null,
   "metadata": {
    "colab": {
     "base_uri": "https://localhost:8080/"
    },
    "id": "IfjLWJrEv-MF",
    "outputId": "1c400ba6-1bfa-4a00-ddd7-4ed973b90ae6"
   },
   "outputs": [
    {
     "name": "stdout",
     "output_type": "stream",
     "text": [
      "\n",
      " Median of array, axis = 0 :  [15.  6. 27.  8. 19.]\n",
      "\n",
      " Median of array, axis = 1 :  [17. 15.  4.]\n"
     ]
    }
   ],
   "source": [
    "# for 2D Array\n",
    "arr=arr = [[14, 17, 12, 33, 44],  \n",
    "       [15, 6, 27, 8, 19], \n",
    "       [23, 2, 54, 1, 4, ]] \n",
    "print(\"\\n Median of array, axis = 0 : \", np.median(arr, axis = 0)) \n",
    "   \n",
    "# median along the axis = 1 \n",
    "print(\"\\n Median of array, axis = 1 : \", np.median(arr, axis = 1))\n"
   ]
  },
  {
   "cell_type": "markdown",
   "metadata": {
    "id": "JBh2LYltxFzJ"
   },
   "source": [
    "**np.std()**\n"
   ]
  },
  {
   "cell_type": "markdown",
   "metadata": {
    "id": "lgVEI8s3xeJF"
   },
   "source": [
    "This function computes the standard deviation"
   ]
  },
  {
   "cell_type": "code",
   "execution_count": null,
   "metadata": {
    "colab": {
     "base_uri": "https://localhost:8080/"
    },
    "id": "d3tk4xjGxK1p",
    "outputId": "3bcc1a66-c28e-4e4f-df4f-5edc9be52e34"
   },
   "outputs": [
    {
     "name": "stdout",
     "output_type": "stream",
     "text": [
      "arr :  [2, 2, 7, 1, 3, 9, 34]\n",
      "Standard Deviation of array :  10.845858797772747\n"
     ]
    }
   ],
   "source": [
    "arr = [2, 2, 7, 1,3,9, 34]\n",
    "  \n",
    "print(\"arr : \", arr) \n",
    "print(\"Standard Deviation of array : \", np.std(arr))"
   ]
  },
  {
   "cell_type": "code",
   "execution_count": null,
   "metadata": {
    "colab": {
     "base_uri": "https://localhost:8080/"
    },
    "id": "yNRxdAYixNHv",
    "outputId": "e9bfe696-aa24-410c-f260-88a2a22cc636"
   },
   "outputs": [
    {
     "name": "stdout",
     "output_type": "stream",
     "text": [
      "\n",
      " Standard Deviation of array, axis = 0 :  [ 4.02768199  6.3420992  17.3781472  13.73559852 16.49915823]\n",
      "\n",
      " Standard Deviation of array, axis = 1 :  [12.44186481  7.61577311 20.27214838]\n"
     ]
    }
   ],
   "source": [
    "# for 2D Array\n",
    "arr=arr = [[14, 17, 12, 33, 44],  \n",
    "       [15, 6, 27, 8, 19], \n",
    "       [23, 2, 54, 1, 4, ]] \n",
    "print(\"\\n Standard Deviation of array, axis = 0 : \", np.std(arr, axis = 0)) \n",
    "   \n",
    "# median along the axis = 1 \n",
    "print(\"\\n Standard Deviation of array, axis = 1 : \", np.std(arr, axis = 1))"
   ]
  }
 ],
 "metadata": {
  "colab": {
   "collapsed_sections": [],
   "name": "NumPy.ipynb",
   "provenance": []
  },
  "kernelspec": {
   "display_name": "Python 3 (ipykernel)",
   "language": "python",
   "name": "python3"
  },
  "language_info": {
   "codemirror_mode": {
    "name": "ipython",
    "version": 3
   },
   "file_extension": ".py",
   "mimetype": "text/x-python",
   "name": "python",
   "nbconvert_exporter": "python",
   "pygments_lexer": "ipython3",
   "version": "3.9.7"
  }
 },
 "nbformat": 4,
 "nbformat_minor": 1
}
