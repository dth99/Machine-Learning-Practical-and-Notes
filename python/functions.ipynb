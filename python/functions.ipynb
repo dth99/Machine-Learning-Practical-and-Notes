{
 "cells": [
  {
   "cell_type": "markdown",
   "id": "44f01372",
   "metadata": {},
   "source": [
    "## lamdba function\n",
    "\n",
    "### a lamdba function can take any number of arguments, but can only have one expression\n",
    "   **Syntax:** lambda arguments:expression\n",
    "   the expression is executed and the result is returned\n",
    "\n",
    "\n",
    "We use lambda functions when we require a nameless function for a short period of time. In Python, we generally use it as an argument to a higher-order function (a function that takes in other functions as arguments). Lambda functions are used along with built-in functions like filter(), map() etc.\n",
    "\n"
   ]
  },
  {
   "cell_type": "code",
   "execution_count": 3,
   "id": "607eeea4",
   "metadata": {},
   "outputs": [
    {
     "name": "stdout",
     "output_type": "stream",
     "text": [
      "5\n"
     ]
    }
   ],
   "source": [
    "# lamdba function or anonymous function\n",
    "\n",
    "def add(a,b):\n",
    "    return a+b\n",
    "\n",
    "minus = lambda x,y: x-y\n",
    "\n",
    "# above and below line perform the same task\n",
    "# def minus(x,y):\n",
    "#     return x-y\n",
    "\n",
    "print(minus(9,4))"
   ]
  },
  {
   "cell_type": "code",
   "execution_count": 10,
   "id": "8b8f9589",
   "metadata": {},
   "outputs": [
    {
     "name": "stdout",
     "output_type": "stream",
     "text": [
      "[[5, 6], [1, 14], [8, 23]]\n"
     ]
    }
   ],
   "source": [
    "# def a_first(a):\n",
    "#     return a[1]\n",
    "# a = [[1,14],[5,6],[8,23]]\n",
    "# a.sort(key=a_first)\n",
    "# print(a)\n",
    "\n",
    "\n",
    "#same thing using lambda\n",
    "\n",
    "a = [[1,14],[5,6],[8,23]]\n",
    "a.sort(key=lambda x:x[1])\n",
    "print(a)\n"
   ]
  },
  {
   "cell_type": "code",
   "execution_count": 13,
   "id": "cc321fb8",
   "metadata": {},
   "outputs": [
    {
     "name": "stdout",
     "output_type": "stream",
     "text": [
      "15\n",
      "30\n",
      "13\n"
     ]
    }
   ],
   "source": [
    "# lambda function single expression(always) and single argument\n",
    "x= lambda a:a+10\n",
    "print(x(5))\n",
    "\n",
    "# lambda function single expression(always) and n arguments\n",
    "x = lambda a,b: a*b\n",
    "print(x(5,6))\n",
    "\n",
    "x=lambda a,b,c:a+b+c\n",
    "print(x(5,6,2))"
   ]
  },
  {
   "cell_type": "markdown",
   "id": "388d8d79",
   "metadata": {},
   "source": [
    "## filter() function\n",
    "\n",
    "### the filter() function returns an iterator where the items are filtered through a function to test if the item is appected or not\n",
    "\n",
    "**required two arguments**\n",
    "   - function\n",
    "   - list of values\n"
   ]
  },
  {
   "cell_type": "code",
   "execution_count": 4,
   "id": "266e681f",
   "metadata": {},
   "outputs": [
    {
     "name": "stdout",
     "output_type": "stream",
     "text": [
      "24\n",
      "32\n"
     ]
    }
   ],
   "source": [
    "# example filter function\n",
    "\n",
    "ages = [5,12,17,18,24,32]\n",
    "\n",
    "def myFunc(x):\n",
    "    if x>18:\n",
    "        return True\n",
    "    else:\n",
    "        return False\n",
    "\n",
    "adults=list(filter(myFunc,ages))\n",
    "\n",
    "for i in adults:\n",
    "    print(i)"
   ]
  },
  {
   "cell_type": "markdown",
   "id": "6fc1b311",
   "metadata": {},
   "source": [
    "### filter with lambda\n"
   ]
  },
  {
   "cell_type": "code",
   "execution_count": 3,
   "id": "33804dbe",
   "metadata": {},
   "outputs": [
    {
     "name": "stdout",
     "output_type": "stream",
     "text": [
      "24\n",
      "32\n"
     ]
    }
   ],
   "source": [
    "ages = [5,12,17,18,24,32]\n",
    "\n",
    "adults = filter(lambda a:a>18,ages)\n",
    "for i in adults:\n",
    "    print(i)"
   ]
  },
  {
   "cell_type": "code",
   "execution_count": 7,
   "id": "fc4d6bb0",
   "metadata": {},
   "outputs": [
    {
     "name": "stdout",
     "output_type": "stream",
     "text": [
      "Even list : \n",
      "12\n",
      "18\n",
      "24\n",
      "32\n",
      "odd List: \n",
      "5\n",
      "17\n"
     ]
    }
   ],
   "source": [
    "\n",
    "# list of even number\n",
    "\n",
    "values = [5,12,17,18,24,32]\n",
    "\n",
    "evenList= list(filter(lambda x: x%2==0, values))\n",
    "\n",
    "print(\"Even list : \")\n",
    "for i in evenList:\n",
    "    print(i)\n",
    "    \n",
    "oddList =list(filter(lambda x: x%2!=0, values))\n",
    "print(\"odd List: \")\n",
    "for i in oddList:\n",
    "    print(i)"
   ]
  },
  {
   "cell_type": "markdown",
   "id": "a7476cc1",
   "metadata": {},
   "source": [
    "#### map, lambda and filter"
   ]
  },
  {
   "cell_type": "code",
   "execution_count": 11,
   "id": "99126c62",
   "metadata": {},
   "outputs": [
    {
     "name": "stdout",
     "output_type": "stream",
     "text": [
      "[2, 6, 8, 4, 6, 2]\n",
      "[4, 12, 16, 8, 12, 4]\n"
     ]
    }
   ],
   "source": [
    "\n",
    "nums = [3,2,6,8,4,6,2,9]\n",
    "evens = list(filter( lambda n : n%2==0, nums))\n",
    "print(evens)\n",
    "# assume if want to do some operator on evens(list) with get after lambda and filter function\n",
    "# let assume if we want double the values of even list\n",
    "\n",
    "# map notes two arguments function and iterable\n",
    "\n",
    "doubles= list(map(lambda n: n*2, evens))\n",
    "print(doubles)\n"
   ]
  },
  {
   "cell_type": "markdown",
   "id": "fb57ed6a",
   "metadata": {},
   "source": [
    "## reduce\n",
    "The reduce(fun,seq) function is used to apply a particular function passed in its argument to all of the list elements mentioned in the sequence passed along.This function is defined in “functools” module.\n",
    "\n",
    "- function\n",
    "- sequence"
   ]
  },
  {
   "cell_type": "code",
   "execution_count": 21,
   "id": "a2b19f1e",
   "metadata": {},
   "outputs": [
    {
     "name": "stdout",
     "output_type": "stream",
     "text": [
      "Even numbers from values:  [2, 6, 8, 4, 6, 2]\n",
      "Doubling the even values:  [4, 12, 16, 8, 12, 4]\n",
      "Sum of doubled list:  56\n"
     ]
    }
   ],
   "source": [
    "\n",
    "from functools import reduce\n",
    "nums = [3,2,6,8,4,6,2,9]\n",
    "evens = list(filter( lambda n : n%2==0, nums))\n",
    "print(\"Even numbers from values: \",evens)\n",
    "\n",
    "doubles= list(map(lambda n: n*2, evens))\n",
    "\n",
    "print(\"Doubling the even values: \", doubles)\n",
    "\n",
    "# reduce \n",
    "\n",
    "sum = reduce(lambda a,b : a+b, doubles)\n",
    "print(\"Sum of doubled list: \",sum)"
   ]
  },
  {
   "cell_type": "code",
   "execution_count": 22,
   "id": "d59ee73e",
   "metadata": {},
   "outputs": [
    {
     "name": "stdout",
     "output_type": "stream",
     "text": [
      "21\n"
     ]
    }
   ],
   "source": [
    "\n",
    "from functools import reduce\n",
    "\n",
    "list1 = [1,2,3,6,9]\n",
    "sum = reduce(lambda a,b: a+b, list1)\n",
    "print(sum)"
   ]
  },
  {
   "cell_type": "code",
   "execution_count": 24,
   "id": "c71bd0c0",
   "metadata": {},
   "outputs": [
    {
     "name": "stdout",
     "output_type": "stream",
     "text": [
      "1024\n"
     ]
    }
   ],
   "source": [
    "list2 = [2,2,2,2,2,32]\n",
    "twoes = reduce(lambda x,y: x*y, list2)\n",
    "print(twoes)"
   ]
  }
 ],
 "metadata": {
  "kernelspec": {
   "display_name": "Python 3 (ipykernel)",
   "language": "python",
   "name": "python3"
  },
  "language_info": {
   "codemirror_mode": {
    "name": "ipython",
    "version": 3
   },
   "file_extension": ".py",
   "mimetype": "text/x-python",
   "name": "python",
   "nbconvert_exporter": "python",
   "pygments_lexer": "ipython3",
   "version": "3.9.7"
  }
 },
 "nbformat": 4,
 "nbformat_minor": 5
}
