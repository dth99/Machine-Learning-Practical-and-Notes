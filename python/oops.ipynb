{
 "cells": [
  {
   "cell_type": "markdown",
   "metadata": {},
   "source": [
    "## oops"
   ]
  },
  {
   "cell_type": "markdown",
   "metadata": {},
   "source": [
    "#### class - Design (blue print)\n",
    "#### object - instance"
   ]
  },
  {
   "cell_type": "code",
   "execution_count": 4,
   "metadata": {},
   "outputs": [
    {
     "name": "stdout",
     "output_type": "stream",
     "text": [
      "<class '__main__.Computer'>\n",
      "<class 'str'>\n",
      "<class 'int'>\n"
     ]
    }
   ],
   "source": [
    "class Computer:\n",
    "    # attributes -> variables\n",
    "    # behaviour -> methods(function)\n",
    "    \n",
    "    def config():\n",
    "        print(\"i5, 16gb, 1tb\")\n",
    "\n",
    "# a =5 type of a is interger b=4.1 type of b is float\n",
    "\n",
    "com1= Computer()\n",
    "print(type(com1)) #user define\n",
    "\n",
    "a='8'\n",
    "print(type(a)) #inbuild\n",
    "\n",
    "x=9\n",
    "print(type(x)) \n",
    "\n",
    "# we can see from below output in python everything is object\n",
    "\n",
    "        "
   ]
  },
  {
   "cell_type": "code",
   "execution_count": 10,
   "metadata": {
    "scrolled": true
   },
   "outputs": [
    {
     "name": "stdout",
     "output_type": "stream",
     "text": [
      "i5, 16gb, 1tb\n",
      "i5, 16gb, 1tb\n",
      "i5, 16gb, 1tb\n",
      "i5, 16gb, 1tb\n"
     ]
    }
   ],
   "source": [
    "class Computer:\n",
    "    def config(self):\n",
    "        print(\"i5, 16gb, 1tb\")\n",
    "\n",
    "# create a object of class\n",
    "com1= Computer()\n",
    "\n",
    "#                          access method using class \n",
    "\n",
    "Computer.config(com1) # for com1 object\n",
    "\n",
    "com2= Computer()\n",
    "Computer.config(com2) # calling config for com2\n",
    "\n",
    "\n",
    "#                       accessing methd using object\n",
    "\n",
    "com1.config()  # com1.config() ->(backend)  config(com1)\n",
    "com2.config()"
   ]
  },
  {
   "cell_type": "markdown",
   "metadata": {},
   "source": [
    "### __int__ method"
   ]
  },
  {
   "cell_type": "code",
   "execution_count": 8,
   "metadata": {
    "scrolled": true
   },
   "outputs": [
    {
     "name": "stdout",
     "output_type": "stream",
     "text": [
      "Config is  i5 16\n",
      "Config is  ryzen 5 8\n"
     ]
    }
   ],
   "source": [
    "# Special method __init__\n",
    "\n",
    "class Computer:\n",
    "    \n",
    "    # init is like constructor\n",
    "    # init called automatically\n",
    "    # for every object call\n",
    "    def __init__(self, cpu, ram):\n",
    "        \n",
    "        # print(\"int init\")\n",
    "        self.cpu=cpu  # -> com1.cpu = cpu \n",
    "        self.ram=ram # -> com1.ram = ram\n",
    "        \n",
    "        # com1 ( cpu = i5, ram=16) com2(cpu=ryzen, ram=8)\n",
    "        \n",
    "    \n",
    "    def config(self):\n",
    "        print(\"Config is \", self.cpu, self.ram)\n",
    "        \n",
    "com1= Computer('i5',16) # -> Computer (com1,'i5', 16) initizing ram and cpu for com1 object\n",
    "com2= Computer('ryzen 5',8)\n",
    "\n",
    "com1.config()\n",
    "com2.config()"
   ]
  },
  {
   "cell_type": "markdown",
   "metadata": {},
   "source": [
    "#### Constructor, self and comparing objects "
   ]
  },
  {
   "cell_type": "code",
   "execution_count": null,
   "metadata": {},
   "outputs": [],
   "source": []
  },
  {
   "cell_type": "code",
   "execution_count": 15,
   "metadata": {},
   "outputs": [
    {
     "name": "stdout",
     "output_type": "stream",
     "text": [
      "deepak\n",
      "deepak\n",
      "deepak\n",
      "12\n",
      "deepak\n",
      "21\n",
      "30\n",
      "21\n",
      "They are not same\n"
     ]
    }
   ],
   "source": [
    " \n",
    "    \n",
    "class Computer:\n",
    "    \n",
    "    def __init__(self):\n",
    "        self.name=\"deepak\"\n",
    "        self.age=21\n",
    "    \n",
    "    # why we need self\n",
    "    \n",
    "    def update(self):\n",
    "        self.age=30\n",
    "        \n",
    "        #slef is a pointer / self is directing to object\n",
    "        # based on which object is calling \n",
    "    \n",
    "    def compare(self,otherObject):\n",
    "        if self.age == otherObject.age:\n",
    "            return True\n",
    "        else:\n",
    "            return False\n",
    "    \n",
    "c1 = Computer()   # heap memory has all objects, object take some memory in heap\n",
    "c2 = Computer()\n",
    "\n",
    "# print(id(c1)) # id address\n",
    "# print(id(c2))\n",
    "\n",
    "# size of an object? \n",
    "# depends on the no. of variables and size of each variable\n",
    "\n",
    "print(c1.name)\n",
    "print(c2.name)\n",
    "\n",
    "c1.name='deepak'\n",
    "c1.age=12\n",
    "\n",
    "print(c1.name)\n",
    "print(c1.age)\n",
    "print(c2.name)\n",
    "print(c2.age)\n",
    "\n",
    "\n",
    "\n",
    "c1.update()\n",
    "print(c1.age)\n",
    "print(c2.age)\n",
    "\n",
    "\n",
    "# Comparing two objects\n",
    " \n",
    "# compare takes two parameter\n",
    "# compare(who is calling, whom to compare)\n",
    "\n",
    "if c1.compare(c2):\n",
    "    print(\"They are same\")\n",
    "else:\n",
    "    print(\"They are not same\")\n"
   ]
  },
  {
   "cell_type": "markdown",
   "metadata": {},
   "source": [
    "### Types of variables in python\n",
    "\n",
    "- Instance variable\n",
    "- Class (static) varible\n",
    "\n",
    "### namespace \n",
    " namespace is an area where you create and store object/varible\n",
    " - class namespace \n",
    " - object/ instance namespace\n",
    " \n",
    " \n",
    " Note : to make class varible we need to use class name\n"
   ]
  },
  {
   "cell_type": "code",
   "execution_count": 25,
   "metadata": {},
   "outputs": [
    {
     "name": "stdout",
     "output_type": "stream",
     "text": [
      "BMW 10\n",
      "BMW 10\n",
      "BMW 8\n",
      "BMW 10\n",
      "BMW 8 4\n",
      "BMW 10 4\n",
      "BMW 8 8\n",
      "BMW 10 8\n"
     ]
    }
   ],
   "source": [
    "\n",
    "class Car:\n",
    "    \n",
    "    #if we define a varible inside a class in becom class varible\n",
    "    \n",
    "    wheels=4 # class namespace\n",
    "    \n",
    "    \n",
    "    # if we define varible inside __init__ it become instance variable\n",
    "    def __init__(self):\n",
    "        self.mil=10   # instance namespace\n",
    "        self.com=\"BMW\"\n",
    "        # These two are instance variables \n",
    "        # as the object changes, these value also change\n",
    "        \n",
    "c1 = Car()\n",
    "c2 = Car()\n",
    "\n",
    "print(c1.com, c1.mil)\n",
    "print(c2.com, c2.mil)\n",
    "\n",
    "c1.mil=8\n",
    "\n",
    "print(c1.com, c1.mil)\n",
    "print(c2.com, c2.mil)\n",
    "\n",
    "# values are changing because they are instance varible\n",
    "\n",
    "\n",
    "print(c1.com, c1.mil,c1.wheels) # class variable can be called using object\n",
    "print(c2.com, c2.mil, Car.wheels) # as well as Car name\n",
    "\n",
    "\n",
    "# to make class varible we need to use class name\n",
    "\n",
    "Car.wheels = 8  # it will wheels the value variable for all the objects\n",
    "\n",
    "\n",
    "print(c1.com, c1.mil,c1.wheels) \n",
    "print(c2.com, c2.mil, Car.wheels)"
   ]
  },
  {
   "cell_type": "markdown",
   "metadata": {},
   "source": [
    "### Types of methos\n",
    "\n",
    "- Instance Methods\n",
    "- Class Methods\n",
    "- Static Methods\n",
    "\n",
    "**note** class & statice method are different they don't like class & static variables \n",
    "\n",
    "\n",
    "### instance method\n",
    "#### instance has two different type\n",
    "\n",
    "    - Accessor Methods -> used for only fetching the values\n",
    "    - Mutator Methods -> used for modifying the vales\n",
    "    \n",
    "    \n",
    "#### To work with class variables we use class methods\n",
    "\n",
    "\n",
    "### for working with instance varible, we use *self* keyword\n",
    "\n",
    "### for working with class varible, we use  *cls* keyword\n",
    "### and decorator\n",
    "\n",
    "* decorator are used to modfiy the behaviour of function or class\n",
    "Decorators allow us to wrap another function in order to extend the behaviour of the wrapped function, without permanently modifying it\n",
    "\n",
    "\n",
    "### for static method don't use anything like self or cls\n",
    "### just use simple ()"
   ]
  },
  {
   "cell_type": "code",
   "execution_count": 55,
   "metadata": {},
   "outputs": [
    {
     "name": "stdout",
     "output_type": "stream",
     "text": [
      "44.333333333333336\n",
      "42.0\n",
      "34\n",
      "34\n",
      "88\n",
      "88\n",
      "CU\n",
      "CU\n",
      "This is student class ... dsalgl\n"
     ]
    }
   ],
   "source": [
    "\n",
    "class Student:\n",
    "    \n",
    "    # static or class variable\n",
    "    school='CU'\n",
    "    \n",
    "    def __init__(self,m1,m2,m3):\n",
    "        self.m1=m1\n",
    "        self.m2=m2\n",
    "        self.m3=m3\n",
    "        \n",
    "    # below avg method is instance method because it work with object\n",
    "        \n",
    "    def avg(self):\n",
    "        return (self.m1+ self.m2+ self.m3) /3\n",
    "    \n",
    "    \n",
    "    # getter -> gets the values\n",
    "    \n",
    "    \n",
    "    def get_m1(self):\n",
    "        return self.m1\n",
    "    \n",
    "    \n",
    "    # setters -> set the values\n",
    "    \n",
    "    def set_m1(self,value):\n",
    "        self.m1= value\n",
    "        \n",
    "    \n",
    "    # class method with cls keyword\n",
    "    \n",
    "    @classmethod\n",
    "    def getSchool(cls):\n",
    "        return cls.school\n",
    "    \n",
    "    \n",
    "    \n",
    "    # static method\n",
    "    \n",
    "    @staticmethod\n",
    "    def info():\n",
    "        print(\"This is student class ... dsalgl\")\n",
    "        \n",
    "        \n",
    "    \n",
    "        \n",
    "\n",
    "s1 = Student(34,67,32)\n",
    "s2 = Student(82,32,12)\n",
    "\n",
    "print(s1.avg())\n",
    "print(s2.avg())\n",
    "\n",
    "\n",
    "# using accessor for instance method\n",
    "\n",
    "# using variable or obj\n",
    "print(s1.m1)\n",
    "\n",
    "# using method\n",
    "print(s1.get_m1())\n",
    "\n",
    "\n",
    "# setters\n",
    "s1.set_m1(88)\n",
    "print(s1.get_m1())\n",
    "print(s1.m1)\n",
    "\n",
    "\n",
    "# using class method\n",
    "\n",
    "# one way (bad one)\n",
    "print(s1.getSchool()) #because it same for every object\n",
    "\n",
    "# therefore better method\n",
    "\n",
    "#    print(Student.getSchool()) it will get error because info need argument\n",
    "# so to resolve this issue we use decorators, in our case class decorator\n",
    "# below infor( class method)\n",
    "\n",
    "print(Student.getSchool()) # now it will work\n",
    "\n",
    "\n",
    "\n",
    "# same isse like above  info() takes 0 positional arguments but 1 was given\n",
    "\n",
    "# Student.info()to resolve it we use \n",
    "# decorator @staticmethod\n",
    "\n",
    "Student.info()\n",
    "\n"
   ]
  },
  {
   "cell_type": "markdown",
   "metadata": {},
   "source": [
    "### Inner Class\n",
    "\n",
    "class:\n",
    "\n",
    " -varible\n",
    " \n",
    " -Method/ Function\n",
    " \n",
    " Class:\n",
    " \n",
    "     Class\n",
    "     \n",
    " \n",
    " ### we can create obj to inner class in outer class"
   ]
  },
  {
   "cell_type": "code",
   "execution_count": 73,
   "metadata": {},
   "outputs": [
    {
     "name": "stdout",
     "output_type": "stream",
     "text": [
      "navin 2\n",
      "navin 2\n",
      "hp i5 8\n",
      "navin 2\n",
      "hp i5 8\n"
     ]
    }
   ],
   "source": [
    "\n",
    "class Student:\n",
    "    \n",
    "    def __init__(self,name,rollno):\n",
    "        self.name=name\n",
    "        self.rollno=rollno\n",
    "        \n",
    "        # create obj for inner class\n",
    "        self.lap=self.Laptop()\n",
    "        \n",
    "    def show(self):\n",
    "        print(self.name, self.rollno)\n",
    "        self.lap.show()\n",
    "        \n",
    "    \n",
    "    class Laptop:\n",
    "        \n",
    "        def __init__(self):\n",
    "            self.brand='hp'\n",
    "            self.cpu='i5'\n",
    "            self.ram=8\n",
    "            \n",
    "        def show(self):\n",
    "            print(self.brand, self.cpu, self.ram)\n",
    "        \n",
    "        \n",
    "s1 = Student('navin',2)\n",
    "s2 = Student('Jenny', 3)\n",
    "\n",
    "\n",
    "# it not fine\n",
    "print(s1.name, s1.rollno)\n",
    "\n",
    "# this is good  \n",
    "s1.show()\n",
    "\n",
    "# assume student/user has laptop, we can make another other for laptop config or use inner class\n",
    "\n",
    "# assessing variable/ method of inner class\n",
    "\n",
    "# lap1 = s1.lap\n",
    "# lap2 = s2.lap\n",
    "\n",
    "# print(id(lap1))\n",
    "# print(id(lap2))\n",
    "\n",
    "# experimenting \n",
    "# create object of inner class outside the outsider class\n",
    "\n",
    "lap1= Student.Laptop()\n",
    "lap2 = Student.Laptop()\n",
    "\n",
    "s1.show() # method of outer class\n"
   ]
  },
  {
   "cell_type": "markdown",
   "metadata": {},
   "source": [
    "## inheritance\n",
    "-  single level inheritance\n",
    "       - class A:\n",
    "       - class B(A):\n",
    "-  multi level inheritance\n",
    "       - class A:\n",
    "       - class B(A):\n",
    "       - class C(B):          \n",
    "       A<-B<-C\n",
    "-  multiple inheritance\n",
    "    A<-C->B\n",
    "       \n",
    " \n",
    "    "
   ]
  },
  {
   "cell_type": "code",
   "execution_count": 3,
   "metadata": {},
   "outputs": [
    {
     "name": "stdout",
     "output_type": "stream",
     "text": [
      "Feature 1 working\n",
      "Feature 2 working\n"
     ]
    }
   ],
   "source": [
    "# normal class\n",
    "class A:\n",
    "    def feature1(self):\n",
    "        print(\"Feature 1 working\")\n",
    "    def feature2(self):\n",
    "        print(\"Feature 2 working\")\n",
    "\n",
    "a1=A()\n",
    "a1.feature1()\n",
    "a1.feature2()"
   ]
  },
  {
   "cell_type": "code",
   "execution_count": 13,
   "metadata": {},
   "outputs": [
    {
     "name": "stdout",
     "output_type": "stream",
     "text": [
      "Feature 1 working\n",
      "Feature 2 working\n",
      "Feature 3 working\n",
      "Feature 4 working\n",
      "Feature 2 working\n",
      "Feature 1 working\n",
      "Feature 3 working\n"
     ]
    }
   ],
   "source": [
    "# single level inheritance\n",
    "class A:\n",
    "    def feature1(self):\n",
    "        print(\"Feature 1 working\")\n",
    "    def feature2(self):\n",
    "        print(\"Feature 2 working\")\n",
    "\n",
    "class B(A):\n",
    "    def feature3(self):\n",
    "        print(\"Feature 3 working\")\n",
    "    def feature4(self):\n",
    "        print(\"Feature 4 working\")\n",
    "\n",
    "a1=A()\n",
    "a1.feature1()\n",
    "a1.feature2()  # a1 obj only feature 1 & 2\n",
    "\n",
    "b1=B()\n",
    "b1.feature3()\n",
    "b1.feature4() # b1 obj only feature 3 & 4\n",
    "\n",
    "# error 'B' object has no attribute 'feature2      b1.feature2()\n",
    "#what if we want class B have feature 1 & 2 of class A.\n",
    "# here we can use inheritance \n",
    "\n",
    "# just put A as a parameter in class B  -> class B(A)\n",
    "\n",
    "#now b1 has all features of both class\n",
    "\n",
    "b1.feature2()\n",
    "b1.feature1()\n",
    "b1.feature3()\n"
   ]
  },
  {
   "cell_type": "code",
   "execution_count": 17,
   "metadata": {},
   "outputs": [
    {
     "name": "stdout",
     "output_type": "stream",
     "text": [
      "Feature 1 working\n",
      "Feature 3 working\n",
      "Feature 5 working\n"
     ]
    }
   ],
   "source": [
    "# multilevel inheritance\n",
    "\n",
    "class A:\n",
    "    def feature1(self):\n",
    "        print(\"Feature 1 working\")\n",
    "    def feature2(self):\n",
    "        print(\"Feature 2 working\")\n",
    "\n",
    "class B(A):\n",
    "    def feature3(self):\n",
    "        print(\"Feature 3 working\")\n",
    "    def feature4(self):\n",
    "        print(\"Feature 4 working\")\n",
    "\n",
    "class C(B):\n",
    "    def feature5(self):\n",
    "        print(\"Feature 5 working\")\n",
    "        \n",
    "c1=C()\n",
    "c1.feature1()\n",
    "c1.feature3()\n",
    "c1.feature5()\n"
   ]
  },
  {
   "cell_type": "markdown",
   "metadata": {},
   "source": [
    "## constructor and Method Resolution Order (MRO)\n",
    "\n",
    "**Note: a subclass executed the init/constrctor of superclass if and only subclass does not have its own init/constructor**\n",
    "\n",
    " - if you create object of sub class it will first try find init of sub class\n",
    " - if it is not found then it will call init of super class\n",
    " \n",
    "### what if we want to executed init of super class as well while creating object( which already has init) sub class\n",
    "  - use can use *super()* function for that\n",
    "   - the inherited class is the subclass and the latter class is the parent class. \n",
    "In an inherited subclass, a parent class can be referred to with the use of the super() function. The super function returns a temporary object of the superclass that allows access to all of its methods to its child class."
   ]
  },
  {
   "cell_type": "code",
   "execution_count": 22,
   "metadata": {},
   "outputs": [
    {
     "name": "stdout",
     "output_type": "stream",
     "text": [
      "in B init\n"
     ]
    }
   ],
   "source": [
    "\n",
    "class A:\n",
    "    \n",
    "    def __init__(self):\n",
    "        print(\"in A init\")\n",
    "    def feature1(self):\n",
    "        print(\"Feature 1 working\")\n",
    "    def feature2(self):\n",
    "        print(\"Feature 2 working\")\n",
    "\n",
    "class B(A):\n",
    "    \n",
    "    def __init__(self):\n",
    "        print(\"in B init\")\n",
    "        \n",
    "    def feature3(self):\n",
    "        print(\"Feature 3 working\")\n",
    "    def feature4(self):\n",
    "        print(\"Feature 4 working\")\n",
    "\n",
    "# a1 = A() # init of class A will be executed\n",
    "\n",
    "# assume if we create object of B, still constructor/ init of A will be executed\n",
    "\n",
    "b1=B() # output-> in A init\n"
   ]
  },
  {
   "cell_type": "code",
   "execution_count": 25,
   "metadata": {},
   "outputs": [
    {
     "name": "stdout",
     "output_type": "stream",
     "text": [
      "in A init\n",
      "in B init\n"
     ]
    }
   ],
   "source": [
    "# super()\n",
    "\n",
    "# when you create object of sub class it will call init of sub class first\n",
    "# if you have call super then it will first call init of super calss then call init of sub class\n",
    "# init of sub class call the init of super class\n",
    "class A:\n",
    "    \n",
    "    def __init__(self):\n",
    "        print(\"in A init\")\n",
    "    def feature1(self):\n",
    "        print(\"Feature 1 working\")\n",
    "    def feature2(self):\n",
    "        print(\"Feature 2 working\")\n",
    "\n",
    "class B(A):\n",
    "    \n",
    "    def __init__(self):\n",
    "        \n",
    "        super().__init__()\n",
    "\n",
    "        print(\"in B init\")\n",
    "        \n",
    "    def feature3(self):\n",
    "        print(\"Feature 3 working\")\n",
    "    def feature4(self):\n",
    "        print(\"Feature 4 working\")\n",
    "        \n",
    "b1=B()"
   ]
  },
  {
   "cell_type": "code",
   "execution_count": 27,
   "metadata": {},
   "outputs": [
    {
     "ename": "TypeError",
     "evalue": "Cannot create a consistent method resolution\norder (MRO) for bases A, B",
     "output_type": "error",
     "traceback": [
      "\u001b[1;31m---------------------------------------------------------------------------\u001b[0m",
      "\u001b[1;31mTypeError\u001b[0m                                 Traceback (most recent call last)",
      "\u001b[1;32m~\\AppData\\Local\\Temp/ipykernel_4480/1139828964.py\u001b[0m in \u001b[0;36m<module>\u001b[1;34m\u001b[0m\n\u001b[0;32m     18\u001b[0m         \u001b[0mprint\u001b[0m\u001b[1;33m(\u001b[0m\u001b[1;34m\"Feature 4 working\"\u001b[0m\u001b[1;33m)\u001b[0m\u001b[1;33m\u001b[0m\u001b[1;33m\u001b[0m\u001b[0m\n\u001b[0;32m     19\u001b[0m \u001b[1;33m\u001b[0m\u001b[0m\n\u001b[1;32m---> 20\u001b[1;33m \u001b[1;32mclass\u001b[0m \u001b[0mC\u001b[0m\u001b[1;33m(\u001b[0m\u001b[0mA\u001b[0m\u001b[1;33m,\u001b[0m\u001b[0mB\u001b[0m\u001b[1;33m)\u001b[0m\u001b[1;33m:\u001b[0m\u001b[1;33m\u001b[0m\u001b[1;33m\u001b[0m\u001b[0m\n\u001b[0m\u001b[0;32m     21\u001b[0m \u001b[1;33m\u001b[0m\u001b[0m\n\u001b[0;32m     22\u001b[0m     \u001b[1;32mdef\u001b[0m \u001b[0m__init__\u001b[0m\u001b[1;33m(\u001b[0m\u001b[0mself\u001b[0m\u001b[1;33m)\u001b[0m\u001b[1;33m:\u001b[0m\u001b[1;33m\u001b[0m\u001b[1;33m\u001b[0m\u001b[0m\n",
      "\u001b[1;31mTypeError\u001b[0m: Cannot create a consistent method resolution\norder (MRO) for bases A, B"
     ]
    }
   ],
   "source": [
    "\n",
    "\n",
    "class A:\n",
    "    \n",
    "    def __init__(self):\n",
    "        print(\"in A init\")\n",
    "    def feature1(self):\n",
    "        print(\"Feature 1 working\")\n",
    "    def feature2(self):\n",
    "        print(\"Feature 2 working\")\n",
    "\n",
    "class B(A):\n",
    "    \n",
    "    def __init__(self):\n",
    "        print(\"in B init\")\n",
    "        \n",
    "    def feature3(self):\n",
    "        print(\"Feature 3 working\")\n",
    "    def feature4(self):\n",
    "        print(\"Feature 4 working\")\n",
    "        \n",
    "class C(A,B):\n",
    "    \n",
    "    def __init__(self):\n",
    "        print(\"in C init\")\n",
    "\n",
    "c1 =C()\n"
   ]
  },
  {
   "cell_type": "code",
   "execution_count": 28,
   "metadata": {},
   "outputs": [],
   "source": [
    "# to resolve it we have concept of MRO ( method resolution order)"
   ]
  },
  {
   "cell_type": "code",
   "execution_count": 30,
   "metadata": {},
   "outputs": [
    {
     "ename": "TypeError",
     "evalue": "Cannot create a consistent method resolution\norder (MRO) for bases A, B",
     "output_type": "error",
     "traceback": [
      "\u001b[1;31m---------------------------------------------------------------------------\u001b[0m",
      "\u001b[1;31mTypeError\u001b[0m                                 Traceback (most recent call last)",
      "\u001b[1;32m~\\AppData\\Local\\Temp/ipykernel_4480/2712496805.py\u001b[0m in \u001b[0;36m<module>\u001b[1;34m\u001b[0m\n\u001b[0;32m     18\u001b[0m         \u001b[0mprint\u001b[0m\u001b[1;33m(\u001b[0m\u001b[1;34m\"Feature 4 working\"\u001b[0m\u001b[1;33m)\u001b[0m\u001b[1;33m\u001b[0m\u001b[1;33m\u001b[0m\u001b[0m\n\u001b[0;32m     19\u001b[0m \u001b[1;33m\u001b[0m\u001b[0m\n\u001b[1;32m---> 20\u001b[1;33m \u001b[1;32mclass\u001b[0m \u001b[0mC\u001b[0m\u001b[1;33m(\u001b[0m\u001b[0mA\u001b[0m\u001b[1;33m,\u001b[0m\u001b[0mB\u001b[0m\u001b[1;33m)\u001b[0m\u001b[1;33m:\u001b[0m\u001b[1;33m\u001b[0m\u001b[1;33m\u001b[0m\u001b[0m\n\u001b[0m\u001b[0;32m     21\u001b[0m \u001b[1;33m\u001b[0m\u001b[0m\n\u001b[0;32m     22\u001b[0m     \u001b[1;32mdef\u001b[0m \u001b[0m__init__\u001b[0m\u001b[1;33m(\u001b[0m\u001b[0mself\u001b[0m\u001b[1;33m)\u001b[0m\u001b[1;33m:\u001b[0m\u001b[1;33m\u001b[0m\u001b[1;33m\u001b[0m\u001b[0m\n",
      "\u001b[1;31mTypeError\u001b[0m: Cannot create a consistent method resolution\norder (MRO) for bases A, B"
     ]
    }
   ],
   "source": [
    "class A:\n",
    "    \n",
    "    def __init__(self):\n",
    "        print(\"in A init\")\n",
    "    def feature1(self):\n",
    "        print(\"Feature 1 working\")\n",
    "    def feature2(self):\n",
    "        print(\"Feature 2 working\")\n",
    "\n",
    "class B(A):\n",
    "    \n",
    "    def __init__(self):\n",
    "        print(\"in B init\")\n",
    "        \n",
    "    def feature3(self):\n",
    "        print(\"Feature 3 working\")\n",
    "    def feature4(self):\n",
    "        print(\"Feature 4 working\")\n",
    "        \n",
    "class C(A,B):\n",
    "    \n",
    "    def __init__(self):\n",
    "        super().__init__()\n",
    "        print(\"in C init\")\n",
    "\n",
    "c1 =C()"
   ]
  },
  {
   "cell_type": "markdown",
   "metadata": {},
   "source": [
    "## polymorphism\n",
    "\n",
    "The word polymorphism means having many forms. In programming, polymorphism means the same function name (but different signatures) being used for different types\n",
    "\n",
    "- Duck Typing\n",
    "- Operation Overloading\n",
    "- Method Overloading\n",
    "- Method Overriding"
   ]
  },
  {
   "cell_type": "code",
   "execution_count": 31,
   "metadata": {},
   "outputs": [
    {
     "name": "stdout",
     "output_type": "stream",
     "text": [
      "5\n",
      "3\n"
     ]
    }
   ],
   "source": [
    "# inbuilt polymorphism\n",
    "\n",
    "# Python program to demonstrate in-built poly-\n",
    "# morphic functions\n",
    "\n",
    "# len() being used for a string\n",
    "print(len(\"geeks\"))\n",
    "\n",
    "# len() being used for a list\n",
    "print(len([10, 20, 30]))\n"
   ]
  },
  {
   "cell_type": "code",
   "execution_count": 32,
   "metadata": {},
   "outputs": [
    {
     "name": "stdout",
     "output_type": "stream",
     "text": [
      "5\n",
      "9\n"
     ]
    }
   ],
   "source": [
    "# user defined\n",
    "# A simple Python function to demonstrate\n",
    "# Polymorphism\n",
    "\n",
    "def add(x, y, z = 0):\n",
    "    return x + y+z\n",
    "\n",
    "# Driver code\n",
    "print(add(2, 3))\n",
    "print(add(2, 3, 4))\n"
   ]
  },
  {
   "cell_type": "code",
   "execution_count": 40,
   "metadata": {},
   "outputs": [
    {
     "name": "stdout",
     "output_type": "stream",
     "text": [
      "Spell Check\n",
      "Convention Check\n",
      "Compiling\n",
      "Running\n"
     ]
    }
   ],
   "source": [
    "# dick typing is like interface in java\n",
    "\n",
    "# duck test: if it looks like a duck, swins like a duck, and quacks like a duck, then it probably is a duck\n",
    "\n",
    "x = 5\n",
    "x = 'deepak'\n",
    "\n",
    "# x is not a type, it just name given in memory\n",
    "\n",
    "class Jupyter:\n",
    "    def execute(self):\n",
    "        print(\"Compiling\")\n",
    "        print(\"Running\")\n",
    "\n",
    "class MyEditor:\n",
    "    def execute(self):\n",
    "        print(\"Spell Check\")\n",
    "        print(\"Convention Check\")\n",
    "        print(\"Compiling\")\n",
    "        print(\"Running\")\n",
    "        \n",
    "class Laptop:\n",
    "    \n",
    "    def code(self,ide):\n",
    "        ide.execute()\n",
    "        # execute() func present in MyEditor and Jupyter class both\n",
    "        # response to ide variable\n",
    "        \n",
    "\n",
    "# ide = Jupyter()  # -> Compiling Running\n",
    "\n",
    "ide = MyEditor()\n",
    "\n",
    "\n",
    "lap1 = Laptop()\n",
    "lap1.code(ide)\n",
    "        "
   ]
  },
  {
   "cell_type": "code",
   "execution_count": null,
   "metadata": {},
   "outputs": [],
   "source": []
  },
  {
   "cell_type": "code",
   "execution_count": null,
   "metadata": {},
   "outputs": [],
   "source": []
  },
  {
   "cell_type": "code",
   "execution_count": null,
   "metadata": {},
   "outputs": [],
   "source": []
  }
 ],
 "metadata": {
  "kernelspec": {
   "display_name": "Python 3 (ipykernel)",
   "language": "python",
   "name": "python3"
  },
  "language_info": {
   "codemirror_mode": {
    "name": "ipython",
    "version": 3
   },
   "file_extension": ".py",
   "mimetype": "text/x-python",
   "name": "python",
   "nbconvert_exporter": "python",
   "pygments_lexer": "ipython3",
   "version": "3.9.7"
  }
 },
 "nbformat": 4,
 "nbformat_minor": 2
}
